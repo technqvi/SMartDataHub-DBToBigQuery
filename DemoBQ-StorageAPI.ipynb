{
 "cells": [
  {
   "cell_type": "code",
   "execution_count": 93,
   "id": "03048424-3a15-4805-b03f-db8b95be7bd0",
   "metadata": {
    "tags": []
   },
   "outputs": [],
   "source": [
    "import bq_storage_api.viewdb_to_bq  as x\n",
    "import bq_storage_api.incident_data_pb2 as pb2_incident\n",
    "from datetime import datetime"
   ]
  },
  {
   "cell_type": "code",
   "execution_count": 94,
   "id": "304460e7-16fb-4747-9135-2e953bba8b15",
   "metadata": {
    "tags": []
   },
   "outputs": [],
   "source": [
    "listColumns= [\"incident_id\"\n",
    "              ,\"inventory_id\"\n",
    "              ,\"incident_type\"\n",
    "              ,\"service_type\"\n",
    "              ,\"severity\"\n",
    "              ,\"status\"\n",
    "              ,\"open_datetime\",\n",
    "              \"close_datetime\"\n",
    "              ,\"update_at\"\n",
    "              ,\"_CHANGE_TYPE\"]\n",
    "pb2_data=pb2_incident.IncidentData()\n",
    "json_data_file=\"bq_storage_api/incident.json\"\n",
    "\n",
    "projectId=\"pongthorn\"\n",
    "main_dataset_id='SMartDataAnalytics'\n",
    "table_name=\"incident\""
   ]
  },
  {
   "cell_type": "code",
   "execution_count": 95,
   "id": "73580b27-23c0-45d4-b65d-3d32b9f9e395",
   "metadata": {
    "tags": []
   },
   "outputs": [
    {
     "data": {
      "text/plain": [
       "[{'incident_id': 4302,\n",
       "  'inventory_id': 9594,\n",
       "  'incident_type': 'Network Adapter Failure',\n",
       "  'service_type': 'Incident',\n",
       "  'severity': 'Minor',\n",
       "  'status': 'Open',\n",
       "  'open_datetime': 1703645700000000,\n",
       "  'close_datetime': 1704222000000000,\n",
       "  'update_at': 1704973437000000,\n",
       "  '_CHANGE_TYPE': 'UPSERT'},\n",
       " {'incident_id': 4303,\n",
       "  'inventory_id': 17974,\n",
       "  'incident_type': 'General Incident',\n",
       "  'service_type': 'Request',\n",
       "  'severity': 'Cosmetic',\n",
       "  'status': 'In Progress',\n",
       "  'open_datetime': 1704247200000000,\n",
       "  'close_datetime': 1704258000000000,\n",
       "  'update_at': 1704973437000000,\n",
       "  '_CHANGE_TYPE': 'UPSERT'},\n",
       " {'incident_id': 4298,\n",
       "  'inventory_id': 12306,\n",
       "  'incident_type': 'General Incident',\n",
       "  'service_type': 'Incident',\n",
       "  'severity': 'Major',\n",
       "  'status': 'Open',\n",
       "  'open_datetime': 1703912880000000,\n",
       "  'close_datetime': 1703916000000000,\n",
       "  'update_at': 1704973437000000,\n",
       "  '_CHANGE_TYPE': 'UPSERT'},\n",
       " {'incident_id': 4299,\n",
       "  'inventory_id': 12306,\n",
       "  'incident_type': 'General Incident',\n",
       "  'service_type': 'Incident',\n",
       "  'severity': 'Major',\n",
       "  'status': 'Open',\n",
       "  'open_datetime': 1703935200000000,\n",
       "  'close_datetime': 1703937600000000,\n",
       "  'update_at': 1704973437000000,\n",
       "  '_CHANGE_TYPE': 'UPSERT'},\n",
       " {'incident_id': 4301,\n",
       "  'inventory_id': 19244,\n",
       "  'incident_type': 'Maintenance System',\n",
       "  'service_type': 'Request',\n",
       "  'severity': 'Cosmetic',\n",
       "  'status': 'In Progress',\n",
       "  'open_datetime': 1704206940000000,\n",
       "  'close_datetime': 0,\n",
       "  'update_at': 1704973437000000,\n",
       "  '_CHANGE_TYPE': 'UPSERT'},\n",
       " {'incident_id': 4304,\n",
       "  'inventory_id': 12305,\n",
       "  'incident_type': 'General Incident',\n",
       "  'service_type': 'Incident',\n",
       "  'severity': 'Major',\n",
       "  'status': 'Open',\n",
       "  'open_datetime': 1704249840000000,\n",
       "  'close_datetime': 1704252000000000,\n",
       "  'update_at': 1704973437000000,\n",
       "  '_CHANGE_TYPE': 'UPSERT'},\n",
       " {'incident_id': 4305,\n",
       "  'inventory_id': 19211,\n",
       "  'incident_type': 'Software',\n",
       "  'service_type': 'Incident',\n",
       "  'severity': 'Major',\n",
       "  'status': 'Open',\n",
       "  'open_datetime': 1704646800000000,\n",
       "  'close_datetime': 0,\n",
       "  'update_at': 1704973437000000,\n",
       "  '_CHANGE_TYPE': 'UPSERT'},\n",
       " {'incident_id': 4300,\n",
       "  'inventory_id': 993,\n",
       "  'incident_type': 'Software',\n",
       "  'service_type': 'Incident',\n",
       "  'severity': 'Major',\n",
       "  'status': 'Open',\n",
       "  'open_datetime': 1704175200000000,\n",
       "  'close_datetime': 0,\n",
       "  'update_at': 1704973437000000,\n",
       "  '_CHANGE_TYPE': 'UPSERT'}]"
      ]
     },
     "execution_count": 95,
     "metadata": {},
     "output_type": "execute_result"
    }
   ],
   "source": [
    "import json\n",
    " \n",
    "# Opening JSON file\n",
    "f = open(json_data_file)\n",
    " \n",
    "# returns JSON object as \n",
    "# a dictionary\n",
    "data = json.load(f)\n",
    "data"
   ]
  },
  {
   "cell_type": "code",
   "execution_count": 96,
   "id": "f9d4ce64-679a-4be8-9f7b-78539c7978bd",
   "metadata": {
    "tags": []
   },
   "outputs": [
    {
     "name": "stdout",
     "output_type": "stream",
     "text": [
      "Rows to table: 'projects/pongthorn/datasets/SMartDataAnalytics/tables/incident' have been written.\n"
     ]
    },
    {
     "data": {
      "text/plain": [
       "True"
      ]
     },
     "execution_count": 96,
     "metadata": {},
     "output_type": "execute_result"
    }
   ],
   "source": [
    "x.write_json_to_bq(listColumns=listColumns,\n",
    "                              x_data_pb2=pb2_data,\n",
    "                              json_data_file=json_data_file,\n",
    "                              project_name=projectId,\n",
    "                              dataset_name=main_dataset_id,\n",
    "                              table_name=table_name)\n",
    "                              \n",
    "                              "
   ]
  },
  {
   "cell_type": "code",
   "execution_count": null,
   "id": "ff55a153-17e9-466f-a821-8c163716151d",
   "metadata": {},
   "outputs": [],
   "source": []
  },
  {
   "cell_type": "code",
   "execution_count": null,
   "id": "837255c9-72d1-43f1-bd2e-b2b3e1d639e1",
   "metadata": {},
   "outputs": [],
   "source": []
  },
  {
   "cell_type": "code",
   "execution_count": null,
   "id": "af8b5528-2919-400f-9a4d-023cc5dc6ef1",
   "metadata": {},
   "outputs": [],
   "source": []
  }
 ],
 "metadata": {
  "kernelspec": {
   "display_name": "Python 3 (ipykernel)",
   "language": "python",
   "name": "python3"
  },
  "language_info": {
   "codemirror_mode": {
    "name": "ipython",
    "version": 3
   },
   "file_extension": ".py",
   "mimetype": "text/x-python",
   "name": "python",
   "nbconvert_exporter": "python",
   "pygments_lexer": "ipython3",
   "version": "3.10.12"
  }
 },
 "nbformat": 4,
 "nbformat_minor": 5
}
