{
 "cells": [
  {
   "cell_type": "code",
   "execution_count": 73,
   "id": "03048424-3a15-4805-b03f-db8b95be7bd0",
   "metadata": {
    "tags": []
   },
   "outputs": [],
   "source": [
    "import bq_storage_api.viewdb_to_bq  as x\n",
    "import bq_storage_api.incident_data_pb2 as pb2_incident\n",
    "from datetime import datetime"
   ]
  },
  {
   "cell_type": "code",
   "execution_count": 74,
   "id": "304460e7-16fb-4747-9135-2e953bba8b15",
   "metadata": {
    "tags": []
   },
   "outputs": [],
   "source": [
    "listColumns= [\"incident_id\"\n",
    "              ,\"inventory_id\"\n",
    "              ,\"incident_type\"\n",
    "              ,\"service_type\"\n",
    "              ,\"severity\"\n",
    "              ,\"status\"\n",
    "              ,\"open_datetime\",\n",
    "              \"close_datetime\"\n",
    "              ,\"update_at\"\n",
    "              ,\"_CHANGE_TYPE\"]\n",
    "pb2_data=pb2_incident.IncidentData()\n",
    "json_data_file=\"bq_storage_api/incident.json\"\n",
    "\n",
    "projectId=\"pongthorn\"\n",
    "main_dataset_id='SMartDataAnalytics'\n",
    "table_name=\"incident\""
   ]
  },
  {
   "cell_type": "code",
   "execution_count": 75,
   "id": "73580b27-23c0-45d4-b65d-3d32b9f9e395",
   "metadata": {
    "tags": []
   },
   "outputs": [
    {
     "data": {
      "text/plain": [
       "[{'incident_id': 4302,\n",
       "  'inventory_id': 9594,\n",
       "  'incident_type': 'Network Adapter Failure',\n",
       "  'service_type': 'Incident',\n",
       "  'severity': 'Minor',\n",
       "  'status': 'Open',\n",
       "  'open_datetime': 1703670900000000,\n",
       "  'close_datetime': 1704247200000000,\n",
       "  'update_at': 1704969356000000,\n",
       "  '_CHANGE_TYPE': 'UPSERT'},\n",
       " {'incident_id': 4303,\n",
       "  'inventory_id': 17974,\n",
       "  'incident_type': 'General Incident',\n",
       "  'service_type': 'Request',\n",
       "  'severity': 'Cosmetic',\n",
       "  'status': 'In Progress',\n",
       "  'open_datetime': 1704272400000000,\n",
       "  'close_datetime': 1704283200000000,\n",
       "  'update_at': 1704969356000000,\n",
       "  '_CHANGE_TYPE': 'UPSERT'},\n",
       " {'incident_id': 4298,\n",
       "  'inventory_id': 12306,\n",
       "  'incident_type': 'General Incident',\n",
       "  'service_type': 'Incident',\n",
       "  'severity': 'Major',\n",
       "  'status': 'Open',\n",
       "  'open_datetime': 1703938080000000,\n",
       "  'close_datetime': 1703941200000000,\n",
       "  'update_at': 1704969356000000,\n",
       "  '_CHANGE_TYPE': 'UPSERT'},\n",
       " {'incident_id': 4299,\n",
       "  'inventory_id': 12306,\n",
       "  'incident_type': 'General Incident',\n",
       "  'service_type': 'Incident',\n",
       "  'severity': 'Major',\n",
       "  'status': 'Open',\n",
       "  'open_datetime': 1703960400000000,\n",
       "  'close_datetime': 1703962800000000,\n",
       "  'update_at': 1704969356000000,\n",
       "  '_CHANGE_TYPE': 'UPSERT'},\n",
       " {'incident_id': 4301,\n",
       "  'inventory_id': 19244,\n",
       "  'incident_type': 'Maintenance System',\n",
       "  'service_type': 'Request',\n",
       "  'severity': 'Cosmetic',\n",
       "  'status': 'In Progress',\n",
       "  'open_datetime': 1704232140000000,\n",
       "  'close_datetime': 0,\n",
       "  'update_at': 1704969356000000,\n",
       "  '_CHANGE_TYPE': 'UPSERT'},\n",
       " {'incident_id': 4304,\n",
       "  'inventory_id': 12305,\n",
       "  'incident_type': 'General Incident',\n",
       "  'service_type': 'Incident',\n",
       "  'severity': 'Major',\n",
       "  'status': 'Open',\n",
       "  'open_datetime': 1704275040000000,\n",
       "  'close_datetime': 1704277200000000,\n",
       "  'update_at': 1704969356000000,\n",
       "  '_CHANGE_TYPE': 'UPSERT'},\n",
       " {'incident_id': 4305,\n",
       "  'inventory_id': 19211,\n",
       "  'incident_type': 'Software',\n",
       "  'service_type': 'Incident',\n",
       "  'severity': 'Major',\n",
       "  'status': 'Open',\n",
       "  'open_datetime': 1704672000000000,\n",
       "  'close_datetime': 0,\n",
       "  'update_at': 1704969356000000,\n",
       "  '_CHANGE_TYPE': 'UPSERT'},\n",
       " {'incident_id': 4300,\n",
       "  'inventory_id': 993,\n",
       "  'incident_type': 'Software',\n",
       "  'service_type': 'Incident',\n",
       "  'severity': 'Major',\n",
       "  'status': 'Open',\n",
       "  'open_datetime': 1704200400000000,\n",
       "  'close_datetime': 0,\n",
       "  'update_at': 1704969356000000,\n",
       "  '_CHANGE_TYPE': 'UPSERT'}]"
      ]
     },
     "execution_count": 75,
     "metadata": {},
     "output_type": "execute_result"
    }
   ],
   "source": [
    "import json\n",
    " \n",
    "# Opening JSON file\n",
    "f = open(json_data_file)\n",
    " \n",
    "# returns JSON object as \n",
    "# a dictionary\n",
    "data = json.load(f)\n",
    "data"
   ]
  },
  {
   "cell_type": "code",
   "execution_count": 76,
   "id": "f9d4ce64-679a-4be8-9f7b-78539c7978bd",
   "metadata": {
    "tags": []
   },
   "outputs": [
    {
     "name": "stdout",
     "output_type": "stream",
     "text": [
      "Rows to table: 'projects/pongthorn/datasets/SMartDataAnalytics/tables/incident' have been written.\n"
     ]
    },
    {
     "data": {
      "text/plain": [
       "True"
      ]
     },
     "execution_count": 76,
     "metadata": {},
     "output_type": "execute_result"
    }
   ],
   "source": [
    "x.write_json_to_bq(listColumns=listColumns,\n",
    "                              x_data_pb2=pb2_data,\n",
    "                              json_data_file=json_data_file,\n",
    "                              project_name=projectId,\n",
    "                              dataset_name=main_dataset_id,\n",
    "                              table_name=table_name)\n",
    "                              \n",
    "                              "
   ]
  },
  {
   "cell_type": "code",
   "execution_count": null,
   "id": "d0abe25b-91c8-42bc-8c09-c77153bd1f59",
   "metadata": {
    "tags": []
   },
   "outputs": [],
   "source": [
    "# Get the current date and time\n",
    "\n",
    "\n",
    "# print(dt)\n",
    "# print(type(dt))\n",
    "\n",
    "# dt_timestamp = int(dt.timestamp())\n",
    "# print(dt_timestamp)\n",
    "# # # Convert the date and time to an integer using the timestamp() method\n",
    "\n",
    "# now = datetime.now()\n",
    "\n",
    "# # Convert the date and time to an integer using the timestamp() method\n",
    "# timestamp = int(now.timestamp())\n",
    "\n",
    "# # Print the integer value\n",
    "# print(timestamp)\n",
    "\n",
    "# # https://www.tutorialspoint.com/how-to-convert-datetime-to-an-integer-in-python#:~:text=An%20alternative%20method%20for%20converting,using%20the%20int()%20function."
   ]
  },
  {
   "cell_type": "code",
   "execution_count": 72,
   "id": "09b1b8fe-9517-4982-a4c0-d5e1c92d8911",
   "metadata": {
    "tags": []
   },
   "outputs": [
    {
     "data": {
      "text/plain": [
       "1704902400000000"
      ]
     },
     "execution_count": 72,
     "metadata": {},
     "output_type": "execute_result"
    }
   ],
   "source": [
    "# #https://stackoverflow.com/questions/62315295/convert-datetime-to-protobuf-timestamp-in-python\n",
    "from google.protobuf.timestamp_pb2 import Timestamp\n",
    "import datetime\n",
    "\n",
    "dt_str=\"2024-01-10 16:0:00\"\n",
    "dt=datetime.datetime.strptime(dt_str,\"%Y-%m-%d %H:%M:%S\")\n",
    "x_timestamp = Timestamp()\n",
    "x_timestamp.FromDatetime(dt)\n",
    "\n",
    "micro_x =x_timestamp.ToMicroseconds()\n",
    "micro_x\n"
   ]
  },
  {
   "cell_type": "code",
   "execution_count": 39,
   "id": "7b6079a6-6df9-4c89-bee1-4ffc2378a960",
   "metadata": {
    "tags": []
   },
   "outputs": [
    {
     "data": {
      "text/plain": [
       "1704977471527884"
      ]
     },
     "execution_count": 39,
     "metadata": {},
     "output_type": "execute_result"
    }
   ],
   "source": [
    "now = datetime.datetime.now()\n",
    "timestamp = Timestamp()\n",
    "timestamp.FromDatetime(now)\n",
    "# print(timestamp)\n",
    "\n",
    "micro_timestamp =timestamp.ToMicroseconds()\n",
    "micro_timestamp\n",
    "#https://googleapis.dev/python/protobuf/latest/google/protobuf/timestamp_pb2.html"
   ]
  },
  {
   "cell_type": "code",
   "execution_count": null,
   "id": "7985bdee-9365-4ceb-a073-4add5de0bae4",
   "metadata": {},
   "outputs": [],
   "source": []
  },
  {
   "cell_type": "code",
   "execution_count": null,
   "id": "ff55a153-17e9-466f-a821-8c163716151d",
   "metadata": {},
   "outputs": [],
   "source": []
  }
 ],
 "metadata": {
  "kernelspec": {
   "display_name": "Python 3 (ipykernel)",
   "language": "python",
   "name": "python3"
  },
  "language_info": {
   "codemirror_mode": {
    "name": "ipython",
    "version": 3
   },
   "file_extension": ".py",
   "mimetype": "text/x-python",
   "name": "python",
   "nbconvert_exporter": "python",
   "pygments_lexer": "ipython3",
   "version": "3.10.12"
  }
 },
 "nbformat": 4,
 "nbformat_minor": 5
}
