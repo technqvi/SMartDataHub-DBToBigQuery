{
 "cells": [
  {
   "cell_type": "code",
   "execution_count": 7,
   "id": "03048424-3a15-4805-b03f-db8b95be7bd0",
   "metadata": {
    "tags": []
   },
   "outputs": [],
   "source": [
    "import bq_storage_api.viewdb_to_bq  as x\n",
    "import bq_storage_api.incident_data_pb2 as pb2_incident\n",
    "from datetime import datetime"
   ]
  },
  {
   "cell_type": "code",
   "execution_count": 8,
   "id": "304460e7-16fb-4747-9135-2e953bba8b15",
   "metadata": {
    "tags": []
   },
   "outputs": [],
   "source": [
    "listColumns= [\"incident_id\"\n",
    "              ,\"inventory_id\"\n",
    "              ,\"incident_type\"\n",
    "              ,\"service_type\"\n",
    "              ,\"severity\"\n",
    "              ,\"status\"\n",
    "              ,\"open_datetime\",\n",
    "              \"close_datetime\"\n",
    "              ,\"update_at\"\n",
    "              ,\"_CHANGE_TYPE\"]\n",
    "pb2_data=pb2_incident.IncidentData()\n",
    "json_data_file=\"bq_storage_api/incident_upsert.json\"\n",
    "\n",
    "projectId=\"pongthorn\"\n",
    "main_dataset_id='SMartDataAnalytics'\n",
    "table_name=\"incident\""
   ]
  },
  {
   "cell_type": "code",
   "execution_count": 9,
   "id": "73580b27-23c0-45d4-b65d-3d32b9f9e395",
   "metadata": {
    "tags": []
   },
   "outputs": [
    {
     "data": {
      "text/plain": [
       "[{'incident_id': 4306,\n",
       "  'inventory_id': 993.0,\n",
       "  'incident_type': 'Software',\n",
       "  'service_type': 'Request',\n",
       "  'severity': 'Critical',\n",
       "  'status': 'In Progress',\n",
       "  'open_datetime': '2024-01-11 02:30',\n",
       "  'close_datetime': None,\n",
       "  'update_at': 1704979370000000,\n",
       "  '_CHANGE_TYPE': 'UPSERT'}]"
      ]
     },
     "execution_count": 9,
     "metadata": {},
     "output_type": "execute_result"
    }
   ],
   "source": [
    "import json\n",
    " \n",
    "# Opening JSON file\n",
    "f = open(json_data_file)\n",
    " \n",
    "# returns JSON object as \n",
    "# a dictionary\n",
    "data = json.load(f)\n",
    "data"
   ]
  },
  {
   "cell_type": "code",
   "execution_count": 10,
   "id": "f9d4ce64-679a-4be8-9f7b-78539c7978bd",
   "metadata": {
    "tags": []
   },
   "outputs": [
    {
     "ename": "TypeError",
     "evalue": "993.0 has type float, but expected one of: int",
     "output_type": "error",
     "traceback": [
      "\u001b[1;31m---------------------------------------------------------------------------\u001b[0m",
      "\u001b[1;31mTypeError\u001b[0m                                 Traceback (most recent call last)",
      "Cell \u001b[1;32mIn[10], line 1\u001b[0m\n\u001b[1;32m----> 1\u001b[0m \u001b[43mx\u001b[49m\u001b[38;5;241;43m.\u001b[39;49m\u001b[43mwrite_json_to_bq\u001b[49m\u001b[43m(\u001b[49m\u001b[43mlistColumns\u001b[49m\u001b[38;5;241;43m=\u001b[39;49m\u001b[43mlistColumns\u001b[49m\u001b[43m,\u001b[49m\n\u001b[0;32m      2\u001b[0m \u001b[43m                              \u001b[49m\u001b[43mx_data_pb2\u001b[49m\u001b[38;5;241;43m=\u001b[39;49m\u001b[43mpb2_data\u001b[49m\u001b[43m,\u001b[49m\n\u001b[0;32m      3\u001b[0m \u001b[43m                              \u001b[49m\u001b[43mjson_data_file\u001b[49m\u001b[38;5;241;43m=\u001b[39;49m\u001b[43mjson_data_file\u001b[49m\u001b[43m,\u001b[49m\n\u001b[0;32m      4\u001b[0m \u001b[43m                              \u001b[49m\u001b[43mproject_name\u001b[49m\u001b[38;5;241;43m=\u001b[39;49m\u001b[43mprojectId\u001b[49m\u001b[43m,\u001b[49m\n\u001b[0;32m      5\u001b[0m \u001b[43m                              \u001b[49m\u001b[43mdataset_name\u001b[49m\u001b[38;5;241;43m=\u001b[39;49m\u001b[43mmain_dataset_id\u001b[49m\u001b[43m,\u001b[49m\n\u001b[0;32m      6\u001b[0m \u001b[43m                              \u001b[49m\u001b[43mtable_name\u001b[49m\u001b[38;5;241;43m=\u001b[39;49m\u001b[43mtable_name\u001b[49m\u001b[43m)\u001b[49m\n",
      "File \u001b[1;32mD:\\PythonDev\\MyQuantFinProject\\SMartDataHub-DBToBigQuery\\bq_storage_api\\viewdb_to_bq.py:86\u001b[0m, in \u001b[0;36mwrite_json_to_bq\u001b[1;34m(listColumns, x_data_pb2, json_data_file, project_name, dataset_name, table_name)\u001b[0m\n\u001b[0;32m     84\u001b[0m \u001b[38;5;28;01mwith\u001b[39;00m \u001b[38;5;28mopen\u001b[39m(json_data_file,\u001b[38;5;124m'\u001b[39m\u001b[38;5;124mr\u001b[39m\u001b[38;5;124m'\u001b[39m) \u001b[38;5;28;01mas\u001b[39;00m json_file:\n\u001b[0;32m     85\u001b[0m     data \u001b[38;5;241m=\u001b[39m json\u001b[38;5;241m.\u001b[39mload(json_file)\n\u001b[1;32m---> 86\u001b[0m \u001b[43mBigQueryStorageWriteAppend\u001b[49m\u001b[38;5;241;43m.\u001b[39;49m\u001b[43mappend_rows_proto2\u001b[49m\u001b[43m(\u001b[49m\u001b[43mproject_name\u001b[49m\u001b[43m,\u001b[49m\u001b[43mdataset_name\u001b[49m\u001b[43m,\u001b[49m\u001b[43mtable_name\u001b[49m\u001b[43m,\u001b[49m\u001b[43mdata\u001b[49m\u001b[38;5;241;43m=\u001b[39;49m\u001b[43mdata\u001b[49m\u001b[43m)\u001b[49m \n\u001b[0;32m     87\u001b[0m \u001b[38;5;66;03m# Change this to your specific BigQuery project, dataset, table details\u001b[39;00m\n\u001b[0;32m     88\u001b[0m \u001b[38;5;28;01mreturn\u001b[39;00m \u001b[38;5;28;01mTrue\u001b[39;00m\n",
      "File \u001b[1;32mD:\\PythonDev\\MyQuantFinProject\\SMartDataHub-DBToBigQuery\\bq_storage_api\\viewdb_to_bq.py:72\u001b[0m, in \u001b[0;36mwrite_json_to_bq.<locals>.BigQueryStorageWriteAppend.append_rows_proto2\u001b[1;34m(project_id, dataset_id, table_id, data)\u001b[0m\n\u001b[0;32m     70\u001b[0m proto_rows \u001b[38;5;241m=\u001b[39m types\u001b[38;5;241m.\u001b[39mProtoRows()\n\u001b[0;32m     71\u001b[0m \u001b[38;5;28;01mfor\u001b[39;00m row \u001b[38;5;129;01min\u001b[39;00m data:\n\u001b[1;32m---> 72\u001b[0m     proto_rows\u001b[38;5;241m.\u001b[39mserialized_rows\u001b[38;5;241m.\u001b[39mappend(\u001b[43mcreate_row_data\u001b[49m\u001b[43m(\u001b[49m\u001b[43mrow\u001b[49m\u001b[43m)\u001b[49m)\n\u001b[0;32m     74\u001b[0m \u001b[38;5;66;03m# Appends data to the given stream.\u001b[39;00m\n\u001b[0;32m     75\u001b[0m request \u001b[38;5;241m=\u001b[39m types\u001b[38;5;241m.\u001b[39mAppendRowsRequest()\n",
      "File \u001b[1;32mD:\\PythonDev\\MyQuantFinProject\\SMartDataHub-DBToBigQuery\\bq_storage_api\\viewdb_to_bq.py:30\u001b[0m, in \u001b[0;36mwrite_json_to_bq.<locals>.create_row_data\u001b[1;34m(data)\u001b[0m\n\u001b[0;32m     26\u001b[0m \u001b[38;5;28;01mfor\u001b[39;00m field \u001b[38;5;129;01min\u001b[39;00m FIELDS_TO_CHECK:\n\u001b[0;32m     27\u001b[0m   \u001b[38;5;66;03m# This IF statement is particularly useful when optional fields aren't provided and thus are passed\u001b[39;00m\n\u001b[0;32m     28\u001b[0m   \u001b[38;5;66;03m# as null values to BigQuery.\u001b[39;00m\n\u001b[0;32m     29\u001b[0m   \u001b[38;5;28;01mif\u001b[39;00m field \u001b[38;5;129;01min\u001b[39;00m data:\n\u001b[1;32m---> 30\u001b[0m     \u001b[38;5;28;43msetattr\u001b[39;49m\u001b[43m(\u001b[49m\u001b[43mrow\u001b[49m\u001b[43m,\u001b[49m\u001b[43m \u001b[49m\u001b[43mfield\u001b[49m\u001b[43m,\u001b[49m\u001b[43m \u001b[49m\u001b[43mdata\u001b[49m\u001b[43m[\u001b[49m\u001b[43mfield\u001b[49m\u001b[43m]\u001b[49m\u001b[43m)\u001b[49m\n\u001b[0;32m     31\u001b[0m \u001b[38;5;28;01mreturn\u001b[39;00m row\u001b[38;5;241m.\u001b[39mSerializeToString()\n",
      "\u001b[1;31mTypeError\u001b[0m: 993.0 has type float, but expected one of: int"
     ]
    }
   ],
   "source": [
    "x.write_json_to_bq(listColumns=listColumns,\n",
    "                              x_data_pb2=pb2_data,\n",
    "                              json_data_file=json_data_file,\n",
    "                              project_name=projectId,\n",
    "                              dataset_name=main_dataset_id,\n",
    "                              table_name=table_name)\n",
    "                              \n",
    "                              "
   ]
  },
  {
   "cell_type": "code",
   "execution_count": null,
   "id": "ff55a153-17e9-466f-a821-8c163716151d",
   "metadata": {},
   "outputs": [],
   "source": []
  },
  {
   "cell_type": "code",
   "execution_count": null,
   "id": "837255c9-72d1-43f1-bd2e-b2b3e1d639e1",
   "metadata": {},
   "outputs": [],
   "source": []
  },
  {
   "cell_type": "code",
   "execution_count": null,
   "id": "af8b5528-2919-400f-9a4d-023cc5dc6ef1",
   "metadata": {},
   "outputs": [],
   "source": []
  }
 ],
 "metadata": {
  "kernelspec": {
   "display_name": "Python 3 (ipykernel)",
   "language": "python",
   "name": "python3"
  },
  "language_info": {
   "codemirror_mode": {
    "name": "ipython",
    "version": 3
   },
   "file_extension": ".py",
   "mimetype": "text/x-python",
   "name": "python",
   "nbconvert_exporter": "python",
   "pygments_lexer": "ipython3",
   "version": "3.10.12"
  }
 },
 "nbformat": 4,
 "nbformat_minor": 5
}
