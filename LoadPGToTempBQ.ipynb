{
 "cells": [
  {
   "cell_type": "markdown",
   "metadata": {},
   "source": [
    "# Imported Library"
   ]
  },
  {
   "cell_type": "code",
   "execution_count": 68,
   "metadata": {
    "tags": []
   },
   "outputs": [],
   "source": [
    "import psycopg2\n",
    "from psycopg2 import sql\n",
    "import psycopg2.extras as extras\n",
    "import pandas as pd\n",
    "import json\n",
    "from datetime import datetime,timezone\n",
    "import time\n",
    "from dateutil import tz\n",
    "\n",
    "import os\n",
    "import sys \n",
    "\n",
    "import pandas as pd\n",
    "import numpy as np\n",
    "from datetime import datetime \n",
    "from google.cloud import bigquery\n",
    "from google.oauth2 import service_account\n",
    "from google.cloud.exceptions import NotFound\n",
    "from google.api_core.exceptions import BadRequest\n",
    "import os\n",
    "import sys \n",
    "import shutil\n",
    "\n",
    "import CheckDataCons_DB_BQ as check_data  \n",
    "\n",
    "import sqlite3\n",
    "\n",
    "from configupdater import ConfigUpdater\n",
    "# pip install ConfigUpdater\n",
    "\n",
    "from dotenv import dotenv_values\n",
    "\n",
    "\n",
    "import bq_storage_api.incident_data_pb2 as pb2_incident\n",
    "\n"
   ]
  },
  {
   "cell_type": "code",
   "execution_count": 69,
   "metadata": {
    "tags": []
   },
   "outputs": [],
   "source": [
    "\n",
    "check_consistency=True\n",
    "time_wait_for_bq=60\n",
    "is_py=False\n",
    "\n",
    "# pmr_ for merg and xyz_ for bq-storage-api\n",
    "way=\"merge\" # 1=\"merge\"  or \"bq-storage-api\"\n",
    "view_name = \"pmr_project\"\n",
    "\n",
    "# way=\"merge\" \n",
    "# view_name = \"pmr_pm_plan\"\n"
   ]
  },
  {
   "cell_type": "code",
   "execution_count": 70,
   "metadata": {
    "tags": []
   },
   "outputs": [
    {
     "name": "stdout",
     "output_type": "stream",
     "text": [
      "View name to load to BQ :pmr_project\n"
     ]
    }
   ],
   "source": [
    "isFirstLoad=False\n",
    "                             \n",
    "\n",
    "if is_py:\n",
    "    press_Y=''\n",
    "    ok=False\n",
    "\n",
    "    if len(sys.argv) > 1:\n",
    "        view_name=sys.argv[1]\n",
    "    else:\n",
    "        print(\"Enter the following input: \")\n",
    "        view_name = input(\"View Table Name : \")\n",
    "print(f\"View name to load to BQ :{view_name}\")"
   ]
  },
  {
   "cell_type": "markdown",
   "metadata": {},
   "source": [
    "# Imported date"
   ]
  },
  {
   "cell_type": "code",
   "execution_count": 71,
   "metadata": {
    "tags": []
   },
   "outputs": [
    {
     "name": "stdout",
     "output_type": "stream",
     "text": [
      "UTC: 2024-01-14 15:49:10 For This Import\n"
     ]
    }
   ],
   "source": [
    "dt_imported=datetime.now(timezone.utc) # utc\n",
    "dt_imported=datetime.strptime(dt_imported.strftime(\"%Y-%m-%d %H:%M:%S\"),\"%Y-%m-%d %H:%M:%S\")\n",
    "print(f\"UTC: {dt_imported} For This Import\")\n",
    "\n",
    "str_dt_imported=dt_imported.strftime(\"%Y-%m-%d %H:%M:%S\")\n"
   ]
  },
  {
   "cell_type": "markdown",
   "metadata": {},
   "source": [
    "# Set view data and log table and protocolbuffers"
   ]
  },
  {
   "cell_type": "code",
   "execution_count": 72,
   "metadata": {
    "tags": []
   },
   "outputs": [
    {
     "name": "stdout",
     "output_type": "stream",
     "text": [
      "7  -  project_id\n"
     ]
    }
   ],
   "source": [
    "log = \"models_logging_change\"\n",
    "data_name=view_name.replace(\"pmr_\",\"\").replace(\"xyz_\",\"\")\n",
    "data_pb2=None\n",
    "sp=f\"merge_{data_name}\"\n",
    "\n",
    "def get_process_configuration_data(view_name):\n",
    "    \n",
    "    x_data_pb2=None\n",
    "    if view_name == \"pmr_pm_plan\":\n",
    "        tableContentID = 36\n",
    "        key_name = \"pm_id\"\n",
    "        changed_field_mapping=['planned_date','ended_pm_date',\n",
    "                               'project_id','remark','team_lead_id']\n",
    "\n",
    "    elif view_name == \"pmr_pm_item\":\n",
    "        tableContentID = 37\n",
    "        key_name = \"pm_item_id\"\n",
    "\n",
    "    elif view_name == \"pmr_project\":\n",
    "        tableContentID = 7\n",
    "        key_name = \"project_id\"\n",
    "\n",
    "    elif view_name == \"pmr_inventory\":\n",
    "        tableContentID = 14\n",
    "        key_name = \"inventory_id\"\n",
    "        \n",
    "    elif view_name == \"xyz_incident\":\n",
    "        tableContentID = 18\n",
    "        key_name = \"incident_id\"   \n",
    "        x_data_pb2=pb2_incident.IncidentData()\n",
    "\n",
    "    else:\n",
    "        raise Exception(\"No specified content type id\")\n",
    "        \n",
    "    return tableContentID, key_name,sp,x_data_pb2\n",
    "\n",
    "\n",
    "                             \n",
    "                               \n",
    "content_id , view_name_id,sp_name,x_data_pb2=get_process_configuration_data(view_name)\n",
    "print(content_id,\" - \",view_name_id)"
   ]
  },
  {
   "cell_type": "code",
   "execution_count": null,
   "metadata": {},
   "outputs": [],
   "source": []
  },
  {
   "cell_type": "markdown",
   "metadata": {},
   "source": [
    "# Check configuration parameter validation:"
   ]
  },
  {
   "cell_type": "code",
   "execution_count": 73,
   "metadata": {
    "tags": []
   },
   "outputs": [
    {
     "name": "stdout",
     "output_type": "stream",
     "text": [
      "merge - merge_project\n"
     ]
    }
   ],
   "source": [
    "#  # 1=\"merge\"  or \"bq-storage-api\"\n",
    "def check_config_parameter_validation(way,sp,data_pb2):\n",
    "  if  (way==\"merge\") and sp is None:\n",
    "     raise Exception(f\"StoreProcedure is not allowed to None in {way} Way.\")\n",
    "  elif  (way==\"bq-storage-api\") and data_pb2 is None:\n",
    "     raise Exception(f\"ProtoBuf Data is not allowed to None in {way} Way.\")   \n",
    "  return True\n",
    "    \n",
    "result_data_validation=check_config_parameter_validation(way,sp,data_pb2)\n",
    "if result_data_validation and  way==\"merge\":\n",
    " print(f\"{way} - {sp}\")\n",
    "elif result_data_validation and  way==\"bq-storage-api\":\n",
    " print(f\"{way}\")\n",
    " print(data_pb2.DESCRIPTOR)"
   ]
  },
  {
   "cell_type": "markdown",
   "metadata": {},
   "source": [
    "# Set data and cofig path"
   ]
  },
  {
   "cell_type": "code",
   "execution_count": 74,
   "metadata": {
    "tags": []
   },
   "outputs": [
    {
     "name": "stdout",
     "output_type": "stream",
     "text": [
      ".env\n",
      "cfg_last_import\n"
     ]
    }
   ],
   "source": [
    "# Test config,env file and key to be used ,all of used key  are existing.\n",
    "cfg_path=\"cfg_last_import\"\n",
    "env_path='.env'\n",
    "\n",
    "updater = ConfigUpdater()\n",
    "updater.read(os.path.join(cfg_path,f\"{view_name}.cfg\"))\n",
    "\n",
    "config = dotenv_values(dotenv_path=env_path)\n",
    "\n",
    "data_base_file=\"etl_web_admin/bq_cdc_etl_transaction.db\"\n",
    "\n",
    "print(env_path)\n",
    "print(cfg_path)"
   ]
  },
  {
   "cell_type": "code",
   "execution_count": 75,
   "metadata": {
    "tags": []
   },
   "outputs": [
    {
     "name": "stdout",
     "output_type": "stream",
     "text": [
      "pongthorn.SMartData_Temp.temp_project\n",
      "pongthorn.SMartDataAnalytics.project\n"
     ]
    }
   ],
   "source": [
    "# Test exsitng project dataset and table anme\n",
    "\n",
    "projectId=config['PROJECT_ID']  # smart-data-ml  or kku-intern-dataai or ponthorn\n",
    "credential_file=config['PROJECT_CREDENTIAL_FILE']\n",
    "# C:\\Windows\\smart-data-ml-91b6f6204773.json\n",
    "# C:\\Windows\\kku-intern-dataai-a5449aee8483.json\n",
    "# C:\\Windows\\pongthorn-5decdc5124f5.json\n",
    "\n",
    "\n",
    "dataset_id='SMartData_Temp'  # 'SMartData_Temp'  'PMReport_Temp'\n",
    "main_dataset_id='SMartDataAnalytics'  # ='SMartDataAnalytics'  'PMReport_Main'\n",
    "\n",
    "credentials = service_account.Credentials.from_service_account_file(credential_file)\n",
    "\n",
    "table_name=f\"temp_{data_name}\" #can change in (\"name\") to temp table\n",
    "table_id = f\"{projectId}.{dataset_id}.{table_name}\"\n",
    "print(table_id)\n",
    "\n",
    "\n",
    "main_table_name=data_name\n",
    "main_table_id = f\"{projectId}.{main_dataset_id}.{main_table_name}\"\n",
    "print(main_table_id)\n",
    "\n",
    "# https://cloud.google.com/bigquery/docs/reference/rest/v2/Job\n",
    "to_bq_mode=\"WRITE_EMPTY\"\n",
    "\n",
    "\n",
    "client = bigquery.Client(credentials= credentials,project=projectId)"
   ]
  },
  {
   "cell_type": "markdown",
   "metadata": {},
   "source": [
    "Read Configuration File and Initialize BQ Object"
   ]
  },
  {
   "cell_type": "code",
   "execution_count": 76,
   "metadata": {
    "tags": []
   },
   "outputs": [
    {
     "name": "stdout",
     "output_type": "stream",
     "text": [
      "project - UTC:2019-01-01 00:00:00  Of Last Import\n"
     ]
    }
   ],
   "source": [
    "last_imported=datetime.strptime(updater[\"metadata\"][view_name].value,\"%Y-%m-%d %H:%M:%S\")\n",
    "print(f\"{data_name} - UTC:{last_imported}  Of Last Import\")\n",
    "\n",
    "# local_zone = tz.tzlocal()\n",
    "# last_imported = last_imported.astimezone(local_zone)\n",
    "# print(f\"Local Asia/Bangkok:{last_imported}\")"
   ]
  },
  {
   "cell_type": "markdown",
   "metadata": {},
   "source": [
    "# Postgres &BigQuery & SQLite"
   ]
  },
  {
   "cell_type": "code",
   "execution_count": 77,
   "metadata": {
    "tags": []
   },
   "outputs": [],
   "source": [
    "def get_postgres_conn():\n",
    " try:\n",
    "  conn = psycopg2.connect(\n",
    "        database=config['DATABASES_NAME'], user=config['DATABASES_USER'],\n",
    "      password=config['DATABASES_PASSWORD'], host=config['DATABASES_HOST']\n",
    "     )\n",
    "  return conn\n",
    "\n",
    " except Exception as error:\n",
    "  print(error)      \n",
    "  raise error\n",
    "def list_data(sql,params,connection):\n",
    " df=None   \n",
    " with connection.cursor() as cursor:\n",
    "    \n",
    "    if params is None:\n",
    "       cursor.execute(sql)\n",
    "    else:\n",
    "       cursor.execute(sql,params)\n",
    "    \n",
    "    columns = [col[0] for col in cursor.description]\n",
    "    dataList = [dict(zip(columns, row)) for row in cursor.fetchall()]\n",
    "    df = pd.DataFrame(data=dataList) \n",
    " return df \n",
    "\n",
    "\n"
   ]
  },
  {
   "cell_type": "code",
   "execution_count": 78,
   "metadata": {
    "tags": []
   },
   "outputs": [],
   "source": [
    "sqlite3.register_adapter(np.int64, lambda val: int(val))\n",
    "sqlite3.register_adapter(np.int32, lambda val: int(val))\n",
    "\n",
    "\n",
    "def list_data_sqlite(sql):\n",
    "    conn = sqlite3.connect(os.path.abspath(data_base_file))\n",
    "    print(sql)\n",
    "    df_item=pd.read_sql_query(sql, conn)\n",
    "    return df_item\n",
    "\n",
    "def addETLTrans(recordList):\n",
    "    try:\n",
    "        sqliteConnection = sqlite3.connect(os.path.abspath(data_base_file))\n",
    "        cursor = sqliteConnection.cursor()\n",
    "        sqlite_insert_query = \"\"\"\n",
    "        INSERT INTO etl_transaction\n",
    "        (trans_datetime, view_source_id,type,no_rows,is_consistent,is_complete)  \n",
    "        VALUES (?,?,?,?,?,?);\n",
    "         \"\"\"\n",
    "        cursor.executemany(sqlite_insert_query, recordList)\n",
    "        print(\"Done ETL Trasaction\")\n",
    "        sqliteConnection.commit()\n",
    "        cursor.close()\n",
    "\n",
    "    except Exception as e:\n",
    "        print(\"Failed to insert etl_transaction table\", str(e))\n",
    "    finally:\n",
    "        if sqliteConnection:\n",
    "            sqliteConnection.close()\n",
    "\n",
    "    \n"
   ]
  },
  {
   "cell_type": "code",
   "execution_count": 79,
   "metadata": {
    "tags": []
   },
   "outputs": [],
   "source": [
    "def get_bq_table():\n",
    " try:\n",
    "    table=client.get_table(table_id)  # Make an API request.\n",
    "    print(\"Table {} already exists.\".format(table_id))\n",
    "    print(table.schema)\n",
    "    return True\n",
    " except NotFound:\n",
    "    raise Exception(\"Table {} is not found.\".format(table_id))\n",
    "    \n",
    "\n",
    "def insertDataFrameToBQ(df_trasns):\n",
    "    try:\n",
    "        job_config = bigquery.LoadJobConfig(write_disposition=to_bq_mode,)\n",
    "        job = client.load_table_from_dataframe(df_trasns, table_id, job_config=job_config)\n",
    "        try:\n",
    "         job.result()  # Wait for the job to complete.\n",
    "        except ClientError as e:\n",
    "         print(job.errors)\n",
    "\n",
    "        print(\"Total \", len(df_trasns), f\"Imported data to {table_id} on bigquery successfully\")\n",
    "\n",
    "    except BadRequest as e:\n",
    "        print(\"Bigquery Error\\n\")\n",
    "        print(e) "
   ]
  },
  {
   "cell_type": "markdown",
   "metadata": {},
   "source": [
    "# Get View Source"
   ]
  },
  {
   "cell_type": "code",
   "execution_count": 80,
   "metadata": {
    "tags": []
   },
   "outputs": [
    {
     "name": "stdout",
     "output_type": "stream",
     "text": [
      "select * from view_source where name='pmr_project' limit 1\n",
      "1\n"
     ]
    }
   ],
   "source": [
    "def get_view_source(name):\n",
    "    sql=f\"select * from view_source where name='{name}' limit 1\"\n",
    "    dfView=list_data_sqlite(sql)\n",
    "    if dfView.empty==False:\n",
    "       view_source_id=dfView.iloc[0,0]\n",
    "    else:\n",
    "        error=f\"Not found {view_name} view\"\n",
    "        raise Exception(error)\n",
    "    return view_source_id\n",
    "admin_view_id= get_view_source(view_name)\n",
    "print(admin_view_id)"
   ]
  },
  {
   "cell_type": "markdown",
   "metadata": {},
   "source": [
    "# Check Data Consistency"
   ]
  },
  {
   "cell_type": "code",
   "execution_count": 111,
   "metadata": {
    "tags": []
   },
   "outputs": [],
   "source": [
    "def do_check_consistency():\n",
    "    check_result=True\n",
    "    if check_consistency:\n",
    "         print(\"Wait in a while for biqguery to update\")\n",
    "         time.sleep(time_wait_for_bq)\n",
    "         print(\"Check data consistency betwwen database and bigquery\")\n",
    "         result=check_data.check_data_consistency_db_bq(view_name)\n",
    "         if result:\n",
    "            print(\"if result=True , view csv file in check_db_bq  data_consistence_check\")  \n",
    "            print(\"send email to admin to investigate\")\n",
    "            check_result=False\n",
    "         else:\n",
    "            print(f\"Data has been consistent between {config['DATABASES_NAME']} and {main_table_id}\")\n",
    "    else:\n",
    "        print(\"Disable checking data consistency feature.\")\n",
    "            \n",
    "    return int(result)"
   ]
  },
  {
   "cell_type": "markdown",
   "metadata": {},
   "source": [
    "# Check whether it is the first loading?"
   ]
  },
  {
   "cell_type": "code",
   "execution_count": 82,
   "metadata": {
    "tags": []
   },
   "outputs": [],
   "source": [
    "def checkFirstLoad():\n",
    "    print(\"If the main table is empty , so the action of each row  must be 'added' on temp table\")\n",
    "    rows_iter   = client.list_rows(main_table_id, max_results=1) \n",
    "    no_main=len(list(rows_iter))\n",
    "    if no_main==0:\n",
    "     isFirstLoad=True\n",
    "     print(f\"This is the first loaing , so there is No DATA in {main_table_id}, we load all rows from {view_name} to import into {table_id} action will be 'added' \")\n",
    "    else:\n",
    "     isFirstLoad=False   \n",
    "    return isFirstLoad"
   ]
  },
  {
   "cell_type": "code",
   "execution_count": 83,
   "metadata": {
    "tags": []
   },
   "outputs": [
    {
     "name": "stdout",
     "output_type": "stream",
     "text": [
      "If the main table is empty , so the action of each row  must be 'added' on temp table\n",
      "This is the first loaing , so there is No DATA in pongthorn.SMartDataAnalytics.project, we load all rows from pmr_project to import into pongthorn.SMartData_Temp.temp_project action will be 'added' \n",
      "IsFirstLoad=True for project\n"
     ]
    }
   ],
   "source": [
    "isFirstLoad=checkFirstLoad()\n",
    "print(f\"IsFirstLoad={isFirstLoad} for {data_name}\")"
   ]
  },
  {
   "cell_type": "markdown",
   "metadata": {},
   "source": [
    "# For The next Load\n",
    "* Get data from model log based on condition last_imported and table\n",
    "* Get all actions from log table by selecting unique object_id and setting by doing something as logic\n",
    "* Create  id and action dataframe form filtered rows from log table"
   ]
  },
  {
   "cell_type": "code",
   "execution_count": 84,
   "metadata": {
    "tags": []
   },
   "outputs": [],
   "source": [
    "def list_model_log(x_last_imported,x_content_id):\n",
    "    sql_log = f\"\"\"\n",
    "    SELECT object_id, action,TO_CHAR(date_created,'YYYY-MM-DD HH24:MI:SS') as date_created ,changed_data\n",
    "    FROM {log}\n",
    "    WHERE date_created  AT time zone 'utc' >= '{x_last_imported}' AND content_type_id = {x_content_id} \n",
    "    ORDER BY object_id, date_created\n",
    "    \"\"\"\n",
    "    print(sql_log)\n",
    "\n",
    "\n",
    "    # Asia/Bangkok \n",
    "    lf = list_data(sql_log, None, get_postgres_conn())\n",
    "    print(f\"Retrieve all rows after {last_imported}\")\n",
    "    print(lf.info())\n",
    "    return lf\n"
   ]
  },
  {
   "cell_type": "code",
   "execution_count": 85,
   "metadata": {
    "tags": []
   },
   "outputs": [],
   "source": [
    "def check_any_changes_to_collumns_view(dfAction,x_view_name,_x_key_name):\n",
    "    \"\"\"\n",
    "    Check dataframe from log model that contain only changed action to select changed fields on view.\n",
    "    \"\"\"\n",
    "\n",
    "    listACtion=dfAction[\"action\"].unique().tolist()\n",
    "    if len(listACtion)==1 and listACtion[0]=='changed':\n",
    "        print(\"###########################################################\")\n",
    "        print(\"Process dataframe containing only all changed action\")\n",
    "        print(dfAction)\n",
    "        print(\"###########################################################\")\n",
    "    \n",
    "    "
   ]
  },
  {
   "cell_type": "code",
   "execution_count": 86,
   "metadata": {
    "tags": []
   },
   "outputs": [],
   "source": [
    "def select_actual_action(lf):\n",
    "    listIDs=lf[\"object_id\"].unique().tolist()\n",
    "    listUpdateData=[]\n",
    "    for id in listIDs:\n",
    "        lfTemp=lf.query(\"object_id==@id\")\n",
    "        print(f\"--------------------{id}---------------------------------\")\n",
    "        print(lfTemp)\n",
    "        \n",
    "        \n",
    "        \n",
    "        # check_any_changes_to_collumns_view(lfTemp,content_id,view_name_id)\n",
    "\n",
    "\n",
    "        first_row = lfTemp.iloc[0]\n",
    "        last_row = lfTemp.iloc[-1]\n",
    "        # print(first_row)\n",
    "        # print(last_row)\n",
    "\n",
    "        if len(lfTemp)==1:\n",
    "            listUpdateData.append([id,first_row[\"action\"]])\n",
    "        else:\n",
    "            if first_row[\"action\"] == \"added\" and last_row[\"action\"] == \"deleted\":\n",
    "                continue\n",
    "            elif first_row[\"action\"] == \"added\" and last_row[\"action\"] != \"deleted\":\n",
    "                listUpdateData.append([id,\"added\"])\n",
    "            else : listUpdateData.append([id,last_row[\"action\"]])\n",
    "\n",
    "    print(\"Convert listUpdate to dataframe\")\n",
    "    dfUpdateData = pd.DataFrame(listUpdateData, columns= ['id', 'action'])\n",
    "    dfUpdateData['id'] = dfUpdateData['id'].astype('int64')\n",
    "    dfUpdateData=dfUpdateData.sort_values(by=\"id\")\n",
    "    dfUpdateData=dfUpdateData.reset_index(drop=True)\n",
    "\n",
    "    return dfUpdateData\n"
   ]
  },
  {
   "cell_type": "code",
   "execution_count": 87,
   "metadata": {
    "tags": []
   },
   "outputs": [],
   "source": [
    "if isFirstLoad==False:\n",
    "    listModelLogObjectIDs=[]\n",
    "    dfModelLog=list_model_log(last_imported,content_id)\n",
    "    if dfModelLog.empty==True:\n",
    "            \n",
    "        dfTran=pd.DataFrame(data={\n",
    "        \"trans_datetime\":[str_dt_imported],\"view_source_id\":[admin_view_id],\n",
    "        \"type\":[way],\"no_rows\":[0],\"is_consistent\":[do_check_consistency()],\"is_complete\":[1]\n",
    "        } )\n",
    "        addETLTrans(dfTran.to_records(index=False) )\n",
    "        \n",
    "        print(\"No row to be imported.\")\n",
    "        \n",
    "        exit()\n",
    "    else:\n",
    "       print(\"Get row imported from model log to set action\") \n",
    "       dfModelLog=select_actual_action( dfModelLog)\n",
    "       listModelLogObjectIDs=dfModelLog['id'].tolist()\n",
    "       print(dfModelLog.info())\n",
    "       print(dfModelLog)       \n",
    "       print(listModelLogObjectIDs) "
   ]
  },
  {
   "cell_type": "markdown",
   "metadata": {},
   "source": [
    "# Load view and transform"
   ]
  },
  {
   "cell_type": "code",
   "execution_count": 88,
   "metadata": {
    "tags": []
   },
   "outputs": [
    {
     "name": "stdout",
     "output_type": "stream",
     "text": [
      "select *  from pmr_project  where  updated_at AT time zone 'utc' >= '2019-01-01 00:00:00'\n",
      "     project_id                           enq  \\\n",
      "0             9                    ENQ/60-314   \n",
      "1            10                    ENQ/60-380   \n",
      "2            11                    ENQ/60-443   \n",
      "3            12                    ENQ/61-053   \n",
      "4            14                    ENQ/61-187   \n",
      "..          ...                           ...   \n",
      "596         747                    ENQ/64-413   \n",
      "597         760                  ENQ/65-066-6   \n",
      "598         335         ENQ/65-Yip-DemoTest-1   \n",
      "599         777  ENQ/67-BQMerging#FixingError   \n",
      "600         778         ENQ/67-Yip-DemoTest-3   \n",
      "\n",
      "                                          project_name project_start  \\\n",
      "0           Installation & 5 years support NetApp /TST    2022-01-01   \n",
      "1        TST-Installation & 5 years support for NetApp    2022-01-01   \n",
      "2           INET-Saraburi-2xA300HA-3.8TB-5Y NETAPP/TST    2022-01-01   \n",
      "3    EXIM-Installation & 3 years support for E2824 ...    2022-01-01   \n",
      "4             INET-Installation for StorageGrid SG5760    2022-01-01   \n",
      "..                                                 ...           ...   \n",
      "596  AIS-Imp + MA 5 Year (Scenario2 : Frame Contrac...    2023-02-01   \n",
      "597  สบ.39/2565 สัญญาว่าจ้างบริการสิทธิ์การใช้งานซอ...    2022-09-10   \n",
      "598                                     Yip-DemoTest-1    2024-01-01   \n",
      "599                              FixingError-BQMerging    2024-01-01   \n",
      "600                     Yip-DemoTest-3(Test DataSynch)    2024-01-01   \n",
      "\n",
      "    project_end  company_id                    company  has_pm action  \n",
      "0    2022-12-31          15  INET-(NetApp and Non HPE)   False  added  \n",
      "1    2022-12-31          15  INET-(NetApp and Non HPE)   False  added  \n",
      "2    2022-12-31          15  INET-(NetApp and Non HPE)   False  added  \n",
      "3    2022-12-31          15  INET-(NetApp and Non HPE)   False  added  \n",
      "4    2022-12-31          15  INET-(NetApp and Non HPE)   False  added  \n",
      "..          ...         ...                        ...     ...    ...  \n",
      "596  2027-01-31           2                        AIS   False  added  \n",
      "597  2023-09-09          17                      KTBCS   False  added  \n",
      "598  2024-03-31           1                        YIP    True  added  \n",
      "599  2024-01-31           1                        YIP   False  added  \n",
      "600  2024-04-01           1                        YIP   False  added  \n",
      "\n",
      "[601 rows x 9 columns]\n",
      "<class 'pandas.core.frame.DataFrame'>\n",
      "RangeIndex: 601 entries, 0 to 600\n",
      "Data columns (total 9 columns):\n",
      " #   Column         Non-Null Count  Dtype \n",
      "---  ------         --------------  ----- \n",
      " 0   project_id     601 non-null    int64 \n",
      " 1   enq            601 non-null    object\n",
      " 2   project_name   601 non-null    object\n",
      " 3   project_start  601 non-null    object\n",
      " 4   project_end    601 non-null    object\n",
      " 5   company_id     601 non-null    int64 \n",
      " 6   company        601 non-null    object\n",
      " 7   has_pm         601 non-null    bool  \n",
      " 8   action         601 non-null    object\n",
      "dtypes: bool(1), int64(2), object(6)\n",
      "memory usage: 38.3+ KB\n",
      "None\n"
     ]
    }
   ],
   "source": [
    "def retrive_next_data_from_view(x_view,x_id,x_listModelLogObjectIDs):\n",
    "    if len(x_listModelLogObjectIDs)>1:\n",
    "     sql_view=f\"select *  from {x_view}  where {x_id} in {tuple(x_listModelLogObjectIDs)}\"\n",
    "    else:\n",
    "     sql_view=f\"select *  from {x_view}  where {x_id} ={x_listModelLogObjectIDs[0]}\"\n",
    "    \n",
    "    print(sql_view)\n",
    "    df=list_data(sql_view,None,get_postgres_conn())\n",
    "\n",
    "    if df.empty==True:\n",
    "     return df\n",
    "    df=df.drop(columns='updated_at')\n",
    "    return df \n",
    "\n",
    "\n",
    "def retrive_first_data_from_view(x_view,x_last_imported):\n",
    "     sql_view=f\"select *  from {x_view}  where  updated_at AT time zone 'utc' >= '{x_last_imported}'\"\n",
    "     print(sql_view)\n",
    "     df=list_data(sql_view,None,get_postgres_conn())\n",
    "     if df.empty==True:\n",
    "            return df\n",
    "     df=df.drop(columns='updated_at')\n",
    "     df['action']='added'\n",
    "     return df   \n",
    "def retrive_one_row_from_view_to_gen_df_schema(x_view):\n",
    "    sql_view=f\"select *  from {x_view}  limit 1\"\n",
    "    print(sql_view)\n",
    "    df=list_data(sql_view,None,get_postgres_conn())\n",
    "    df=df.drop(columns='updated_at')\n",
    "    return df\n",
    "\n",
    "\n",
    "if isFirstLoad:\n",
    " df=retrive_first_data_from_view(view_name,last_imported)\n",
    " if df.empty==True:\n",
    "    # create dataframe and addETLTrans 0 row    \n",
    "    print(\"No row to be imported.\")\n",
    "    exit()\n",
    " else:\n",
    "    print(df)\n",
    "\n",
    "else:\n",
    " df=retrive_next_data_from_view(view_name,view_name_id,listModelLogObjectIDs)  \n",
    " if df.empty==True:\n",
    "    print(\"Due to having deleted items, we will Get schema from {} to create empty dataframe with schema.\")\n",
    "    df=retrive_one_row_from_view_to_gen_df_schema(view_name)\n",
    "    # this id has been included in listModelLogObjectIDs which contain deleted action , so we can use it as schema generation\n",
    "    print(df)\n",
    "\n",
    "    \n",
    "print(df.info())    \n",
    "    "
   ]
  },
  {
   "cell_type": "markdown",
   "metadata": {},
   "source": [
    "# Data Transaformation\n",
    "* IF The first load then add actio='Added'\n",
    "* IF The nextload then Merge LogDF and ViewDF and add deleted row \n",
    "  * Get Deleted Items  to Create deleted dataframe by using listDeleted\n",
    "  * If there is one deletd row then  we will merge it to master dataframe\n",
    "* IF the next load has only deleted action"
   ]
  },
  {
   "cell_type": "code",
   "execution_count": 89,
   "metadata": {
    "tags": []
   },
   "outputs": [],
   "source": [
    "def add_acutal_action_to_df_at_next(df,dfUpdateData,x_view,x_id):\n",
    "    # merget model log(id and action) to data view\n",
    "    # if  dfUpdateData  contain only deleted action\n",
    "    # we will merge to get datafdame shcema, it can perform inner without have actual data fram view\n",
    "    merged_df = pd.merge(df, dfUpdateData, left_on=view_name_id, right_on='id', how='inner')\n",
    "    merged_df = merged_df.drop(columns=['id'])\n",
    "\n",
    "    listAllAction=dfUpdateData['id'].tolist()\n",
    "    print(f\"List {listAllAction} all action\")\n",
    "    \n",
    "    listSeleted = merged_df[view_name_id].tolist()\n",
    "    print(f\"List  {x_view}   {listSeleted} from {x_view} exluding deleted action\")\n",
    "    \n",
    "    allActionSet = set(listAllAction)\n",
    "    anotherSet = set(listSeleted)\n",
    "    \n",
    "    listDeleted = list(allActionSet.symmetric_difference(anotherSet))\n",
    "    print(f\"List deleted {listDeleted}\")\n",
    "    \n",
    "    # Test List  select by view + List deeleted = List All Action\n",
    "\n",
    "    if len(listDeleted)>0:\n",
    "        print(\"There are some deleted rows\")\n",
    "        dfDeleted=pd.DataFrame(data=listDeleted,columns=[view_name_id])\n",
    "        dfDeleted['action']='deleted'\n",
    "        print(dfDeleted)\n",
    "        merged_df=pd.concat([merged_df,dfDeleted],axis=0)\n",
    "\n",
    "    else:\n",
    "        print(\"No row deleted\")\n",
    "\n",
    "    return merged_df    \n",
    "\n",
    "\n"
   ]
  },
  {
   "cell_type": "code",
   "execution_count": 90,
   "metadata": {
    "tags": []
   },
   "outputs": [
    {
     "name": "stdout",
     "output_type": "stream",
     "text": [
      "     project_id                           enq  \\\n",
      "0             9                    ENQ/60-314   \n",
      "1            10                    ENQ/60-380   \n",
      "2            11                    ENQ/60-443   \n",
      "3            12                    ENQ/61-053   \n",
      "4            14                    ENQ/61-187   \n",
      "..          ...                           ...   \n",
      "596         747                    ENQ/64-413   \n",
      "597         760                  ENQ/65-066-6   \n",
      "598         335         ENQ/65-Yip-DemoTest-1   \n",
      "599         777  ENQ/67-BQMerging#FixingError   \n",
      "600         778         ENQ/67-Yip-DemoTest-3   \n",
      "\n",
      "                                          project_name project_start  \\\n",
      "0           Installation & 5 years support NetApp /TST    2022-01-01   \n",
      "1        TST-Installation & 5 years support for NetApp    2022-01-01   \n",
      "2           INET-Saraburi-2xA300HA-3.8TB-5Y NETAPP/TST    2022-01-01   \n",
      "3    EXIM-Installation & 3 years support for E2824 ...    2022-01-01   \n",
      "4             INET-Installation for StorageGrid SG5760    2022-01-01   \n",
      "..                                                 ...           ...   \n",
      "596  AIS-Imp + MA 5 Year (Scenario2 : Frame Contrac...    2023-02-01   \n",
      "597  สบ.39/2565 สัญญาว่าจ้างบริการสิทธิ์การใช้งานซอ...    2022-09-10   \n",
      "598                                     Yip-DemoTest-1    2024-01-01   \n",
      "599                              FixingError-BQMerging    2024-01-01   \n",
      "600                     Yip-DemoTest-3(Test DataSynch)    2024-01-01   \n",
      "\n",
      "    project_end  company_id                    company  has_pm action  \n",
      "0    2022-12-31          15  INET-(NetApp and Non HPE)   False  added  \n",
      "1    2022-12-31          15  INET-(NetApp and Non HPE)   False  added  \n",
      "2    2022-12-31          15  INET-(NetApp and Non HPE)   False  added  \n",
      "3    2022-12-31          15  INET-(NetApp and Non HPE)   False  added  \n",
      "4    2022-12-31          15  INET-(NetApp and Non HPE)   False  added  \n",
      "..          ...         ...                        ...     ...    ...  \n",
      "596  2027-01-31           2                        AIS   False  added  \n",
      "597  2023-09-09          17                      KTBCS   False  added  \n",
      "598  2024-03-31           1                        YIP    True  added  \n",
      "599  2024-01-31           1                        YIP   False  added  \n",
      "600  2024-04-01           1                        YIP   False  added  \n",
      "\n",
      "[601 rows x 9 columns]\n"
     ]
    }
   ],
   "source": [
    "if isFirstLoad==False:\n",
    " df=add_acutal_action_to_df_at_next(df,dfModelLog,view_name,view_name_id)\n",
    "\n",
    "print(df)"
   ]
  },
  {
   "cell_type": "code",
   "execution_count": null,
   "metadata": {},
   "outputs": [],
   "source": []
  },
  {
   "cell_type": "markdown",
   "metadata": {},
   "source": [
    "# Last Step :Check duplicate ID & reset index"
   ]
  },
  {
   "cell_type": "code",
   "execution_count": 91,
   "metadata": {
    "tags": []
   },
   "outputs": [
    {
     "name": "stdout",
     "output_type": "stream",
     "text": [
      "There is no duplicate project_id ID\n",
      "<class 'pandas.core.frame.DataFrame'>\n",
      "RangeIndex: 601 entries, 0 to 600\n",
      "Data columns (total 9 columns):\n",
      " #   Column         Non-Null Count  Dtype \n",
      "---  ------         --------------  ----- \n",
      " 0   project_id     601 non-null    int64 \n",
      " 1   enq            601 non-null    object\n",
      " 2   project_name   601 non-null    object\n",
      " 3   project_start  601 non-null    object\n",
      " 4   project_end    601 non-null    object\n",
      " 5   company_id     601 non-null    int64 \n",
      " 6   company        601 non-null    object\n",
      " 7   has_pm         601 non-null    bool  \n",
      " 8   action         601 non-null    object\n",
      "dtypes: bool(1), int64(2), object(6)\n",
      "memory usage: 38.3+ KB\n",
      "None\n",
      "     project_id                           enq  \\\n",
      "0             9                    ENQ/60-314   \n",
      "1            10                    ENQ/60-380   \n",
      "2            11                    ENQ/60-443   \n",
      "3            12                    ENQ/61-053   \n",
      "4            14                    ENQ/61-187   \n",
      "..          ...                           ...   \n",
      "596         747                    ENQ/64-413   \n",
      "597         760                  ENQ/65-066-6   \n",
      "598         335         ENQ/65-Yip-DemoTest-1   \n",
      "599         777  ENQ/67-BQMerging#FixingError   \n",
      "600         778         ENQ/67-Yip-DemoTest-3   \n",
      "\n",
      "                                          project_name project_start  \\\n",
      "0           Installation & 5 years support NetApp /TST    2022-01-01   \n",
      "1        TST-Installation & 5 years support for NetApp    2022-01-01   \n",
      "2           INET-Saraburi-2xA300HA-3.8TB-5Y NETAPP/TST    2022-01-01   \n",
      "3    EXIM-Installation & 3 years support for E2824 ...    2022-01-01   \n",
      "4             INET-Installation for StorageGrid SG5760    2022-01-01   \n",
      "..                                                 ...           ...   \n",
      "596  AIS-Imp + MA 5 Year (Scenario2 : Frame Contrac...    2023-02-01   \n",
      "597  สบ.39/2565 สัญญาว่าจ้างบริการสิทธิ์การใช้งานซอ...    2022-09-10   \n",
      "598                                     Yip-DemoTest-1    2024-01-01   \n",
      "599                              FixingError-BQMerging    2024-01-01   \n",
      "600                     Yip-DemoTest-3(Test DataSynch)    2024-01-01   \n",
      "\n",
      "    project_end  company_id                    company  has_pm action  \n",
      "0    2022-12-31          15  INET-(NetApp and Non HPE)   False  added  \n",
      "1    2022-12-31          15  INET-(NetApp and Non HPE)   False  added  \n",
      "2    2022-12-31          15  INET-(NetApp and Non HPE)   False  added  \n",
      "3    2022-12-31          15  INET-(NetApp and Non HPE)   False  added  \n",
      "4    2022-12-31          15  INET-(NetApp and Non HPE)   False  added  \n",
      "..          ...         ...                        ...     ...    ...  \n",
      "596  2027-01-31           2                        AIS   False  added  \n",
      "597  2023-09-09          17                      KTBCS   False  added  \n",
      "598  2024-03-31           1                        YIP    True  added  \n",
      "599  2024-01-31           1                        YIP   False  added  \n",
      "600  2024-04-01           1                        YIP   False  added  \n",
      "\n",
      "[601 rows x 9 columns]\n"
     ]
    }
   ],
   "source": [
    "hasDplicateIDs = df[view_name_id].duplicated().any()\n",
    "if  hasDplicateIDs:\n",
    " raise Exception(\"There are some duplicate id on dfUpdateData\")\n",
    "else:\n",
    " print(f\"There is no duplicate {view_name_id} ID\")  \n",
    "\n",
    "\n",
    "# merged_df['imported_at']=dt_imported\n",
    "df=df.reset_index(drop=True  )\n",
    "print(df.info())\n",
    "print(df)"
   ]
  },
  {
   "cell_type": "code",
   "execution_count": null,
   "metadata": {},
   "outputs": [],
   "source": []
  },
  {
   "cell_type": "markdown",
   "metadata": {},
   "source": [
    "# Insert data to BQ data frame & # Run StoreProcedure To Merge Temp&Main and Truncate Transaction "
   ]
  },
  {
   "cell_type": "code",
   "execution_count": 92,
   "metadata": {
    "tags": []
   },
   "outputs": [
    {
     "name": "stdout",
     "output_type": "stream",
     "text": [
      "1#Ingest data into Bigquery\n",
      "Table pongthorn.SMartData_Temp.temp_project already exists.\n",
      "[SchemaField('project_id', 'INTEGER', 'NULLABLE', None, None, (), None), SchemaField('enq', 'STRING', 'NULLABLE', None, None, (), None), SchemaField('project_name', 'STRING', 'NULLABLE', None, None, (), None), SchemaField('project_start', 'DATE', 'NULLABLE', None, None, (), None), SchemaField('project_end', 'DATE', 'NULLABLE', None, None, (), None), SchemaField('company_id', 'INTEGER', 'NULLABLE', None, None, (), None), SchemaField('company', 'STRING', 'NULLABLE', None, None, (), None), SchemaField('has_pm', 'BOOLEAN', 'NULLABLE', None, None, (), None), SchemaField('action', 'STRING', 'NULLABLE', None, None, (), None)]\n",
      "Total  601 Imported data to pongthorn.SMartData_Temp.temp_project on bigquery successfully\n",
      "2#Run StoreProcedure To Merge Temp&Main and Truncate Transaction.\n",
      " CALL `pongthorn.SMartDataAnalytics.merge_project`() \n"
     ]
    }
   ],
   "source": [
    "if way=='merge':\n",
    "    print(\"1#Ingest data into Bigquery\")\n",
    "    if get_bq_table():\n",
    "        try:\n",
    "            insertDataFrameToBQ(df)\n",
    "        except Exception as ex:\n",
    "            raise ex\n",
    "            \n",
    "    print(\"2#Run StoreProcedure To Merge Temp&Main and Truncate Transaction.\")\n",
    "    # https://cloud.google.com/bigquery/docs/transactions\n",
    "    sp_id_to_invoke=f\"\"\" CALL `{projectId}.{main_dataset_id}.{sp_name}`() \"\"\"\n",
    "    print(sp_id_to_invoke)    \n",
    "    sp_job = client.query(sp_id_to_invoke)\n",
    "\n",
    "else:\n",
    "    bq_storage_api_path=\"bq_storage_api\"\n",
    "    df.to_csv(f\"{data_name}_{way}.csv\",index=False)"
   ]
  },
  {
   "cell_type": "markdown",
   "metadata": {
    "tags": []
   },
   "source": [
    "# BQ-Storage-API Data Transformation"
   ]
  },
  {
   "cell_type": "code",
   "execution_count": 93,
   "metadata": {
    "tags": []
   },
   "outputs": [],
   "source": [
    "# df"
   ]
  },
  {
   "cell_type": "code",
   "execution_count": 94,
   "metadata": {
    "tags": []
   },
   "outputs": [],
   "source": [
    "# from google.protobuf.timestamp_pb2 import Timestamp\n",
    "# print(\"add timestamp import\")\n",
    "# dtimestamp = Timestamp()\n",
    "# dtimestamp.FromDatetime(dt_imported)\n",
    "# update_at_micro_timestampe =dtimestamp.ToMicroseconds()\n",
    "# df['update_at']=update_at_micro_timestampe \n"
   ]
  },
  {
   "cell_type": "code",
   "execution_count": null,
   "metadata": {},
   "outputs": [],
   "source": []
  },
  {
   "cell_type": "code",
   "execution_count": 95,
   "metadata": {
    "tags": []
   },
   "outputs": [],
   "source": [
    "# print(\"change action type\")\n",
    "\n",
    "# def change_action_merge_to_bq_storage_api(x):\n",
    "#     if x==\"added\" or x==\"changed\":\n",
    "#         return  \"UPSERT\"\n",
    "#     else:\n",
    "#         return \"DELETE\"\n",
    "\n",
    "    \n",
    "# df[\"_CHANGE_TYPE\"]=df['action'].apply(change_action_merge_to_bq_storage_api)\n",
    "# df=df.drop(columns=['action'])"
   ]
  },
  {
   "cell_type": "markdown",
   "metadata": {},
   "source": [
    "# Split data into Upsert and Delete"
   ]
  },
  {
   "cell_type": "code",
   "execution_count": 96,
   "metadata": {
    "tags": []
   },
   "outputs": [],
   "source": [
    "# dfUpsert=df.query(\"_CHANGE_TYPE=='UPSERT'\")\n",
    "# dfUpsert"
   ]
  },
  {
   "cell_type": "code",
   "execution_count": 97,
   "metadata": {
    "tags": []
   },
   "outputs": [],
   "source": [
    "# dfDelete=df.query(\"_CHANGE_TYPE=='DELETE'\")\n",
    "# dfDelete"
   ]
  },
  {
   "cell_type": "markdown",
   "metadata": {
    "tags": []
   },
   "source": [
    "## if you convert any time of any tz to timestampe for converting to Microseconds , it wll turn into UTC \n",
    "* to_char((abc.incident_datetime AT TIME ZONE 'Asia/Bangkok'::text),\n",
    "           'YYYY-MM-DD HH24:MI'::text)   AS open_datetime\n",
    "* to_char((abc.incident_datetime AT TIME ZONE 'UTC'::text),\n",
    "               'YYYY-MM-DD HH24:MI'::text)   AS open_datetime\n",
    "* https://www.epochconverter.com/\n",
    "\n",
    "## DateTime is UTC"
   ]
  },
  {
   "cell_type": "markdown",
   "metadata": {},
   "source": [
    "### null dattime is replaced with 0(GMT:1-1-1970 12:00:00 AM)"
   ]
  },
  {
   "cell_type": "code",
   "execution_count": 98,
   "metadata": {
    "tags": []
   },
   "outputs": [],
   "source": [
    "# if dfUpsert.empty==False:\n",
    "#     print(\"convert strng to datetime and microseconds\")\n",
    "#     from google.protobuf.timestamp_pb2 import Timestamp\n",
    "#     def convert_string_to_datetime_timestamp_microseconds (dt_str):\n",
    "#         if dt_str is not None:   \n",
    "#             dt=datetime.strptime(dt_str,\"%Y-%m-%d %H:%M\")\n",
    "#             # return dt\n",
    "#             x_timestamp = Timestamp()\n",
    "#             x_timestamp.FromDatetime(dt)\n",
    "#             micro_x =x_timestamp.ToMicroseconds()\n",
    "#             return micro_x\n",
    "#         else:\n",
    "#             None\n",
    "#     #        \n",
    "#     datetimeCols=[\"open_datetime\",\"close_datetime\"]\n",
    "#     for d in datetimeCols:\n",
    "#         # check whick column contain null value if so, convert float64 to int 32\n",
    "#         dfUpsert[d]=dfUpsert[d].apply(convert_string_to_datetime_timestamp_microseconds)\n",
    "#         dfUpsert[d] = dfUpsert[d].fillna(0)\n",
    "#         dfUpsert[d]=dfUpsert[d].astype('Int64')"
   ]
  },
  {
   "cell_type": "code",
   "execution_count": 99,
   "metadata": {
    "tags": []
   },
   "outputs": [],
   "source": [
    "# if dfDelete.empty==False:\n",
    "#     dfDelete=dfDelete[[view_name_id,\"_CHANGE_TYPE\"]]\n",
    "    "
   ]
  },
  {
   "cell_type": "markdown",
   "metadata": {
    "tags": []
   },
   "source": [
    "# Write Json File"
   ]
  },
  {
   "cell_type": "code",
   "execution_count": 100,
   "metadata": {
    "tags": []
   },
   "outputs": [],
   "source": [
    "# df['inventory_id']\n",
    "\n",
    "# if  dfUpsert.empty==False:\n",
    "#     json_file=\"incident_upsert.json\"\n",
    "#     json_file_path=os.path.join(bq_storage_api_path,json_file)\n",
    "\n",
    "#     json_incident_data = json.loads(dfUpsert.to_json(orient = 'records'))\n",
    "#     with open(json_file_path, \"w\") as outfile:\n",
    "#         json.dump(json_incident_data, outfile)\n",
    "# print(dfUpsert.info())\n",
    "# dfUpsert"
   ]
  },
  {
   "cell_type": "code",
   "execution_count": 101,
   "metadata": {
    "tags": []
   },
   "outputs": [],
   "source": [
    "# if  dfDelete.empty==False:\n",
    "#     json_file=\"incident_delete.json\"\n",
    "#     json_file_path=os.path.join(bq_storage_api_path,json_file)\n",
    "#     json_incident_data = json.loads(dfDelete.to_json(orient = 'records'))\n",
    "#     with open(json_file_path, \"w\") as outfile:\n",
    "#         json.dump(json_incident_data, outfile)\n",
    "# print(dfDelete.info())\n",
    "# dfDelete"
   ]
  },
  {
   "cell_type": "code",
   "execution_count": 102,
   "metadata": {
    "tags": []
   },
   "outputs": [],
   "source": [
    "# delete json file if successful"
   ]
  },
  {
   "cell_type": "markdown",
   "metadata": {},
   "source": []
  },
  {
   "cell_type": "markdown",
   "metadata": {},
   "source": []
  },
  {
   "cell_type": "markdown",
   "metadata": {
    "tags": []
   },
   "source": [
    "\n",
    "# Update New Recenet Update to file\n"
   ]
  },
  {
   "cell_type": "code",
   "execution_count": 103,
   "metadata": {
    "tags": []
   },
   "outputs": [
    {
     "data": {
      "text/plain": [
       "<ConfigUpdater [\n",
       "    <Section: 'metadata' [\n",
       "        <Option: pmr_project = '2024-01-14 15:49:10'>\n",
       "    ]>\n",
       "]>"
      ]
     },
     "execution_count": 103,
     "metadata": {},
     "output_type": "execute_result"
    }
   ],
   "source": [
    "updater[\"metadata\"][view_name].value=dt_imported.strftime(\"%Y-%m-%d %H:%M:%S\")\n",
    "updater.update_file() "
   ]
  },
  {
   "cell_type": "code",
   "execution_count": 104,
   "metadata": {},
   "outputs": [
    {
     "name": "stdout",
     "output_type": "stream",
     "text": [
      "2024-01-14 15:50:41.664453+00:00\n"
     ]
    }
   ],
   "source": [
    "print(datetime.now(timezone.utc) )"
   ]
  },
  {
   "cell_type": "markdown",
   "metadata": {},
   "source": [
    "# Add ETL transaction"
   ]
  },
  {
   "cell_type": "code",
   "execution_count": 106,
   "metadata": {},
   "outputs": [
    {
     "name": "stdout",
     "output_type": "stream",
     "text": [
      "addETLTrans n-row as dataframe\n",
      "Wait in a while for biqguery to update\n",
      "Check data consistency betwwen database and bigquery\n",
      "Start Loading - UTC:2019-01-01 00:00:00\n",
      "14012024_2251\n",
      "project_id\n",
      ".env\n",
      "pmr_project vs project\n",
      "pongthorn.SMartDataAnalytics.project\n",
      "\n",
      "        select project_id from pmr_project where updated_at AT time zone 'utc' >= '2019-01-01 00:00:00' \n",
      "        \n",
      "<class 'pandas.core.frame.DataFrame'>\n",
      "RangeIndex: 601 entries, 0 to 600\n",
      "Data columns (total 1 columns):\n",
      " #   Column      Non-Null Count  Dtype\n",
      "---  ------      --------------  -----\n",
      " 0   project_id  601 non-null    int64\n",
      "dtypes: int64(1)\n",
      "memory usage: 4.8 KB\n",
      "\n",
      "        SELECT project_id FROM `pongthorn.SMartDataAnalytics.project` WHERE  is_deleted=False\n",
      "        \n",
      "<class 'pandas.core.frame.DataFrame'>\n",
      "RangeIndex: 601 entries, 0 to 600\n",
      "Data columns (total 1 columns):\n",
      " #   Column      Non-Null Count  Dtype\n",
      "---  ------      --------------  -----\n",
      " 0   project_id  601 non-null    Int64\n",
      "dtypes: Int64(1)\n",
      "memory usage: 5.4 KB\n",
      "DB:601 vs BQ:601\n",
      "Great\n",
      "Get data from SMARTDB that have been synchoize to BigQuery\n",
      "False\n",
      "Done ETL Trasaction\n"
     ]
    }
   ],
   "source": [
    "print(\"addETLTrans n-row as dataframe\")   \n",
    "\n",
    "dfTran=pd.DataFrame(data={\n",
    "\"trans_datetime\":[str_dt_imported],\"view_source_id\":[admin_view_id],\n",
    "\"type\":[way],\"no_rows\":[len(df)],\"is_consistent\":[do_check_consistency()],\"is_complete\":[1]\n",
    "} )\n",
    "addETLTrans(dfTran.to_records(index=False) )"
   ]
  },
  {
   "cell_type": "code",
   "execution_count": null,
   "metadata": {},
   "outputs": [],
   "source": []
  },
  {
   "cell_type": "code",
   "execution_count": null,
   "metadata": {},
   "outputs": [],
   "source": []
  }
 ],
 "metadata": {
  "kernelspec": {
   "display_name": "Python 3 (ipykernel)",
   "language": "python",
   "name": "python3"
  },
  "language_info": {
   "codemirror_mode": {
    "name": "ipython",
    "version": 3
   },
   "file_extension": ".py",
   "mimetype": "text/x-python",
   "name": "python",
   "nbconvert_exporter": "python",
   "pygments_lexer": "ipython3",
   "version": "3.10.12"
  }
 },
 "nbformat": 4,
 "nbformat_minor": 4
}
