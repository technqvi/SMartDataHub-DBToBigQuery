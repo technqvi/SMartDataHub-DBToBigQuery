{
 "cells": [
  {
   "cell_type": "code",
   "execution_count": 142,
   "id": "b90aa90a-d3c6-44ad-96d3-a9e93faa97b0",
   "metadata": {
    "tags": []
   },
   "outputs": [],
   "source": [
    "import psycopg2\n",
    "from psycopg2 import sql\n",
    "import psycopg2.extras as extras\n",
    "\n",
    "from google.cloud import bigquery\n",
    "from google.oauth2 import service_account\n",
    "\n",
    "\n",
    "import pandas as pd\n",
    "import json\n",
    "from datetime import datetime,timezone\n",
    "\n",
    "from dotenv import dotenv_values"
   ]
  },
  {
   "cell_type": "code",
   "execution_count": 143,
   "id": "4352357a-dfd3-46b8-8d17-a41e4a261b50",
   "metadata": {
    "tags": []
   },
   "outputs": [
    {
     "name": "stdout",
     "output_type": "stream",
     "text": [
      "12012024_2043\n",
      "pmr_pm_plan vs pm_plan\n"
     ]
    }
   ],
   "source": [
    "view_name='pmr_pm_plan'\n",
    "bq_table_name=view_name.replace('pmr_','')\n",
    "start_query=\"2019-01-01\"\n",
    "\n",
    "tz=\"utc\"\n",
    "\n",
    "dt_imported=datetime.now() # utc\n",
    "str_date_imported=dt_imported.strftime('%d%m%Y_%H%M')\n",
    "print(str_date_imported)\n",
    "\n",
    "print(f\"{view_name} vs {bq_table_name}\")"
   ]
  },
  {
   "cell_type": "code",
   "execution_count": 144,
   "id": "517046a2-a392-4842-bd9a-d895acd22391",
   "metadata": {
    "tags": []
   },
   "outputs": [
    {
     "name": "stdout",
     "output_type": "stream",
     "text": [
      "pm_id\n"
     ]
    }
   ],
   "source": [
    "def get_key_id_by_view_name(view_name):\n",
    "\n",
    "    if view_name == \"pmr_pm_plan\":\n",
    "        key_name = \"pm_id\"\n",
    "    elif view_name == \"pmr_pm_item\":\n",
    "        key_name = \"pm_item_id\"\n",
    "    elif view_name == \"pmr_project\":\n",
    "        key_name = \"project_id\"\n",
    "    elif view_name == \"pmr_inventory\":\n",
    "        key_name = \"inventory_id\"     \n",
    "    elif view_name == \"xyz_incident\":\n",
    "        key_name = \"incident_id\"   \n",
    "    else:\n",
    "        raise Exception(\"No specified content type id\")\n",
    "        \n",
    "    return key_name                       \n",
    "key_id=get_key_id_by_view_name(view_name)\n",
    "print(key_id)"
   ]
  },
  {
   "cell_type": "markdown",
   "id": "8432e330-3234-401d-b378-2be55fc45cb1",
   "metadata": {},
   "source": [
    "# Config DB and BQ"
   ]
  },
  {
   "cell_type": "code",
   "execution_count": 145,
   "id": "85874982-4e3c-4a00-a4fc-f4ef831e8942",
   "metadata": {
    "tags": []
   },
   "outputs": [
    {
     "name": "stdout",
     "output_type": "stream",
     "text": [
      ".env\n",
      "smart-data-ml.SMartDataAnalytics.pm_plan\n"
     ]
    }
   ],
   "source": [
    "env_path='.env'\n",
    "config = dotenv_values(dotenv_path=env_path)\n",
    "print(env_path)\n",
    "\n",
    "\n",
    "projectId='smart-data-ml'\n",
    "credentials = service_account.Credentials.from_service_account_file(r'C:\\Windows\\smart-data-ml-91b6f6204773.json')\n",
    "client = bigquery.Client(credentials=credentials, project=projectId)\n",
    "# client = bigquery.Client(project=projectId)\n",
    "dw_dataset_id=\"SMartDataAnalytics\"\n",
    "\n",
    "dw_table_id = f\"{projectId}.{dw_dataset_id}.{bq_table_name}\"\n",
    "print(dw_table_id)"
   ]
  },
  {
   "cell_type": "markdown",
   "id": "401620d6-586a-4db5-b725-34a7c96399b4",
   "metadata": {},
   "source": [
    "# Postgres &BigQuery"
   ]
  },
  {
   "cell_type": "code",
   "execution_count": 146,
   "id": "502b971f-8c5e-4212-aded-29aeb1242898",
   "metadata": {
    "tags": []
   },
   "outputs": [],
   "source": [
    "def get_postgres_conn():\n",
    " try:\n",
    "  conn = psycopg2.connect(\n",
    "        database=config['DATABASES_NAME'], user=config['DATABASES_USER'],\n",
    "      password=config['DATABASES_PASSWORD'], host=config['DATABASES_HOST']\n",
    "     )\n",
    "  return conn\n",
    "\n",
    " except Exception as error:\n",
    "  print(error)      \n",
    "  raise error\n",
    "def list_data_pg(sql,params,connection):\n",
    " df=None   \n",
    " with connection.cursor() as cursor:\n",
    "    \n",
    "    if params is None:\n",
    "       cursor.execute(sql)\n",
    "    else:\n",
    "       cursor.execute(sql,params)\n",
    "    \n",
    "    columns = [col[0] for col in cursor.description]\n",
    "    dataList = [dict(zip(columns, row)) for row in cursor.fetchall()]\n",
    "    df = pd.DataFrame(data=dataList) \n",
    " return df \n",
    "\n",
    "def load_data_bq(sql:str):\n",
    "\n",
    " query_result=client.query(sql)\n",
    " df_all=query_result.to_dataframe()\n",
    " return df_all"
   ]
  },
  {
   "cell_type": "markdown",
   "id": "f0652289-8233-4c99-8668-54ecf61dd4c3",
   "metadata": {},
   "source": [
    "# Get data from View on Postgres DB"
   ]
  },
  {
   "cell_type": "code",
   "execution_count": 147,
   "id": "90375b46-7f43-401c-a2d4-9ec816ff8fbd",
   "metadata": {
    "tags": []
   },
   "outputs": [
    {
     "name": "stdout",
     "output_type": "stream",
     "text": [
      "\n",
      "    select pm_id from pmr_pm_plan where updated_at AT time zone 'utc' >= '2019-01-01' \n",
      "    \n",
      "<class 'pandas.core.frame.DataFrame'>\n",
      "RangeIndex: 4770 entries, 0 to 4769\n",
      "Data columns (total 1 columns):\n",
      " #   Column  Non-Null Count  Dtype\n",
      "---  ------  --------------  -----\n",
      " 0   pm_id   4770 non-null   int64\n",
      "dtypes: int64(1)\n",
      "memory usage: 37.4 KB\n"
     ]
    }
   ],
   "source": [
    "def Get_ID_DB():\n",
    "    sql_pg=f\"\"\"\n",
    "    select {key_id} from {view_name} where updated_at AT time zone '{tz}' >= '{start_query}' \n",
    "    \"\"\"\n",
    "    print(sql_pg)\n",
    "    df=list_data_pg(sql_pg,None,get_postgres_conn())\n",
    "    return df\n",
    "dfDB=Get_ID_DB()\n",
    "dfDB.info()"
   ]
  },
  {
   "cell_type": "markdown",
   "id": "ffd3c323-e5a7-4f05-902d-707a5eb02a69",
   "metadata": {},
   "source": [
    "# Get data from Main table on BigQuery"
   ]
  },
  {
   "cell_type": "code",
   "execution_count": 148,
   "id": "8d02a892-1631-486f-a7c1-c0b037b4589a",
   "metadata": {
    "tags": []
   },
   "outputs": [
    {
     "name": "stdout",
     "output_type": "stream",
     "text": [
      "\n",
      "    SELECT pm_id FROM `smart-data-ml.SMartDataAnalytics.pm_plan` WHERE  is_deleted=False\n",
      "    \n",
      "<class 'pandas.core.frame.DataFrame'>\n",
      "RangeIndex: 4875 entries, 0 to 4874\n",
      "Data columns (total 1 columns):\n",
      " #   Column  Non-Null Count  Dtype\n",
      "---  ------  --------------  -----\n",
      " 0   pm_id   4875 non-null   Int64\n",
      "dtypes: Int64(1)\n",
      "memory usage: 43.0 KB\n"
     ]
    }
   ],
   "source": [
    "def Get_ID_BQ():\n",
    "    sql_bq=f\"\"\"\n",
    "    SELECT {key_id} FROM `{dw_table_id}` WHERE  is_deleted=False\n",
    "    \"\"\"\n",
    "    print(sql_bq)\n",
    "    df=load_data_bq(sql_bq)\n",
    "    return df\n",
    "\n",
    "dfBQ=Get_ID_BQ()\n",
    "dfBQ.info()"
   ]
  },
  {
   "cell_type": "markdown",
   "id": "53b468c3-5b37-4b8f-a3ae-3b8df9d982cf",
   "metadata": {},
   "source": [
    "# Comparision"
   ]
  },
  {
   "cell_type": "code",
   "execution_count": 149,
   "id": "f8ee49a4-f40c-457e-9b90-2e4b0a9f6dd6",
   "metadata": {
    "tags": []
   },
   "outputs": [],
   "source": [
    "def get_different_values(list1, list2):\n",
    "  \"\"\"Get the values list of the values in BQ that are not in DB vice versa.\n",
    "\n",
    "  Args:\n",
    "    list1: BQ or DB.\n",
    "    list2: BQ or DB.\n",
    "\n",
    "  Returns:\n",
    "    A list of the values in BQ that are not in DB vice versa.\n",
    "  \"\"\"\n",
    "\n",
    "  result = []\n",
    "  for value in list1:\n",
    "    if value not in list2:\n",
    "      result.append(value)\n",
    "\n",
    "  return result\n",
    "\n",
    "\n",
    "    "
   ]
  },
  {
   "cell_type": "code",
   "execution_count": 150,
   "id": "ece864b2-aa4a-4651-850e-cf17202df00c",
   "metadata": {
    "tags": []
   },
   "outputs": [
    {
     "name": "stdout",
     "output_type": "stream",
     "text": [
      "DB:4770 vs BQ:4875\n",
      "Not been sychronized to smart-data-ml.SMartDataAnalytics.pm_plan yet : list values in DB that are not in BQ\n",
      "[1488, 1482, 1483, 1484, 1485, 1486, 1478, 1480, 1481, 1489, 1495, 1497, 1515, 1516, 1517, 1520, 1490, 1523, 1518, 1528, 1524, 1525, 1498, 1526, 1491, 1499, 1527, 1492, 1500, 1493, 1501, 1521, 1494, 1502, 1530, 1522, 1496, 1701, 3906, 3907, 3908, 1519, 1529]\n",
      "=================================================================================================\n",
      "Already deleted on SMartDB: list values in BQ that are not in DB\n",
      "[5478, 5488, 5498, 5469, 5554, 5556, 5557, 5555, 5558, 5552, 5553, 5505, 5511, 5515, 5514, 5513, 5516, 5512, 5465, 5494, 5474, 5484, 5452, 5456, 5460, 5499, 5479, 5489, 5451, 5431, 5446, 5436, 5441, 5454, 5458, 5462, 5475, 5495, 5485, 5520, 5517, 5519, 5523, 5522, 5518, 5470, 5509, 5508, 5504, 5507, 5510, 5503, 5506, 5559, 5560, 5563, 5564, 5562, 5565, 5561, 5545, 5546, 5550, 5549, 5548, 5551, 5547, 5430, 5521, 5472, 5486, 5496, 5476, 5567, 5569, 5568, 5570, 5571, 5572, 5566, 5455, 5459, 5463, 5477, 5487, 5497, 5492, 5482, 5502, 5493, 5483, 5473, 5467, 5468, 5464, 5524, 5525, 5528, 5530, 5527, 5529, 5526, 5490, 5480, 5500, 5437, 5432, 5447, 5442, 5427, 5457, 5453, 5461, 5531, 5532, 5535, 5536, 5534, 5537, 5533, 5538, 5539, 5543, 5542, 5541, 5544, 5540, 5434, 5429, 5444, 5449, 5439, 5471, 5501, 5481, 5491, 5466, 5448, 5428, 5438, 5433, 5443, 5397, 5393, 5440, 5435, 5450, 5445]\n"
     ]
    }
   ],
   "source": [
    "def find_diff_id(dfPostgres,dfBigQuery):\n",
    "    \"\"\"\n",
    "    Find different ID betwee Postgresql and Bigquery\n",
    "    Args:\n",
    "    list1: Rows were returne from PostgresDB.\n",
    "    list2: Rows were returne from Bigquery.\n",
    "\n",
    "    Returns:\n",
    "    A list of the values in BQ that are not in DB vice versa.\n",
    "    \n",
    "    \"\"\"\n",
    "    dbList=dfPostgres[key_id].tolist()\n",
    "    bqList=dfBigQuery[key_id].tolist()\n",
    "\n",
    "    # dbList=[1,2,3,4,5,6,7,8,9,10]\n",
    "    # bqList=[1,2,3,4,5,10,11,12]\n",
    "    print(f\"DB:{len(dbList)} vs BQ:{len(bqList)}\")\n",
    "\n",
    "    if len(dbList)!=len(bqList):\n",
    "        print(f\"Not been sychronized to {dw_table_id} yet : list values in DB that are not in BQ\")\n",
    "        diffDB=get_different_values(dbList,bqList)\n",
    "        print(diffDB)\n",
    "        print(\"=================================================================================================\")\n",
    "\n",
    "        print(f\"Already deleted on {config['DATABASES_NAME']}: list values in BQ that are not in DB\")\n",
    "        diffBQ=get_different_values(bqList,dbList)\n",
    "        print(diffBQ)\n",
    "        return   diffDB,diffBQ\n",
    "\n",
    "    else:\n",
    "        print(\"Great\")\n",
    "        return [],[]\n",
    "    \n",
    "\n",
    "        \n",
    "dbIDs,BQIds=find_diff_id(dfDB,dfBQ)  "
   ]
  },
  {
   "cell_type": "markdown",
   "id": "d5ac95a3-f19c-4a4b-9cd0-d5a17c887fad",
   "metadata": {},
   "source": [
    "# Get data from SMARTDB that have been synchoize to BigQuery"
   ]
  },
  {
   "cell_type": "code",
   "execution_count": 152,
   "id": "9a8760a7-7939-4256-b893-0cc77f4a5aad",
   "metadata": {
    "tags": []
   },
   "outputs": [
    {
     "name": "stdout",
     "output_type": "stream",
     "text": [
      "\n",
      "        select * from pmr_pm_plan where pm_id in (1488,1482,1483,1484,1485,1486,1478,1480,1481,1489,1495,1497,1515,1516,1517,1520,1490,1523,1518,1528,1524,1525,1498,1526,1491,1499,1527,1492,1500,1493,1501,1521,1494,1502,1530,1522,1496,1701,3906,3907,3908,1519,1529)\n",
      "        order by updated_at desc\n",
      "        \n",
      "    pm_id  project_id planned_date ended_pm_date                 pm_period  \\\n",
      "0    1522         518   2025-01-01    2025-01-26                     12/12   \n",
      "1    1530         518   2025-01-01    2025-01-26                     12/12   \n",
      "2    1502         518   2025-01-01    2025-01-26                     12/12   \n",
      "3    1494         518   2025-01-01    2025-01-26                     12/12   \n",
      "4    1486         518   2025-01-01    2025-01-26                     12/12   \n",
      "5    1529         518   2024-10-01    2024-10-28                     11/12   \n",
      "6    1521         518   2024-10-01    2024-10-28                     11/12   \n",
      "7    1501         518   2024-10-01    2024-10-28                     11/12   \n",
      "8    1493         518   2024-10-01    2024-10-28                     11/12   \n",
      "9    1485         518   2024-10-01    2024-10-28                     11/12   \n",
      "10   1500         518   2024-07-01    2024-07-30                     10/12   \n",
      "11   1492         518   2024-07-01    2024-07-30                     10/12   \n",
      "12   1484         518   2024-07-01    2024-07-30                     10/12   \n",
      "13   1527         518   2024-04-01    2024-05-01                      9/12   \n",
      "14   1519         518   2024-04-01    2024-05-01                      9/12   \n",
      "15   1499         518   2024-04-01    2024-05-01                      9/12   \n",
      "16   1491         518   2024-04-01    2024-05-01                      9/12   \n",
      "17   1483         518   2024-04-01    2024-05-01                      9/12   \n",
      "18   1526         518   2024-01-01    2024-01-31                      8/12   \n",
      "19   1498         518   2024-01-01    2024-01-31                      8/12   \n",
      "20   1518         518   2024-01-01    2024-01-31                      8/12   \n",
      "21   1490         518   2024-01-01    2024-01-31                      8/12   \n",
      "22   1482         518   2024-01-01    2024-01-31                      8/12   \n",
      "23   1515         518   2023-03-01    2023-03-31                      5/12   \n",
      "24   1516         518   2023-06-01    2023-06-30                      6/12   \n",
      "25   1517         518   2023-10-01    2023-10-31                      7/12   \n",
      "26   1496         518   2023-05-01    2023-05-31                      6/12   \n",
      "27   1495         518   2023-03-01    2023-03-31                      5/12   \n",
      "28   1520         518   2024-07-01    2024-07-31                     10/12   \n",
      "29   1478         518   2023-03-01    2023-03-31                      5/12   \n",
      "30   1489         518   2023-10-01    2023-10-31                      7/12   \n",
      "31   1523         518   2023-03-01    2023-03-31                      5/12   \n",
      "32   1524         518   2023-06-01    2023-06-30                      6/12   \n",
      "33   1525         518   2023-10-01    2023-10-31                      7/12   \n",
      "34   1488         518   2023-06-01    2023-06-30                      6/12   \n",
      "35   1528         518   2024-07-01    2024-07-31                     10/12   \n",
      "36   1481         518   2023-10-01    2023-10-31                      7/12   \n",
      "37   1480         518   2023-06-01    2023-06-30                      6/12   \n",
      "38   1701         518   2023-03-01    2023-03-31                      5/12   \n",
      "39   3906         624   2023-12-01    2023-12-31  BCM_Oct - Dec 2023 (2/4)   \n",
      "40   3907         624   2024-03-01    2024-03-31  BCM_Jan - Mar 2024 (3/4)   \n",
      "41   1497         518   2023-10-01    2023-10-31                      7/12   \n",
      "42   3908         624   2024-06-01    2024-06-30  BCM_Apr - Jun 2024 (4/4)   \n",
      "\n",
      "                 team_lead                       updated_at  \n",
      "0       Aunsorn Sanvangjun 2023-12-31 09:26:19.581276+07:00  \n",
      "1   Chaipus Aupatamwipanon 2023-12-31 09:25:52.944492+07:00  \n",
      "2        Panusak Sornplang 2023-12-31 09:25:38.463356+07:00  \n",
      "3           Narupon Saleah 2023-12-31 09:25:17.465265+07:00  \n",
      "4           Boonlert Kawta 2023-12-31 09:24:58.253498+07:00  \n",
      "5   Chaipus Aupatamwipanon 2023-12-31 09:22:29.000415+07:00  \n",
      "6       Aunsorn Sanvangjun 2023-12-31 09:22:02.377502+07:00  \n",
      "7        Panusak Sornplang 2023-12-31 09:19:37.987207+07:00  \n",
      "8           Narupon Saleah 2023-12-31 09:18:44.530197+07:00  \n",
      "9           Boonlert Kawta 2023-12-31 09:16:56.532283+07:00  \n",
      "10       Panusak Sornplang 2023-12-31 09:15:43.624310+07:00  \n",
      "11          Narupon Saleah 2023-12-31 09:15:11.363904+07:00  \n",
      "12          Boonlert Kawta 2023-12-31 09:14:59.220965+07:00  \n",
      "13  Chaipus Aupatamwipanon 2023-12-31 09:14:17.835987+07:00  \n",
      "14      Aunsorn Sanvangjun 2023-12-31 09:13:49.592921+07:00  \n",
      "15       Panusak Sornplang 2023-12-31 09:13:31.245877+07:00  \n",
      "16          Narupon Saleah 2023-12-31 09:12:51.029679+07:00  \n",
      "17          Boonlert Kawta 2023-12-31 09:09:54.519450+07:00  \n",
      "18  Chaipus Aupatamwipanon 2023-12-31 09:07:14.783029+07:00  \n",
      "19       Panusak Sornplang 2023-12-31 09:06:47.165606+07:00  \n",
      "20      Aunsorn Sanvangjun 2023-12-31 09:06:20.571886+07:00  \n",
      "21          Narupon Saleah 2023-12-31 09:06:00.723850+07:00  \n",
      "22          Boonlert Kawta 2023-12-31 09:05:49.717174+07:00  \n",
      "23      Aunsorn Sanvangjun 2023-12-02 11:32:54.226779+07:00  \n",
      "24      Aunsorn Sanvangjun 2023-12-02 11:32:54.226779+07:00  \n",
      "25      Aunsorn Sanvangjun 2023-12-02 11:32:54.226779+07:00  \n",
      "26       Panusak Sornplang 2023-12-02 11:32:54.226779+07:00  \n",
      "27          Narupon Saleah 2023-12-02 11:32:54.226779+07:00  \n",
      "28      Aunsorn Sanvangjun 2023-12-02 11:32:54.226779+07:00  \n",
      "29          Boonlert Kawta 2023-12-02 11:32:54.226779+07:00  \n",
      "30          Narupon Saleah 2023-12-02 11:32:54.226779+07:00  \n",
      "31  Chaipus Aupatamwipanon 2023-12-02 11:32:54.226779+07:00  \n",
      "32  Chaipus Aupatamwipanon 2023-12-02 11:32:54.226779+07:00  \n",
      "33  Chaipus Aupatamwipanon 2023-12-02 11:32:54.226779+07:00  \n",
      "34          Narupon Saleah 2023-12-02 11:32:54.226779+07:00  \n",
      "35  Chaipus Aupatamwipanon 2023-12-02 11:32:54.226779+07:00  \n",
      "36          Boonlert Kawta 2023-12-02 11:32:54.226779+07:00  \n",
      "37          Boonlert Kawta 2023-12-02 11:32:54.226779+07:00  \n",
      "38       Panusak Sornplang 2023-12-02 11:32:54.226779+07:00  \n",
      "39    Chatchai Glaewtanong 2023-12-02 11:32:54.226779+07:00  \n",
      "40    Chatchai Glaewtanong 2023-12-02 11:32:54.226779+07:00  \n",
      "41       Panusak Sornplang 2023-12-02 11:32:54.226779+07:00  \n",
      "42    Chatchai Glaewtanong 2023-12-02 11:32:54.226779+07:00  \n"
     ]
    }
   ],
   "source": [
    "def get_comming_data(x_dbIDs,id):\n",
    "    if len(dbIDs)>0:\n",
    "        x_dbIDs=[str(id) for id in x_dbIDs ]\n",
    "        IDs=\"({})\".format(\",\".join(x_dbIDs))\n",
    "        # print(IDs)\n",
    "        sqlList=f\"\"\"\n",
    "        select * from {view_name} where {id} in {IDs}\n",
    "        order by updated_at desc\n",
    "        \"\"\"\n",
    "        print(sqlList)\n",
    "        dfXYZ=list_data_pg(sqlList,None,get_postgres_conn())\n",
    "        if dfXYZ.empty==False:\n",
    "            print(dfXYZ)\n",
    "            dfXYZ.to_csv(f\"data_consistence_check/{view_name}-{bq_table_name}_{str_date_imported}.csv\",index=False)\n",
    "            return True\n",
    "\n",
    "        return False\n",
    "    else:\n",
    "    \n",
    "        return False\n",
    "        \n",
    "        \n",
    "result=get_comming_data(dbIDs,key_id)        "
   ]
  },
  {
   "cell_type": "code",
   "execution_count": null,
   "id": "db96141d-6064-4290-a8d7-8a92507c651b",
   "metadata": {},
   "outputs": [],
   "source": []
  },
  {
   "cell_type": "code",
   "execution_count": null,
   "id": "81476978-fe31-44fa-9a8c-d850fb849538",
   "metadata": {},
   "outputs": [],
   "source": []
  }
 ],
 "metadata": {
  "kernelspec": {
   "display_name": "Python 3 (ipykernel)",
   "language": "python",
   "name": "python3"
  },
  "language_info": {
   "codemirror_mode": {
    "name": "ipython",
    "version": 3
   },
   "file_extension": ".py",
   "mimetype": "text/x-python",
   "name": "python",
   "nbconvert_exporter": "python",
   "pygments_lexer": "ipython3",
   "version": "3.10.12"
  }
 },
 "nbformat": 4,
 "nbformat_minor": 5
}
