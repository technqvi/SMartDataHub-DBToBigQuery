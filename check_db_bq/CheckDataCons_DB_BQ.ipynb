{
 "cells": [
  {
   "cell_type": "code",
   "execution_count": 1,
   "id": "b90aa90a-d3c6-44ad-96d3-a9e93faa97b0",
   "metadata": {
    "tags": []
   },
   "outputs": [],
   "source": [
    "import psycopg2\n",
    "from psycopg2 import sql\n",
    "import psycopg2.extras as extras\n",
    "\n",
    "from google.cloud import bigquery\n",
    "from google.oauth2 import service_account\n",
    "\n",
    "\n",
    "import pandas as pd\n",
    "import json\n",
    "from datetime import datetime,timezone\n",
    "\n",
    "from dotenv import dotenv_values"
   ]
  },
  {
   "cell_type": "code",
   "execution_count": 2,
   "id": "4352357a-dfd3-46b8-8d17-a41e4a261b50",
   "metadata": {
    "tags": []
   },
   "outputs": [
    {
     "name": "stdout",
     "output_type": "stream",
     "text": [
      "12012024_2053\n",
      "pmr_pm_plan vs pm_plan\n"
     ]
    }
   ],
   "source": [
    "view_name='pmr_pm_plan'\n",
    "bq_table_name=view_name.replace('pmr_','')\n",
    "start_query=\"2019-01-01\"\n",
    "\n",
    "tz=\"utc\"\n",
    "\n",
    "dt_imported=datetime.now() # utc\n",
    "str_date_imported=dt_imported.strftime('%d%m%Y_%H%M')\n",
    "print(str_date_imported)\n",
    "\n",
    "print(f\"{view_name} vs {bq_table_name}\")"
   ]
  },
  {
   "cell_type": "code",
   "execution_count": 3,
   "id": "517046a2-a392-4842-bd9a-d895acd22391",
   "metadata": {
    "tags": []
   },
   "outputs": [
    {
     "name": "stdout",
     "output_type": "stream",
     "text": [
      "pm_id\n"
     ]
    }
   ],
   "source": [
    "def get_key_id_by_view_name(view_name):\n",
    "\n",
    "    if view_name == \"pmr_pm_plan\":\n",
    "        key_name = \"pm_id\"\n",
    "    elif view_name == \"pmr_pm_item\":\n",
    "        key_name = \"pm_item_id\"\n",
    "    elif view_name == \"pmr_project\":\n",
    "        key_name = \"project_id\"\n",
    "    elif view_name == \"pmr_inventory\":\n",
    "        key_name = \"inventory_id\"     \n",
    "    elif view_name == \"xyz_incident\":\n",
    "        key_name = \"incident_id\"   \n",
    "    else:\n",
    "        raise Exception(\"No specified content type id\")\n",
    "        \n",
    "    return key_name                       \n",
    "key_id=get_key_id_by_view_name(view_name)\n",
    "print(key_id)"
   ]
  },
  {
   "cell_type": "markdown",
   "id": "8432e330-3234-401d-b378-2be55fc45cb1",
   "metadata": {},
   "source": [
    "# Config DB and BQ"
   ]
  },
  {
   "cell_type": "code",
   "execution_count": 10,
   "id": "85874982-4e3c-4a00-a4fc-f4ef831e8942",
   "metadata": {
    "tags": []
   },
   "outputs": [
    {
     "name": "stdout",
     "output_type": "stream",
     "text": [
      "../.env\n",
      "smart-data-ml.SMartDataAnalytics.pm_plan\n"
     ]
    }
   ],
   "source": [
    "env_path='../.env'\n",
    "config = dotenv_values(dotenv_path=env_path)\n",
    "print(env_path)\n",
    "\n",
    "\n",
    "projectId='smart-data-ml'\n",
    "credentials = service_account.Credentials.from_service_account_file(r'C:\\Windows\\smart-data-ml-91b6f6204773.json')\n",
    "client = bigquery.Client(credentials=credentials, project=projectId)\n",
    "# client = bigquery.Client(project=projectId)\n",
    "dw_dataset_id=\"SMartDataAnalytics\"\n",
    "\n",
    "dw_table_id = f\"{projectId}.{dw_dataset_id}.{bq_table_name}\"\n",
    "print(dw_table_id)"
   ]
  },
  {
   "cell_type": "markdown",
   "id": "401620d6-586a-4db5-b725-34a7c96399b4",
   "metadata": {},
   "source": [
    "# Postgres &BigQuery"
   ]
  },
  {
   "cell_type": "code",
   "execution_count": 11,
   "id": "502b971f-8c5e-4212-aded-29aeb1242898",
   "metadata": {
    "tags": []
   },
   "outputs": [],
   "source": [
    "def get_postgres_conn():\n",
    " try:\n",
    "  conn = psycopg2.connect(\n",
    "        database=config['DATABASES_NAME'], user=config['DATABASES_USER'],\n",
    "      password=config['DATABASES_PASSWORD'], host=config['DATABASES_HOST']\n",
    "     )\n",
    "  return conn\n",
    "\n",
    " except Exception as error:\n",
    "  print(error)      \n",
    "  raise error\n",
    "def list_data_pg(sql,params,connection):\n",
    " df=None   \n",
    " with connection.cursor() as cursor:\n",
    "    \n",
    "    if params is None:\n",
    "       cursor.execute(sql)\n",
    "    else:\n",
    "       cursor.execute(sql,params)\n",
    "    \n",
    "    columns = [col[0] for col in cursor.description]\n",
    "    dataList = [dict(zip(columns, row)) for row in cursor.fetchall()]\n",
    "    df = pd.DataFrame(data=dataList) \n",
    " return df \n",
    "\n",
    "def load_data_bq(sql:str):\n",
    "\n",
    " query_result=client.query(sql)\n",
    " df_all=query_result.to_dataframe()\n",
    " return df_all"
   ]
  },
  {
   "cell_type": "markdown",
   "id": "f0652289-8233-4c99-8668-54ecf61dd4c3",
   "metadata": {},
   "source": [
    "# Get data from View on Postgres DB"
   ]
  },
  {
   "cell_type": "code",
   "execution_count": 12,
   "id": "90375b46-7f43-401c-a2d4-9ec816ff8fbd",
   "metadata": {
    "tags": []
   },
   "outputs": [
    {
     "name": "stdout",
     "output_type": "stream",
     "text": [
      "\n",
      "    select pm_id from pmr_pm_plan where updated_at AT time zone 'utc' >= '2019-01-01' \n",
      "    \n",
      "<class 'pandas.core.frame.DataFrame'>\n",
      "RangeIndex: 4770 entries, 0 to 4769\n",
      "Data columns (total 1 columns):\n",
      " #   Column  Non-Null Count  Dtype\n",
      "---  ------  --------------  -----\n",
      " 0   pm_id   4770 non-null   int64\n",
      "dtypes: int64(1)\n",
      "memory usage: 37.4 KB\n"
     ]
    }
   ],
   "source": [
    "def Get_ID_DB():\n",
    "    sql_pg=f\"\"\"\n",
    "    select {key_id} from {view_name} where updated_at AT time zone '{tz}' >= '{start_query}' \n",
    "    \"\"\"\n",
    "    print(sql_pg)\n",
    "    df=list_data_pg(sql_pg,None,get_postgres_conn())\n",
    "    return df\n",
    "dfDB=Get_ID_DB()\n",
    "dfDB.info()"
   ]
  },
  {
   "cell_type": "markdown",
   "id": "ffd3c323-e5a7-4f05-902d-707a5eb02a69",
   "metadata": {},
   "source": [
    "# Get data from Main table on BigQuery"
   ]
  },
  {
   "cell_type": "code",
   "execution_count": null,
   "id": "8d02a892-1631-486f-a7c1-c0b037b4589a",
   "metadata": {
    "tags": []
   },
   "outputs": [],
   "source": [
    "def Get_ID_BQ():\n",
    "    sql_bq=f\"\"\"\n",
    "    SELECT {key_id} FROM `{dw_table_id}` WHERE  is_deleted=False\n",
    "    \"\"\"\n",
    "    print(sql_bq)\n",
    "    df=load_data_bq(sql_bq)\n",
    "    return df\n",
    "\n",
    "dfBQ=Get_ID_BQ()\n",
    "dfBQ.info()"
   ]
  },
  {
   "cell_type": "markdown",
   "id": "53b468c3-5b37-4b8f-a3ae-3b8df9d982cf",
   "metadata": {},
   "source": [
    "# Comparision"
   ]
  },
  {
   "cell_type": "code",
   "execution_count": null,
   "id": "f8ee49a4-f40c-457e-9b90-2e4b0a9f6dd6",
   "metadata": {
    "tags": []
   },
   "outputs": [],
   "source": [
    "def get_different_values(list1, list2):\n",
    "  \"\"\"Get the values list of the values in BQ that are not in DB vice versa.\n",
    "\n",
    "  Args:\n",
    "    list1: BQ or DB.\n",
    "    list2: BQ or DB.\n",
    "\n",
    "  Returns:\n",
    "    A list of the values in BQ that are not in DB vice versa.\n",
    "  \"\"\"\n",
    "\n",
    "  result = []\n",
    "  for value in list1:\n",
    "    if value not in list2:\n",
    "      result.append(value)\n",
    "\n",
    "  return result\n",
    "\n",
    "\n",
    "    "
   ]
  },
  {
   "cell_type": "code",
   "execution_count": null,
   "id": "ece864b2-aa4a-4651-850e-cf17202df00c",
   "metadata": {
    "tags": []
   },
   "outputs": [],
   "source": [
    "def find_diff_id(dfPostgres,dfBigQuery):\n",
    "    \"\"\"\n",
    "    Find different ID betwee Postgresql and Bigquery\n",
    "    Args:\n",
    "    list1: Rows were returne from PostgresDB.\n",
    "    list2: Rows were returne from Bigquery.\n",
    "\n",
    "    Returns:\n",
    "    A list of the values in BQ that are not in DB vice versa.\n",
    "    \n",
    "    \"\"\"\n",
    "    dbList=dfPostgres[key_id].tolist()\n",
    "    bqList=dfBigQuery[key_id].tolist()\n",
    "\n",
    "    # dbList=[1,2,3,4,5,6,7,8,9,10]\n",
    "    # bqList=[1,2,3,4,5,10,11,12]\n",
    "    print(f\"DB:{len(dbList)} vs BQ:{len(bqList)}\")\n",
    "\n",
    "    if len(dbList)!=len(bqList):\n",
    "        print(f\"Not been sychronized to {dw_table_id} yet : list values in DB that are not in BQ\")\n",
    "        diffDB=get_different_values(dbList,bqList)\n",
    "        print(diffDB)\n",
    "        print(\"=================================================================================================\")\n",
    "\n",
    "        print(f\"Already deleted on {config['DATABASES_NAME']}: list values in BQ that are not in DB\")\n",
    "        diffBQ=get_different_values(bqList,dbList)\n",
    "        print(diffBQ)\n",
    "        return   diffDB,diffBQ\n",
    "\n",
    "    else:\n",
    "        print(\"Great\")\n",
    "        return [],[]\n",
    "    \n",
    "\n",
    "        \n",
    "dbIDs,BQIds=find_diff_id(dfDB,dfBQ)  "
   ]
  },
  {
   "cell_type": "markdown",
   "id": "d5ac95a3-f19c-4a4b-9cd0-d5a17c887fad",
   "metadata": {},
   "source": [
    "# Get data from SMARTDB that have been synchoize to BigQuery"
   ]
  },
  {
   "cell_type": "code",
   "execution_count": null,
   "id": "9a8760a7-7939-4256-b893-0cc77f4a5aad",
   "metadata": {
    "tags": []
   },
   "outputs": [],
   "source": [
    "def get_comming_data(x_dbIDs,id):\n",
    "    if len(dbIDs)>0:\n",
    "        x_dbIDs=[str(id) for id in x_dbIDs ]\n",
    "        IDs=\"({})\".format(\",\".join(x_dbIDs))\n",
    "        # print(IDs)\n",
    "        sqlList=f\"\"\"\n",
    "        select * from {view_name} where {id} in {IDs}\n",
    "        order by updated_at desc\n",
    "        \"\"\"\n",
    "        print(sqlList)\n",
    "        dfXYZ=list_data_pg(sqlList,None,get_postgres_conn())\n",
    "        if dfXYZ.empty==False:\n",
    "            print(dfXYZ)\n",
    "            dfXYZ.to_csv(f\"data_consistence_check/{view_name}-{bq_table_name}_{str_date_imported}.csv\",index=False)\n",
    "            return True\n",
    "\n",
    "        return False\n",
    "    else:\n",
    "    \n",
    "        return False\n",
    "        \n",
    "        \n",
    "result=get_comming_data(dbIDs,key_id)        "
   ]
  },
  {
   "cell_type": "code",
   "execution_count": null,
   "id": "db96141d-6064-4290-a8d7-8a92507c651b",
   "metadata": {},
   "outputs": [],
   "source": []
  },
  {
   "cell_type": "code",
   "execution_count": null,
   "id": "81476978-fe31-44fa-9a8c-d850fb849538",
   "metadata": {},
   "outputs": [],
   "source": []
  }
 ],
 "metadata": {
  "kernelspec": {
   "display_name": "Python 3 (ipykernel)",
   "language": "python",
   "name": "python3"
  },
  "language_info": {
   "codemirror_mode": {
    "name": "ipython",
    "version": 3
   },
   "file_extension": ".py",
   "mimetype": "text/x-python",
   "name": "python",
   "nbconvert_exporter": "python",
   "pygments_lexer": "ipython3",
   "version": "3.10.12"
  }
 },
 "nbformat": 4,
 "nbformat_minor": 5
}
