{
 "cells": [
  {
   "cell_type": "code",
   "execution_count": null,
   "id": "74d3915e-295d-4369-93bb-1cac6ac15bee",
   "metadata": {
    "tags": []
   },
   "outputs": [],
   "source": [
    "import pandas as pd\n",
    "import numpy as np\n",
    "import math\n",
    "import os\n",
    "import json\n",
    "from datetime import datetime ,timezone\n",
    "\n",
    "import smart_bq_storage_api.viewdb_to_bq  as x\n",
    "import smart_bq_storage_api.incident_data_pb2 as pb2_incident"
   ]
  },
  {
   "cell_type": "markdown",
   "id": "89ec021d-9524-4499-931e-30eaf611b555",
   "metadata": {},
   "source": [
    "# Parameter Argument"
   ]
  },
  {
   "cell_type": "code",
   "execution_count": null,
   "id": "71f8f594-1cdc-4d9f-bd06-55285139d614",
   "metadata": {
    "tags": []
   },
   "outputs": [],
   "source": [
    "\n",
    "csv_file=\"incident_bq-storage-api.csv\"\n",
    "\n",
    "view_name=\"xyz_incident\"\n",
    "view_name_id=\"incident_id\"\n",
    "\n",
    "datetimeCols=[\"open_datetime\",\"close_datetime\"]\n",
    "pk_fkCols=['inventory_id', 'incident_id']\n",
    "\n",
    "projectId=\"pongthorn\"\n",
    "main_dataset_id='SMartDataAnalytics'\n",
    "\n",
    "table_name=\"incident\"\n",
    "\n",
    "dt_imported=datetime.now(timezone.utc) # utc\n",
    "dt_imported=datetime.strptime(dt_imported.strftime(\"%Y-%m-%d %H:%M:%S\"),\"%Y-%m-%d %H:%M:%S\")\n",
    "\n",
    "\n",
    "# def db_to_bq_by_bq_storage_api(**kwargs):\n",
    "\n",
    "\n",
    "\n",
    "from google.protobuf.timestamp_pb2 import Timestamp\n",
    "\n",
    "#     csv_file = kwargs.get('csv_file', \"incident_bq-storage-api.csv\")\n",
    "#     view_name = kwargs.get('view_name', \"xyz_incident\")\n",
    "#     view_name_id = kwargs.get('view_name_id', \"incident_id\")\n",
    "\n",
    "#     datetimeCols = kwargs.get('datetimeCols', [\"open_datetime\",\"close_datetime\"])\n",
    "#     pk_fkCols= kwargs.get('pk_fkCols', ['inventory_id', 'incident_id'])\n",
    "\n",
    "#     projectId = kwargs.get('projectId', \"pongthorn\")\n",
    "#     main_dataset_id = kwargs.get('main_dataset_id', 'SMartDataAnalytics')\n",
    "#     table_name=kwargs.get('table_name', \"incident\")\n",
    "\n",
    "#     dt_imported = kwargs.get('dt_imported',datetime.strptime( \n",
    "#         datetime.now(timezone.utc).strftime(\"%Y-%m-%d %H:%M:%S\"),\"%Y-%m-%d %H:%M:%S\"))\n",
    "\n",
    "\n",
    "\n"
   ]
  },
  {
   "cell_type": "markdown",
   "id": "7890da13-5331-41fb-b26b-356e1f5be9ad",
   "metadata": {},
   "source": [
    "# Init Const and Variable "
   ]
  },
  {
   "cell_type": "code",
   "execution_count": null,
   "id": "c09b312a-46ae-4240-84d6-6003dea99bdb",
   "metadata": {
    "tags": []
   },
   "outputs": [],
   "source": [
    "upsert_json_file=\"incident_upsert.json\"\n",
    "delete_json_file=\"incident_delete.json\""
   ]
  },
  {
   "cell_type": "markdown",
   "id": "5bd3eed7-f934-4cc5-a0bc-8dcabf0e7641",
   "metadata": {},
   "source": [
    "# BQ-Storage-API Data Transformation"
   ]
  },
  {
   "cell_type": "code",
   "execution_count": null,
   "id": "acd96418-4d5a-4e16-a0bf-57cca1c26bb4",
   "metadata": {
    "tags": []
   },
   "outputs": [],
   "source": [
    "print(\"Read Csv file to process\")\n",
    "df=pd.read_csv(csv_file)\n",
    "print(df.info())"
   ]
  },
  {
   "cell_type": "code",
   "execution_count": null,
   "id": "fae5d356-0079-411d-890c-1330894d14fa",
   "metadata": {
    "tags": []
   },
   "outputs": [],
   "source": [
    "print(\"Add timestamp import\")\n",
    "dtimestamp = Timestamp()\n",
    "dtimestamp.FromDatetime(dt_imported)\n",
    "update_at_micro_timestampe =dtimestamp.ToMicroseconds()\n",
    "df['update_at']=update_at_micro_timestampe \n"
   ]
  },
  {
   "cell_type": "code",
   "execution_count": null,
   "id": "1c2713d2-c94c-47aa-8123-a9689e1e3892",
   "metadata": {
    "tags": []
   },
   "outputs": [],
   "source": [
    "print(\"Change action type\")\n",
    "\n",
    "def change_action_merge_to_bq_storage_api(x):\n",
    "    if x==\"added\" or x==\"changed\":\n",
    "        return  \"UPSERT\"\n",
    "    else:\n",
    "        return \"DELETE\"   \n",
    "df[\"_CHANGE_TYPE\"]=df['action'].apply(change_action_merge_to_bq_storage_api)\n",
    "df=df.drop(columns=['action'])"
   ]
  },
  {
   "cell_type": "code",
   "execution_count": null,
   "id": "a5218264-8f1c-4ef1-9dbb-e55567da3041",
   "metadata": {
    "tags": []
   },
   "outputs": [],
   "source": [
    "print(\"Make sure all pk and fk are Int64\")\n",
    "if len(pk_fkCols)>0:\n",
    "    df[pk_fkCols] = df[pk_fkCols].astype('Int64')"
   ]
  },
  {
   "cell_type": "code",
   "execution_count": null,
   "id": "59c2cf5c-e0e6-467a-8b0e-db14b8c130f0",
   "metadata": {
    "tags": []
   },
   "outputs": [],
   "source": [
    "print(df.info())\n",
    "print(df.tail())"
   ]
  },
  {
   "cell_type": "markdown",
   "id": "83213cc1-a123-4f52-8515-d5a079ee5775",
   "metadata": {
    "tags": []
   },
   "source": [
    "# Spit data into UPSERT and DELETE "
   ]
  },
  {
   "cell_type": "code",
   "execution_count": null,
   "id": "2d6e81e2-7c84-4420-83b7-e9561401860b",
   "metadata": {
    "tags": []
   },
   "outputs": [],
   "source": [
    "print(\"filter data for UPSERT dataframe\")\n",
    "dfUpsert=df.query(\"_CHANGE_TYPE=='UPSERT'\")\n",
    "print(dfUpsert.info())\n",
    "print(dfUpsert.tail())\n"
   ]
  },
  {
   "cell_type": "code",
   "execution_count": null,
   "id": "25a0777c-a193-4999-83e4-6a03f846fdfc",
   "metadata": {
    "tags": []
   },
   "outputs": [],
   "source": [
    "print(\"filter data for DELETE dataframe\")\n",
    "dfDelete=df.query(\"_CHANGE_TYPE=='DELETE'\")\n",
    "print(dfDelete.info())\n",
    "print(dfDelete)"
   ]
  },
  {
   "cell_type": "markdown",
   "id": "c45512a7-df7b-491d-8c23-a79004a6af92",
   "metadata": {},
   "source": [
    "# Upsert dataframe tranformation"
   ]
  },
  {
   "cell_type": "markdown",
   "id": "9c709be9-496d-4aa2-b21a-eb77eb72829e",
   "metadata": {
    "tags": []
   },
   "source": [
    "# Timezone and UTC Convert\n",
    "## If you convert any time of any tz to timestampe for converting to Microseconds , it wll turn into UTC  so DateTime is UTC\n",
    "* to_char((abc.incident_datetime AT TIME ZONE 'Asia/Bangkok'::text),\n",
    "           'YYYY-MM-DD HH24:MI'::text)   AS open_datetime\n",
    "* to_char((abc.incident_datetime AT TIME ZONE 'UTC'::text),\n",
    "               'YYYY-MM-DD HH24:MI'::text)   AS open_datetime\n",
    "* https://www.epochconverter.com/\n",
    "\n",
    "\n"
   ]
  },
  {
   "cell_type": "markdown",
   "id": "fd658fd0-92e6-40e8-8072-a1b1c23c78fe",
   "metadata": {},
   "source": [
    "## WorkAround Sol: null dattime is replaced with 0(GMT:1-1-1970 12:00:00 AM)"
   ]
  },
  {
   "cell_type": "code",
   "execution_count": null,
   "id": "446a7dc8-c8c7-4131-9fa5-6ab3424dc187",
   "metadata": {
    "tags": []
   },
   "outputs": [],
   "source": [
    "print(\"Upsert dataframe tranformation\")\n",
    "if dfUpsert.empty==False:\n",
    "    print(\"Convert strng to datetime and microseconds accordingly\")\n",
    "\n",
    "    def convert_string_to_datetime_timestamp_microseconds (dt_str):\n",
    "        if isinstance(dt_str, str):\n",
    "            dt=datetime.strptime(dt_str,\"%Y-%m-%d %H:%M\")\n",
    "            \n",
    "            x_timestamp = Timestamp()\n",
    "            x_timestamp.FromDatetime(dt)\n",
    "            micro_x =x_timestamp.ToMicroseconds()\n",
    "            \n",
    "            return micro_x\n",
    "        else:\n",
    "            return np.nan\n",
    "    #        \n",
    "    \n",
    "    if len(datetimeCols)>0:\n",
    "        for d in datetimeCols:\n",
    "            #Check whick column contain null value if so, convert float64 to int 32\"\n",
    "            dfUpsert[d]=dfUpsert[d].apply(convert_string_to_datetime_timestamp_microseconds)\n",
    "            dfUpsert[d]=dfUpsert[d].astype('Int64')\n",
    "        \n",
    "# #         # handle null datetime value(workaround) for 2.0 but it seem to support in 3.0\n",
    "        # 1970-01-01 00:00:00 UTC\n",
    "        dfUpsert[d] = dfUpsert[d].fillna(0)\n",
    "        \n",
    "dfUpsert.info()\n",
    "print(dfUpsert)"
   ]
  },
  {
   "cell_type": "markdown",
   "id": "9186a835-e923-48d6-8a8d-865fcdcaab13",
   "metadata": {
    "tags": []
   },
   "source": [
    "# Delete dataframe tranformation"
   ]
  },
  {
   "cell_type": "code",
   "execution_count": null,
   "id": "862311b0-f73c-4afd-b009-ced45da2df72",
   "metadata": {
    "tags": []
   },
   "outputs": [],
   "source": [
    "print(\"Delete dataframe tranformation\")\n",
    "dfDelete=dfDelete[[view_name_id,\"_CHANGE_TYPE\"]]\n",
    "dfDelete.info()\n",
    "print(dfDelete)"
   ]
  },
  {
   "cell_type": "markdown",
   "id": "43d4aa14-4aea-4871-986e-d2636d44201c",
   "metadata": {},
   "source": [
    "# Write Json File to ingest to BQ by Buffer Protocol"
   ]
  },
  {
   "cell_type": "code",
   "execution_count": null,
   "id": "072deefa-6239-4e71-85af-f2c964fec39d",
   "metadata": {
    "tags": []
   },
   "outputs": [],
   "source": [
    "print(\"Write Json File (upsert and delete)  to ingest to BQ by Buffer Protocol\")\n",
    "if  dfUpsert.empty==False:\n",
    "    \n",
    "    print(upsert_json_file)\n",
    "    json_file_path=os.path.join(upsert_json_file)\n",
    "\n",
    "    json_incident_data = json.loads(dfUpsert.to_json(orient = 'records'))\n",
    "    with open(upsert_json_file, \"w\") as outfile:\n",
    "        json.dump(json_incident_data, outfile)"
   ]
  },
  {
   "cell_type": "code",
   "execution_count": null,
   "id": "9e153bfa-2034-4d3d-aa9b-77afc7c463a5",
   "metadata": {
    "tags": []
   },
   "outputs": [],
   "source": [
    "if  dfDelete.empty==False:\n",
    "    \n",
    "    print(delete_json_file)\n",
    "    json_file_path=os.path.join(delete_json_file)\n",
    "    json_incident_data = json.loads(dfDelete.to_json(orient = 'records'))\n",
    "    with open(json_file_path, \"w\") as outfile:\n",
    "        json.dump(json_incident_data, outfile)\n"
   ]
  },
  {
   "cell_type": "markdown",
   "id": "a0f5772b-55e4-4400-a201-4f3a724d1c13",
   "metadata": {},
   "source": [
    "# BufferProto to BQ "
   ]
  },
  {
   "cell_type": "code",
   "execution_count": null,
   "id": "d1aae568-4f48-44e5-8e8f-c90bcc77b7eb",
   "metadata": {
    "tags": []
   },
   "outputs": [],
   "source": [
    "print(\"BufferProto to BQ\")"
   ]
  },
  {
   "cell_type": "code",
   "execution_count": null,
   "id": "0306a11d-c0e4-434e-a546-013381456bb5",
   "metadata": {
    "tags": []
   },
   "outputs": [],
   "source": [
    "def get_data_pb2(view_name):\n",
    "    \n",
    "    x_data_pb2=None\n",
    "    if view_name == \"xyz_incident\": \n",
    "        x_data_pb2=pb2_incident.IncidentData()\n",
    "    else:\n",
    "        raise Exception(\"No specified view name to get data pb2\")\n",
    "        \n",
    "    return x_data_pb2"
   ]
  },
  {
   "cell_type": "code",
   "execution_count": null,
   "id": "304460e7-16fb-4747-9135-2e953bba8b15",
   "metadata": {
    "tags": []
   },
   "outputs": [],
   "source": [
    "listColumns= df.columns.tolist()\n",
    "print(listColumns)"
   ]
  },
  {
   "cell_type": "code",
   "execution_count": null,
   "id": "6c4a9585-ecbb-4968-b34e-9fc230b717d2",
   "metadata": {
    "tags": []
   },
   "outputs": [],
   "source": [
    "pb2_data=get_data_pb2(view_name)\n",
    "print(pb2_data.DESCRIPTOR)"
   ]
  },
  {
   "cell_type": "markdown",
   "id": "41f0b445-0243-4192-8022-13094bba7986",
   "metadata": {},
   "source": [
    "# Ingest data to Bigquery"
   ]
  },
  {
   "cell_type": "code",
   "execution_count": null,
   "id": "1c280f63-62be-443c-9fd9-310cbffcc775",
   "metadata": {
    "tags": []
   },
   "outputs": [],
   "source": [
    "print(\" Ingest data to Bigquery\")"
   ]
  },
  {
   "cell_type": "code",
   "execution_count": null,
   "id": "603e79a8-43ee-4e1d-bb68-7031a3b00265",
   "metadata": {
    "tags": []
   },
   "outputs": [],
   "source": [
    "\n",
    "if os.path.exists(upsert_json_file):\n",
    "    print(\"OK-Upsert\")\n",
    "    x.write_json_to_bq(listColumns=listColumns,\n",
    "                              x_data_pb2=pb2_data,\n",
    "                              json_data_file=upsert_json_file,\n",
    "                              project_name=projectId,\n",
    "                              dataset_name=main_dataset_id,\n",
    "                              table_name=table_name)\n",
    "                              \n",
    "\n"
   ]
  },
  {
   "cell_type": "code",
   "execution_count": null,
   "id": "a19adfa2-03ac-4ad8-a8d9-e2d13ce55a13",
   "metadata": {
    "tags": []
   },
   "outputs": [],
   "source": [
    "if os.path.exists(delete_json_file):\n",
    "    print(\"OK-Delete\")\n",
    "    x.write_json_to_bq(listColumns=listColumns,\n",
    "                              x_data_pb2=pb2_data,\n",
    "                              json_data_file=delete_json_file,\n",
    "                              project_name=projectId,\n",
    "                              dataset_name=main_dataset_id,\n",
    "                              table_name=table_name)\n",
    "                              \n"
   ]
  },
  {
   "cell_type": "markdown",
   "id": "2e7c29be-c4d6-4840-a86c-ebd6f42acaf2",
   "metadata": {},
   "source": [
    "# Delete all processed files"
   ]
  },
  {
   "cell_type": "code",
   "execution_count": null,
   "id": "468214a3-c59a-40d1-baa1-3f685c3acf17",
   "metadata": {
    "tags": []
   },
   "outputs": [],
   "source": [
    "print(\"Delete all files\") \n",
    "listFilesToBeDeleted=[csv_file,upsert_json_file,delete_json_file]\n",
    "for file in listFilesToBeDeleted:\n",
    "    if os.path.exists(file):\n",
    "        print(file)\n",
    "        os.remove(file)\n"
   ]
  },
  {
   "cell_type": "code",
   "execution_count": null,
   "id": "c8ec1a1f-0183-43fc-a39a-f9555d6c7e15",
   "metadata": {
    "tags": []
   },
   "outputs": [],
   "source": [
    "# return True"
   ]
  },
  {
   "cell_type": "code",
   "execution_count": null,
   "id": "45069c6c-88cd-4167-ba9a-64235742d13d",
   "metadata": {},
   "outputs": [],
   "source": []
  },
  {
   "cell_type": "code",
   "execution_count": null,
   "id": "35fb7915-4fca-44c9-be8a-38b564042093",
   "metadata": {},
   "outputs": [],
   "source": []
  }
 ],
 "metadata": {
  "kernelspec": {
   "display_name": "Python 3 (ipykernel)",
   "language": "python",
   "name": "python3"
  },
  "language_info": {
   "codemirror_mode": {
    "name": "ipython",
    "version": 3
   },
   "file_extension": ".py",
   "mimetype": "text/x-python",
   "name": "python",
   "nbconvert_exporter": "python",
   "pygments_lexer": "ipython3",
   "version": "3.10.12"
  }
 },
 "nbformat": 4,
 "nbformat_minor": 5
}
