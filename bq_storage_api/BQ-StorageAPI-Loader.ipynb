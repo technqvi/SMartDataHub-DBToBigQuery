{
 "cells": [
  {
   "cell_type": "code",
   "execution_count": 85,
   "id": "03048424-3a15-4805-b03f-db8b95be7bd0",
   "metadata": {
    "tags": []
   },
   "outputs": [],
   "source": [
    "import pandas as pd\n",
    "import numpy as np\n",
    "import math\n",
    "import os\n",
    "import json\n",
    "\n",
    "import viewdb_to_bq  as x\n",
    "\n",
    "import incident_data_pb2 as pb2_incident\n",
    "\n",
    "\n",
    "from google.protobuf.timestamp_pb2 import Timestamp\n",
    "\n",
    "from datetime import datetime ,timezone"
   ]
  },
  {
   "cell_type": "markdown",
   "id": "89ec021d-9524-4499-931e-30eaf611b555",
   "metadata": {},
   "source": [
    "# Parameter parameter"
   ]
  },
  {
   "cell_type": "code",
   "execution_count": 86,
   "id": "71f8f594-1cdc-4d9f-bd06-55285139d614",
   "metadata": {
    "tags": []
   },
   "outputs": [
    {
     "data": {
      "text/plain": [
       "datetime.datetime(2024, 1, 17, 18, 48, 6)"
      ]
     },
     "execution_count": 86,
     "metadata": {},
     "output_type": "execute_result"
    }
   ],
   "source": [
    "# file name\n",
    "csv_file=\"incident_bq-storage-api.csv\"\n",
    "\n",
    "# get data from dict\n",
    "view_name=\"xyz_incident\"\n",
    "view_name_id=\"incident_id\"\n",
    "datetimeCols=[\"open_datetime\",\"close_datetime\"]\n",
    "pk_fkCols=['inventory_id', 'incident_id']\n",
    "\n",
    "projectId=\"pongthorn\"\n",
    "main_dataset_id='SMartDataAnalytics'\n",
    "\n",
    "table_name=\"incident\"\n",
    "\n",
    "dt_imported=datetime.now(timezone.utc) # utc\n",
    "dt_imported=datetime.strptime(dt_imported.strftime(\"%Y-%m-%d %H:%M:%S\"),\"%Y-%m-%d %H:%M:%S\")\n",
    "dt_imported\n",
    "\n",
    "# def example_function(**kwargs):\n",
    "#     arg1 = kwargs.get('arg1', default_value1)\n",
    "#     arg2 = kwargs.get('arg2', default_value2)\n",
    "#     # ... process arguments\n",
    "\n",
    "# # Usage\n",
    "# example_function(arg1=value1, arg2=value2, arg3=value3, arg4=value4)\n"
   ]
  },
  {
   "cell_type": "markdown",
   "id": "7890da13-5331-41fb-b26b-356e1f5be9ad",
   "metadata": {},
   "source": [
    "# Init Const and Variable "
   ]
  },
  {
   "cell_type": "code",
   "execution_count": 87,
   "id": "c09b312a-46ae-4240-84d6-6003dea99bdb",
   "metadata": {
    "tags": []
   },
   "outputs": [],
   "source": [
    "upsert_json_file=\"incident_upsert.json\"\n",
    "delete_json_file=\"incident_delete.json\""
   ]
  },
  {
   "cell_type": "markdown",
   "id": "5bd3eed7-f934-4cc5-a0bc-8dcabf0e7641",
   "metadata": {},
   "source": [
    "# BQ-Storage-API Data Transformation"
   ]
  },
  {
   "cell_type": "code",
   "execution_count": 88,
   "id": "acd96418-4d5a-4e16-a0bf-57cca1c26bb4",
   "metadata": {
    "tags": []
   },
   "outputs": [
    {
     "name": "stdout",
     "output_type": "stream",
     "text": [
      "<class 'pandas.core.frame.DataFrame'>\n",
      "RangeIndex: 2 entries, 0 to 1\n",
      "Data columns (total 9 columns):\n",
      " #   Column          Non-Null Count  Dtype  \n",
      "---  ------          --------------  -----  \n",
      " 0   incident_id     2 non-null      int64  \n",
      " 1   inventory_id    0 non-null      float64\n",
      " 2   incident_type   0 non-null      float64\n",
      " 3   service_type    0 non-null      float64\n",
      " 4   severity        0 non-null      float64\n",
      " 5   status          0 non-null      float64\n",
      " 6   open_datetime   0 non-null      float64\n",
      " 7   close_datetime  0 non-null      float64\n",
      " 8   action          2 non-null      object \n",
      "dtypes: float64(7), int64(1), object(1)\n",
      "memory usage: 272.0+ bytes\n"
     ]
    }
   ],
   "source": [
    "df=pd.read_csv(csv_file)\n",
    "df.info()"
   ]
  },
  {
   "cell_type": "code",
   "execution_count": 89,
   "id": "fae5d356-0079-411d-890c-1330894d14fa",
   "metadata": {},
   "outputs": [
    {
     "name": "stdout",
     "output_type": "stream",
     "text": [
      "Add timestamp import\n"
     ]
    }
   ],
   "source": [
    "print(\"Add timestamp import\")\n",
    "dtimestamp = Timestamp()\n",
    "dtimestamp.FromDatetime(dt_imported)\n",
    "update_at_micro_timestampe =dtimestamp.ToMicroseconds()\n",
    "df['update_at']=update_at_micro_timestampe \n"
   ]
  },
  {
   "cell_type": "code",
   "execution_count": 90,
   "id": "1c2713d2-c94c-47aa-8123-a9689e1e3892",
   "metadata": {},
   "outputs": [
    {
     "name": "stdout",
     "output_type": "stream",
     "text": [
      "Change action type\n"
     ]
    }
   ],
   "source": [
    "print(\"Change action type\")\n",
    "\n",
    "def change_action_merge_to_bq_storage_api(x):\n",
    "    if x==\"added\" or x==\"changed\":\n",
    "        return  \"UPSERT\"\n",
    "    else:\n",
    "        return \"DELETE\"   \n",
    "df[\"_CHANGE_TYPE\"]=df['action'].apply(change_action_merge_to_bq_storage_api)\n",
    "df=df.drop(columns=['action'])"
   ]
  },
  {
   "cell_type": "code",
   "execution_count": 91,
   "id": "a5218264-8f1c-4ef1-9dbb-e55567da3041",
   "metadata": {
    "tags": []
   },
   "outputs": [
    {
     "name": "stdout",
     "output_type": "stream",
     "text": [
      "Make sure all pk and fk are Int64\n"
     ]
    }
   ],
   "source": [
    "print(\"Make sure all pk and fk are Int64\")\n",
    "if len(pk_fkCols)>0:\n",
    " df[pk_fkCols] = df[pk_fkCols].astype('Int64')"
   ]
  },
  {
   "cell_type": "code",
   "execution_count": 93,
   "id": "59c2cf5c-e0e6-467a-8b0e-db14b8c130f0",
   "metadata": {
    "tags": []
   },
   "outputs": [
    {
     "name": "stdout",
     "output_type": "stream",
     "text": [
      "<class 'pandas.core.frame.DataFrame'>\n",
      "RangeIndex: 2 entries, 0 to 1\n",
      "Data columns (total 10 columns):\n",
      " #   Column          Non-Null Count  Dtype  \n",
      "---  ------          --------------  -----  \n",
      " 0   incident_id     2 non-null      Int64  \n",
      " 1   inventory_id    0 non-null      Int64  \n",
      " 2   incident_type   0 non-null      float64\n",
      " 3   service_type    0 non-null      float64\n",
      " 4   severity        0 non-null      float64\n",
      " 5   status          0 non-null      float64\n",
      " 6   open_datetime   0 non-null      float64\n",
      " 7   close_datetime  0 non-null      float64\n",
      " 8   update_at       2 non-null      int64  \n",
      " 9   _CHANGE_TYPE    2 non-null      object \n",
      "dtypes: Int64(2), float64(6), int64(1), object(1)\n",
      "memory usage: 292.0+ bytes\n"
     ]
    },
    {
     "data": {
      "text/html": [
       "<div>\n",
       "<style scoped>\n",
       "    .dataframe tbody tr th:only-of-type {\n",
       "        vertical-align: middle;\n",
       "    }\n",
       "\n",
       "    .dataframe tbody tr th {\n",
       "        vertical-align: top;\n",
       "    }\n",
       "\n",
       "    .dataframe thead th {\n",
       "        text-align: right;\n",
       "    }\n",
       "</style>\n",
       "<table border=\"1\" class=\"dataframe\">\n",
       "  <thead>\n",
       "    <tr style=\"text-align: right;\">\n",
       "      <th></th>\n",
       "      <th>incident_id</th>\n",
       "      <th>inventory_id</th>\n",
       "      <th>incident_type</th>\n",
       "      <th>service_type</th>\n",
       "      <th>severity</th>\n",
       "      <th>status</th>\n",
       "      <th>open_datetime</th>\n",
       "      <th>close_datetime</th>\n",
       "      <th>update_at</th>\n",
       "      <th>_CHANGE_TYPE</th>\n",
       "    </tr>\n",
       "  </thead>\n",
       "  <tbody>\n",
       "    <tr>\n",
       "      <th>0</th>\n",
       "      <td>4384</td>\n",
       "      <td>&lt;NA&gt;</td>\n",
       "      <td>NaN</td>\n",
       "      <td>NaN</td>\n",
       "      <td>NaN</td>\n",
       "      <td>NaN</td>\n",
       "      <td>NaN</td>\n",
       "      <td>NaN</td>\n",
       "      <td>1705517286000000</td>\n",
       "      <td>DELETE</td>\n",
       "    </tr>\n",
       "    <tr>\n",
       "      <th>1</th>\n",
       "      <td>4329</td>\n",
       "      <td>&lt;NA&gt;</td>\n",
       "      <td>NaN</td>\n",
       "      <td>NaN</td>\n",
       "      <td>NaN</td>\n",
       "      <td>NaN</td>\n",
       "      <td>NaN</td>\n",
       "      <td>NaN</td>\n",
       "      <td>1705517286000000</td>\n",
       "      <td>DELETE</td>\n",
       "    </tr>\n",
       "  </tbody>\n",
       "</table>\n",
       "</div>"
      ],
      "text/plain": [
       "   incident_id  inventory_id  incident_type  service_type  severity  status  \\\n",
       "0         4384          <NA>            NaN           NaN       NaN     NaN   \n",
       "1         4329          <NA>            NaN           NaN       NaN     NaN   \n",
       "\n",
       "   open_datetime  close_datetime         update_at _CHANGE_TYPE  \n",
       "0            NaN             NaN  1705517286000000       DELETE  \n",
       "1            NaN             NaN  1705517286000000       DELETE  "
      ]
     },
     "execution_count": 93,
     "metadata": {},
     "output_type": "execute_result"
    }
   ],
   "source": [
    "df.info()\n",
    "df.tail()"
   ]
  },
  {
   "cell_type": "markdown",
   "id": "83213cc1-a123-4f52-8515-d5a079ee5775",
   "metadata": {
    "tags": []
   },
   "source": [
    "# Spit data into UPSERT and DELETE "
   ]
  },
  {
   "cell_type": "code",
   "execution_count": 94,
   "id": "2d6e81e2-7c84-4420-83b7-e9561401860b",
   "metadata": {
    "tags": []
   },
   "outputs": [
    {
     "name": "stdout",
     "output_type": "stream",
     "text": [
      "<class 'pandas.core.frame.DataFrame'>\n",
      "Index: 0 entries\n",
      "Data columns (total 10 columns):\n",
      " #   Column          Non-Null Count  Dtype  \n",
      "---  ------          --------------  -----  \n",
      " 0   incident_id     0 non-null      Int64  \n",
      " 1   inventory_id    0 non-null      Int64  \n",
      " 2   incident_type   0 non-null      float64\n",
      " 3   service_type    0 non-null      float64\n",
      " 4   severity        0 non-null      float64\n",
      " 5   status          0 non-null      float64\n",
      " 6   open_datetime   0 non-null      float64\n",
      " 7   close_datetime  0 non-null      float64\n",
      " 8   update_at       0 non-null      int64  \n",
      " 9   _CHANGE_TYPE    0 non-null      object \n",
      "dtypes: Int64(2), float64(6), int64(1), object(1)\n",
      "memory usage: 0.0+ bytes\n"
     ]
    },
    {
     "data": {
      "text/html": [
       "<div>\n",
       "<style scoped>\n",
       "    .dataframe tbody tr th:only-of-type {\n",
       "        vertical-align: middle;\n",
       "    }\n",
       "\n",
       "    .dataframe tbody tr th {\n",
       "        vertical-align: top;\n",
       "    }\n",
       "\n",
       "    .dataframe thead th {\n",
       "        text-align: right;\n",
       "    }\n",
       "</style>\n",
       "<table border=\"1\" class=\"dataframe\">\n",
       "  <thead>\n",
       "    <tr style=\"text-align: right;\">\n",
       "      <th></th>\n",
       "      <th>incident_id</th>\n",
       "      <th>inventory_id</th>\n",
       "      <th>incident_type</th>\n",
       "      <th>service_type</th>\n",
       "      <th>severity</th>\n",
       "      <th>status</th>\n",
       "      <th>open_datetime</th>\n",
       "      <th>close_datetime</th>\n",
       "      <th>update_at</th>\n",
       "      <th>_CHANGE_TYPE</th>\n",
       "    </tr>\n",
       "  </thead>\n",
       "  <tbody>\n",
       "  </tbody>\n",
       "</table>\n",
       "</div>"
      ],
      "text/plain": [
       "Empty DataFrame\n",
       "Columns: [incident_id, inventory_id, incident_type, service_type, severity, status, open_datetime, close_datetime, update_at, _CHANGE_TYPE]\n",
       "Index: []"
      ]
     },
     "execution_count": 94,
     "metadata": {},
     "output_type": "execute_result"
    }
   ],
   "source": [
    "dfUpsert=df.query(\"_CHANGE_TYPE=='UPSERT'\")\n",
    "dfUpsert.info()\n",
    "dfUpsert.tail()\n"
   ]
  },
  {
   "cell_type": "code",
   "execution_count": 95,
   "id": "25a0777c-a193-4999-83e4-6a03f846fdfc",
   "metadata": {
    "tags": []
   },
   "outputs": [
    {
     "name": "stdout",
     "output_type": "stream",
     "text": [
      "<class 'pandas.core.frame.DataFrame'>\n",
      "Index: 2 entries, 0 to 1\n",
      "Data columns (total 10 columns):\n",
      " #   Column          Non-Null Count  Dtype  \n",
      "---  ------          --------------  -----  \n",
      " 0   incident_id     2 non-null      Int64  \n",
      " 1   inventory_id    0 non-null      Int64  \n",
      " 2   incident_type   0 non-null      float64\n",
      " 3   service_type    0 non-null      float64\n",
      " 4   severity        0 non-null      float64\n",
      " 5   status          0 non-null      float64\n",
      " 6   open_datetime   0 non-null      float64\n",
      " 7   close_datetime  0 non-null      float64\n",
      " 8   update_at       2 non-null      int64  \n",
      " 9   _CHANGE_TYPE    2 non-null      object \n",
      "dtypes: Int64(2), float64(6), int64(1), object(1)\n",
      "memory usage: 180.0+ bytes\n"
     ]
    },
    {
     "data": {
      "text/html": [
       "<div>\n",
       "<style scoped>\n",
       "    .dataframe tbody tr th:only-of-type {\n",
       "        vertical-align: middle;\n",
       "    }\n",
       "\n",
       "    .dataframe tbody tr th {\n",
       "        vertical-align: top;\n",
       "    }\n",
       "\n",
       "    .dataframe thead th {\n",
       "        text-align: right;\n",
       "    }\n",
       "</style>\n",
       "<table border=\"1\" class=\"dataframe\">\n",
       "  <thead>\n",
       "    <tr style=\"text-align: right;\">\n",
       "      <th></th>\n",
       "      <th>incident_id</th>\n",
       "      <th>inventory_id</th>\n",
       "      <th>incident_type</th>\n",
       "      <th>service_type</th>\n",
       "      <th>severity</th>\n",
       "      <th>status</th>\n",
       "      <th>open_datetime</th>\n",
       "      <th>close_datetime</th>\n",
       "      <th>update_at</th>\n",
       "      <th>_CHANGE_TYPE</th>\n",
       "    </tr>\n",
       "  </thead>\n",
       "  <tbody>\n",
       "    <tr>\n",
       "      <th>0</th>\n",
       "      <td>4384</td>\n",
       "      <td>&lt;NA&gt;</td>\n",
       "      <td>NaN</td>\n",
       "      <td>NaN</td>\n",
       "      <td>NaN</td>\n",
       "      <td>NaN</td>\n",
       "      <td>NaN</td>\n",
       "      <td>NaN</td>\n",
       "      <td>1705517286000000</td>\n",
       "      <td>DELETE</td>\n",
       "    </tr>\n",
       "    <tr>\n",
       "      <th>1</th>\n",
       "      <td>4329</td>\n",
       "      <td>&lt;NA&gt;</td>\n",
       "      <td>NaN</td>\n",
       "      <td>NaN</td>\n",
       "      <td>NaN</td>\n",
       "      <td>NaN</td>\n",
       "      <td>NaN</td>\n",
       "      <td>NaN</td>\n",
       "      <td>1705517286000000</td>\n",
       "      <td>DELETE</td>\n",
       "    </tr>\n",
       "  </tbody>\n",
       "</table>\n",
       "</div>"
      ],
      "text/plain": [
       "   incident_id  inventory_id  incident_type  service_type  severity  status  \\\n",
       "0         4384          <NA>            NaN           NaN       NaN     NaN   \n",
       "1         4329          <NA>            NaN           NaN       NaN     NaN   \n",
       "\n",
       "   open_datetime  close_datetime         update_at _CHANGE_TYPE  \n",
       "0            NaN             NaN  1705517286000000       DELETE  \n",
       "1            NaN             NaN  1705517286000000       DELETE  "
      ]
     },
     "execution_count": 95,
     "metadata": {},
     "output_type": "execute_result"
    }
   ],
   "source": [
    "dfDelete=df.query(\"_CHANGE_TYPE=='DELETE'\")\n",
    "dfDelete.info()\n",
    "dfDelete"
   ]
  },
  {
   "cell_type": "markdown",
   "id": "c45512a7-df7b-491d-8c23-a79004a6af92",
   "metadata": {},
   "source": [
    "# Upsert dataframe tranformation"
   ]
  },
  {
   "cell_type": "markdown",
   "id": "9c709be9-496d-4aa2-b21a-eb77eb72829e",
   "metadata": {
    "tags": []
   },
   "source": [
    "# Timezone and UTC Convert\n",
    "## If you convert any time of any tz to timestampe for converting to Microseconds , it wll turn into UTC  so DateTime is UTC\n",
    "* to_char((abc.incident_datetime AT TIME ZONE 'Asia/Bangkok'::text),\n",
    "           'YYYY-MM-DD HH24:MI'::text)   AS open_datetime\n",
    "* to_char((abc.incident_datetime AT TIME ZONE 'UTC'::text),\n",
    "               'YYYY-MM-DD HH24:MI'::text)   AS open_datetime\n",
    "* https://www.epochconverter.com/\n",
    "\n",
    "\n"
   ]
  },
  {
   "cell_type": "markdown",
   "id": "fd658fd0-92e6-40e8-8072-a1b1c23c78fe",
   "metadata": {},
   "source": [
    "## WorkAround Sol: null dattime is replaced with 0(GMT:1-1-1970 12:00:00 AM)"
   ]
  },
  {
   "cell_type": "code",
   "execution_count": 96,
   "id": "446a7dc8-c8c7-4131-9fa5-6ab3424dc187",
   "metadata": {
    "tags": []
   },
   "outputs": [
    {
     "name": "stdout",
     "output_type": "stream",
     "text": [
      "<class 'pandas.core.frame.DataFrame'>\n",
      "Index: 0 entries\n",
      "Data columns (total 10 columns):\n",
      " #   Column          Non-Null Count  Dtype  \n",
      "---  ------          --------------  -----  \n",
      " 0   incident_id     0 non-null      Int64  \n",
      " 1   inventory_id    0 non-null      Int64  \n",
      " 2   incident_type   0 non-null      float64\n",
      " 3   service_type    0 non-null      float64\n",
      " 4   severity        0 non-null      float64\n",
      " 5   status          0 non-null      float64\n",
      " 6   open_datetime   0 non-null      float64\n",
      " 7   close_datetime  0 non-null      float64\n",
      " 8   update_at       0 non-null      int64  \n",
      " 9   _CHANGE_TYPE    0 non-null      object \n",
      "dtypes: Int64(2), float64(6), int64(1), object(1)\n",
      "memory usage: 0.0+ bytes\n"
     ]
    },
    {
     "data": {
      "text/html": [
       "<div>\n",
       "<style scoped>\n",
       "    .dataframe tbody tr th:only-of-type {\n",
       "        vertical-align: middle;\n",
       "    }\n",
       "\n",
       "    .dataframe tbody tr th {\n",
       "        vertical-align: top;\n",
       "    }\n",
       "\n",
       "    .dataframe thead th {\n",
       "        text-align: right;\n",
       "    }\n",
       "</style>\n",
       "<table border=\"1\" class=\"dataframe\">\n",
       "  <thead>\n",
       "    <tr style=\"text-align: right;\">\n",
       "      <th></th>\n",
       "      <th>incident_id</th>\n",
       "      <th>inventory_id</th>\n",
       "      <th>incident_type</th>\n",
       "      <th>service_type</th>\n",
       "      <th>severity</th>\n",
       "      <th>status</th>\n",
       "      <th>open_datetime</th>\n",
       "      <th>close_datetime</th>\n",
       "      <th>update_at</th>\n",
       "      <th>_CHANGE_TYPE</th>\n",
       "    </tr>\n",
       "  </thead>\n",
       "  <tbody>\n",
       "  </tbody>\n",
       "</table>\n",
       "</div>"
      ],
      "text/plain": [
       "Empty DataFrame\n",
       "Columns: [incident_id, inventory_id, incident_type, service_type, severity, status, open_datetime, close_datetime, update_at, _CHANGE_TYPE]\n",
       "Index: []"
      ]
     },
     "execution_count": 96,
     "metadata": {},
     "output_type": "execute_result"
    }
   ],
   "source": [
    "if dfUpsert.empty==False:\n",
    "    print(\"Convert strng to datetime and microseconds accordingly\")\n",
    "\n",
    "    def convert_string_to_datetime_timestamp_microseconds (dt_str):\n",
    "        if isinstance(dt_str, str):\n",
    "            dt=datetime.strptime(dt_str,\"%Y-%m-%d %H:%M\")\n",
    "            \n",
    "            x_timestamp = Timestamp()\n",
    "            x_timestamp.FromDatetime(dt)\n",
    "            micro_x =x_timestamp.ToMicroseconds()\n",
    "            \n",
    "            return micro_x\n",
    "        else:\n",
    "            return np.nan\n",
    "    #        \n",
    "    \n",
    "    for d in datetimeCols:\n",
    "        #Check whick column contain null value if so, convert float64 to int 32\"\n",
    "        dfUpsert[d]=dfUpsert[d].apply(convert_string_to_datetime_timestamp_microseconds)\n",
    "        dfUpsert[d]=dfUpsert[d].astype('Int64')\n",
    "        \n",
    "# #         # handle null datetime value(workaround) for 2.0 but it seem to support in 3.0\n",
    "        # 1970-01-01 00:00:00 UTC\n",
    "        dfUpsert[d] = dfUpsert[d].fillna(0)\n",
    "        \n",
    "dfUpsert.info()\n",
    "dfUpsert"
   ]
  },
  {
   "cell_type": "markdown",
   "id": "9186a835-e923-48d6-8a8d-865fcdcaab13",
   "metadata": {
    "tags": []
   },
   "source": [
    "# Delete dataframe tranformation"
   ]
  },
  {
   "cell_type": "code",
   "execution_count": 97,
   "id": "862311b0-f73c-4afd-b009-ced45da2df72",
   "metadata": {
    "tags": []
   },
   "outputs": [
    {
     "name": "stdout",
     "output_type": "stream",
     "text": [
      "<class 'pandas.core.frame.DataFrame'>\n",
      "Index: 2 entries, 0 to 1\n",
      "Data columns (total 2 columns):\n",
      " #   Column        Non-Null Count  Dtype \n",
      "---  ------        --------------  ----- \n",
      " 0   incident_id   2 non-null      Int64 \n",
      " 1   _CHANGE_TYPE  2 non-null      object\n",
      "dtypes: Int64(1), object(1)\n",
      "memory usage: 50.0+ bytes\n"
     ]
    },
    {
     "data": {
      "text/html": [
       "<div>\n",
       "<style scoped>\n",
       "    .dataframe tbody tr th:only-of-type {\n",
       "        vertical-align: middle;\n",
       "    }\n",
       "\n",
       "    .dataframe tbody tr th {\n",
       "        vertical-align: top;\n",
       "    }\n",
       "\n",
       "    .dataframe thead th {\n",
       "        text-align: right;\n",
       "    }\n",
       "</style>\n",
       "<table border=\"1\" class=\"dataframe\">\n",
       "  <thead>\n",
       "    <tr style=\"text-align: right;\">\n",
       "      <th></th>\n",
       "      <th>incident_id</th>\n",
       "      <th>_CHANGE_TYPE</th>\n",
       "    </tr>\n",
       "  </thead>\n",
       "  <tbody>\n",
       "    <tr>\n",
       "      <th>0</th>\n",
       "      <td>4384</td>\n",
       "      <td>DELETE</td>\n",
       "    </tr>\n",
       "    <tr>\n",
       "      <th>1</th>\n",
       "      <td>4329</td>\n",
       "      <td>DELETE</td>\n",
       "    </tr>\n",
       "  </tbody>\n",
       "</table>\n",
       "</div>"
      ],
      "text/plain": [
       "   incident_id _CHANGE_TYPE\n",
       "0         4384       DELETE\n",
       "1         4329       DELETE"
      ]
     },
     "execution_count": 97,
     "metadata": {},
     "output_type": "execute_result"
    }
   ],
   "source": [
    "dfDelete=dfDelete[[view_name_id,\"_CHANGE_TYPE\"]]\n",
    "dfDelete.info()\n",
    "dfDelete"
   ]
  },
  {
   "cell_type": "markdown",
   "id": "43d4aa14-4aea-4871-986e-d2636d44201c",
   "metadata": {},
   "source": [
    "# Write Json File to ingest to BQ by Buffer Protocol"
   ]
  },
  {
   "cell_type": "code",
   "execution_count": 98,
   "id": "072deefa-6239-4e71-85af-f2c964fec39d",
   "metadata": {
    "tags": []
   },
   "outputs": [],
   "source": [
    "if  dfUpsert.empty==False:\n",
    "    \n",
    "    print(upsert_json_file)\n",
    "    json_file_path=os.path.join(upsert_json_file)\n",
    "\n",
    "    json_incident_data = json.loads(dfUpsert.to_json(orient = 'records'))\n",
    "    with open(upsert_json_file, \"w\") as outfile:\n",
    "        json.dump(json_incident_data, outfile)"
   ]
  },
  {
   "cell_type": "code",
   "execution_count": 99,
   "id": "9e153bfa-2034-4d3d-aa9b-77afc7c463a5",
   "metadata": {
    "tags": []
   },
   "outputs": [
    {
     "name": "stdout",
     "output_type": "stream",
     "text": [
      "incident_delete.json\n"
     ]
    }
   ],
   "source": [
    "if  dfDelete.empty==False:\n",
    "    \n",
    "    print(delete_json_file)\n",
    "    json_file_path=os.path.join(delete_json_file)\n",
    "    json_incident_data = json.loads(dfDelete.to_json(orient = 'records'))\n",
    "    with open(json_file_path, \"w\") as outfile:\n",
    "        json.dump(json_incident_data, outfile)\n"
   ]
  },
  {
   "cell_type": "markdown",
   "id": "a0f5772b-55e4-4400-a201-4f3a724d1c13",
   "metadata": {},
   "source": [
    "# BufferProto to BQ "
   ]
  },
  {
   "cell_type": "code",
   "execution_count": 100,
   "id": "0306a11d-c0e4-434e-a546-013381456bb5",
   "metadata": {
    "tags": []
   },
   "outputs": [],
   "source": [
    "def get_data_pb2(view_name):\n",
    "    \n",
    "    x_data_pb2=None\n",
    "    if view_name == \"xyz_incident\": \n",
    "        x_data_pb2=pb2_incident.IncidentData()\n",
    "    else:\n",
    "        raise Exception(\"No specified view name to get data pb2\")\n",
    "        \n",
    "    return x_data_pb2"
   ]
  },
  {
   "cell_type": "code",
   "execution_count": 101,
   "id": "304460e7-16fb-4747-9135-2e953bba8b15",
   "metadata": {
    "tags": []
   },
   "outputs": [
    {
     "name": "stdout",
     "output_type": "stream",
     "text": [
      "['incident_id', 'inventory_id', 'incident_type', 'service_type', 'severity', 'status', 'open_datetime', 'close_datetime', 'update_at', '_CHANGE_TYPE']\n"
     ]
    }
   ],
   "source": [
    "listColumns= df.columns.tolist()\n",
    "print(listColumns)"
   ]
  },
  {
   "cell_type": "code",
   "execution_count": 102,
   "id": "6c4a9585-ecbb-4968-b34e-9fc230b717d2",
   "metadata": {
    "tags": []
   },
   "outputs": [
    {
     "name": "stdout",
     "output_type": "stream",
     "text": [
      "<google.protobuf.pyext._message.MessageDescriptor object at 0x000001AB7FA43DC0>\n"
     ]
    }
   ],
   "source": [
    "pb2_data=get_data_pb2(view_name)\n",
    "print(pb2_data.DESCRIPTOR)"
   ]
  },
  {
   "cell_type": "markdown",
   "id": "41f0b445-0243-4192-8022-13094bba7986",
   "metadata": {},
   "source": [
    "# Ingest data to Bigquery"
   ]
  },
  {
   "cell_type": "code",
   "execution_count": 103,
   "id": "603e79a8-43ee-4e1d-bb68-7031a3b00265",
   "metadata": {
    "tags": []
   },
   "outputs": [],
   "source": [
    "if os.path.exists(upsert_json_file):\n",
    "    print(\"OK-Upsert\")\n",
    "    x.write_json_to_bq(listColumns=listColumns,\n",
    "                              x_data_pb2=pb2_data,\n",
    "                              json_data_file=upsert_json_file,\n",
    "                              project_name=projectId,\n",
    "                              dataset_name=main_dataset_id,\n",
    "                              table_name=table_name)\n",
    "                              \n",
    "\n"
   ]
  },
  {
   "cell_type": "code",
   "execution_count": 104,
   "id": "a19adfa2-03ac-4ad8-a8d9-e2d13ce55a13",
   "metadata": {},
   "outputs": [
    {
     "name": "stdout",
     "output_type": "stream",
     "text": [
      "OK-Delete\n",
      "Rows to table: 'projects/pongthorn/datasets/SMartDataAnalytics/tables/incident' have been written.\n"
     ]
    }
   ],
   "source": [
    "if os.path.exists(delete_json_file):\n",
    "    print(\"OK-Delete\")\n",
    "    x.write_json_to_bq(listColumns=listColumns,\n",
    "                              x_data_pb2=pb2_data,\n",
    "                              json_data_file=delete_json_file,\n",
    "                              project_name=projectId,\n",
    "                              dataset_name=main_dataset_id,\n",
    "                              table_name=table_name)\n",
    "                              \n"
   ]
  },
  {
   "cell_type": "markdown",
   "id": "2e7c29be-c4d6-4840-a86c-ebd6f42acaf2",
   "metadata": {},
   "source": [
    "# Delete all processed files"
   ]
  },
  {
   "cell_type": "code",
   "execution_count": 105,
   "id": "468214a3-c59a-40d1-baa1-3f685c3acf17",
   "metadata": {
    "tags": []
   },
   "outputs": [
    {
     "name": "stdout",
     "output_type": "stream",
     "text": [
      "Delete all files\n",
      "incident_bq-storage-api.csv\n",
      "incident_delete.json\n"
     ]
    }
   ],
   "source": [
    "print(\"Delete all files\") \n",
    "listFilesToBeDeleted=[csv_file,upsert_json_file,delete_json_file]\n",
    "for file in listFilesToBeDeleted:\n",
    "    if os.path.exists(file):\n",
    "        print(file)\n",
    "        os.remove(file)\n"
   ]
  },
  {
   "cell_type": "code",
   "execution_count": 106,
   "id": "c8ec1a1f-0183-43fc-a39a-f9555d6c7e15",
   "metadata": {},
   "outputs": [],
   "source": [
    "# return True"
   ]
  },
  {
   "cell_type": "code",
   "execution_count": null,
   "id": "45069c6c-88cd-4167-ba9a-64235742d13d",
   "metadata": {},
   "outputs": [],
   "source": []
  }
 ],
 "metadata": {
  "kernelspec": {
   "display_name": "Python 3 (ipykernel)",
   "language": "python",
   "name": "python3"
  },
  "language_info": {
   "codemirror_mode": {
    "name": "ipython",
    "version": 3
   },
   "file_extension": ".py",
   "mimetype": "text/x-python",
   "name": "python",
   "nbconvert_exporter": "python",
   "pygments_lexer": "ipython3",
   "version": "3.10.12"
  }
 },
 "nbformat": 4,
 "nbformat_minor": 5
}
