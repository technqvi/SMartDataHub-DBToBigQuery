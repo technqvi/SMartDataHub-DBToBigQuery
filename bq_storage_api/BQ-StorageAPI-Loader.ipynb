{
 "cells": [
  {
   "cell_type": "code",
   "execution_count": 22,
   "id": "03048424-3a15-4805-b03f-db8b95be7bd0",
   "metadata": {
    "tags": []
   },
   "outputs": [],
   "source": [
    "import pandas as pd\n",
    "import numpy as np\n",
    "import math\n",
    "import os\n",
    "import json\n",
    "\n",
    "import viewdb_to_bq  as x\n",
    "\n",
    "import incident_data_pb2 as pb2_incident\n",
    "\n",
    "\n",
    "from google.protobuf.timestamp_pb2 import Timestamp\n",
    "\n",
    "from datetime import datetime ,timezone"
   ]
  },
  {
   "cell_type": "markdown",
   "id": "89ec021d-9524-4499-931e-30eaf611b555",
   "metadata": {},
   "source": [
    "# Parameter"
   ]
  },
  {
   "cell_type": "code",
   "execution_count": 23,
   "id": "71f8f594-1cdc-4d9f-bd06-55285139d614",
   "metadata": {
    "tags": []
   },
   "outputs": [
    {
     "data": {
      "text/plain": [
       "datetime.datetime(2024, 1, 16, 16, 4, 55)"
      ]
     },
     "execution_count": 23,
     "metadata": {},
     "output_type": "execute_result"
    }
   ],
   "source": [
    "view_name=\"xyz_incident\"\n",
    "view_name_id=\"incident_id\"\n",
    "datetimeCols=[\"open_datetime\",\"close_datetime\"]\n",
    "\n",
    "projectId=\"pongthorn\"\n",
    "main_dataset_id='SMartDataAnalytics'\n",
    "table_name=\"incident\"\n",
    "\n",
    "dt_imported=datetime.now(timezone.utc) # utc\n",
    "dt_imported=datetime.strptime(dt_imported.strftime(\"%Y-%m-%d %H:%M:%S\"),\"%Y-%m-%d %H:%M:%S\")\n",
    "dt_imported"
   ]
  },
  {
   "cell_type": "markdown",
   "id": "7890da13-5331-41fb-b26b-356e1f5be9ad",
   "metadata": {},
   "source": [
    "# Init Const and Variable "
   ]
  },
  {
   "cell_type": "markdown",
   "id": "5bd3eed7-f934-4cc5-a0bc-8dcabf0e7641",
   "metadata": {},
   "source": [
    "# BQ-Storage-API Data Transformation"
   ]
  },
  {
   "cell_type": "code",
   "execution_count": 24,
   "id": "acd96418-4d5a-4e16-a0bf-57cca1c26bb4",
   "metadata": {
    "tags": []
   },
   "outputs": [],
   "source": [
    "df=pd.read_csv(\"incident_bq-storage-api.csv\")"
   ]
  },
  {
   "cell_type": "code",
   "execution_count": 25,
   "id": "fae5d356-0079-411d-890c-1330894d14fa",
   "metadata": {},
   "outputs": [
    {
     "name": "stdout",
     "output_type": "stream",
     "text": [
      "Add timestamp import\n"
     ]
    }
   ],
   "source": [
    "print(\"Add timestamp import\")\n",
    "dtimestamp = Timestamp()\n",
    "dtimestamp.FromDatetime(dt_imported)\n",
    "update_at_micro_timestampe =dtimestamp.ToMicroseconds()\n",
    "df['update_at']=update_at_micro_timestampe \n"
   ]
  },
  {
   "cell_type": "code",
   "execution_count": 26,
   "id": "1c2713d2-c94c-47aa-8123-a9689e1e3892",
   "metadata": {},
   "outputs": [
    {
     "name": "stdout",
     "output_type": "stream",
     "text": [
      "Change action type\n"
     ]
    }
   ],
   "source": [
    "print(\"Change action type\")\n",
    "\n",
    "def change_action_merge_to_bq_storage_api(x):\n",
    "    if x==\"added\" or x==\"changed\":\n",
    "        return  \"UPSERT\"\n",
    "    else:\n",
    "        return \"DELETE\"   \n",
    "df[\"_CHANGE_TYPE\"]=df['action'].apply(change_action_merge_to_bq_storage_api)\n",
    "df=df.drop(columns=['action'])"
   ]
  },
  {
   "cell_type": "code",
   "execution_count": 27,
   "id": "59c2cf5c-e0e6-467a-8b0e-db14b8c130f0",
   "metadata": {
    "tags": []
   },
   "outputs": [
    {
     "name": "stdout",
     "output_type": "stream",
     "text": [
      "<class 'pandas.core.frame.DataFrame'>\n",
      "RangeIndex: 215 entries, 0 to 214\n",
      "Data columns (total 10 columns):\n",
      " #   Column          Non-Null Count  Dtype \n",
      "---  ------          --------------  ----- \n",
      " 0   incident_id     215 non-null    int64 \n",
      " 1   inventory_id    215 non-null    int64 \n",
      " 2   incident_type   215 non-null    object\n",
      " 3   service_type    215 non-null    object\n",
      " 4   severity        215 non-null    object\n",
      " 5   status          215 non-null    object\n",
      " 6   open_datetime   215 non-null    object\n",
      " 7   close_datetime  188 non-null    object\n",
      " 8   update_at       215 non-null    int64 \n",
      " 9   _CHANGE_TYPE    215 non-null    object\n",
      "dtypes: int64(3), object(7)\n",
      "memory usage: 16.9+ KB\n"
     ]
    },
    {
     "data": {
      "text/html": [
       "<div>\n",
       "<style scoped>\n",
       "    .dataframe tbody tr th:only-of-type {\n",
       "        vertical-align: middle;\n",
       "    }\n",
       "\n",
       "    .dataframe tbody tr th {\n",
       "        vertical-align: top;\n",
       "    }\n",
       "\n",
       "    .dataframe thead th {\n",
       "        text-align: right;\n",
       "    }\n",
       "</style>\n",
       "<table border=\"1\" class=\"dataframe\">\n",
       "  <thead>\n",
       "    <tr style=\"text-align: right;\">\n",
       "      <th></th>\n",
       "      <th>incident_id</th>\n",
       "      <th>inventory_id</th>\n",
       "      <th>incident_type</th>\n",
       "      <th>service_type</th>\n",
       "      <th>severity</th>\n",
       "      <th>status</th>\n",
       "      <th>open_datetime</th>\n",
       "      <th>close_datetime</th>\n",
       "      <th>update_at</th>\n",
       "      <th>_CHANGE_TYPE</th>\n",
       "    </tr>\n",
       "  </thead>\n",
       "  <tbody>\n",
       "    <tr>\n",
       "      <th>210</th>\n",
       "      <td>4295</td>\n",
       "      <td>12305</td>\n",
       "      <td>General Incident</td>\n",
       "      <td>Incident</td>\n",
       "      <td>Major</td>\n",
       "      <td>Open</td>\n",
       "      <td>2023-12-27 01:13</td>\n",
       "      <td>2023-12-27 01:45</td>\n",
       "      <td>1705421095000000</td>\n",
       "      <td>UPSERT</td>\n",
       "    </tr>\n",
       "    <tr>\n",
       "      <th>211</th>\n",
       "      <td>4285</td>\n",
       "      <td>16353</td>\n",
       "      <td>Software</td>\n",
       "      <td>Request</td>\n",
       "      <td>Cosmetic</td>\n",
       "      <td>In Progress</td>\n",
       "      <td>2023-12-07 03:14</td>\n",
       "      <td>NaN</td>\n",
       "      <td>1705421095000000</td>\n",
       "      <td>UPSERT</td>\n",
       "    </tr>\n",
       "    <tr>\n",
       "      <th>212</th>\n",
       "      <td>4299</td>\n",
       "      <td>12306</td>\n",
       "      <td>General Incident</td>\n",
       "      <td>Incident</td>\n",
       "      <td>Major</td>\n",
       "      <td>Open</td>\n",
       "      <td>2023-12-30 11:20</td>\n",
       "      <td>2023-12-30 12:00</td>\n",
       "      <td>1705421095000000</td>\n",
       "      <td>UPSERT</td>\n",
       "    </tr>\n",
       "    <tr>\n",
       "      <th>213</th>\n",
       "      <td>4305</td>\n",
       "      <td>19211</td>\n",
       "      <td>Software</td>\n",
       "      <td>Incident</td>\n",
       "      <td>Major</td>\n",
       "      <td>Open</td>\n",
       "      <td>2024-01-07 17:00</td>\n",
       "      <td>NaN</td>\n",
       "      <td>1705421095000000</td>\n",
       "      <td>UPSERT</td>\n",
       "    </tr>\n",
       "    <tr>\n",
       "      <th>214</th>\n",
       "      <td>4298</td>\n",
       "      <td>12306</td>\n",
       "      <td>OS / Firmware</td>\n",
       "      <td>Incident</td>\n",
       "      <td>Critical</td>\n",
       "      <td>Open</td>\n",
       "      <td>2023-12-30 05:08</td>\n",
       "      <td>2024-01-11 11:46</td>\n",
       "      <td>1705421095000000</td>\n",
       "      <td>UPSERT</td>\n",
       "    </tr>\n",
       "  </tbody>\n",
       "</table>\n",
       "</div>"
      ],
      "text/plain": [
       "     incident_id  inventory_id     incident_type service_type  severity  \\\n",
       "210         4295         12305  General Incident     Incident     Major   \n",
       "211         4285         16353          Software      Request  Cosmetic   \n",
       "212         4299         12306  General Incident     Incident     Major   \n",
       "213         4305         19211          Software     Incident     Major   \n",
       "214         4298         12306     OS / Firmware     Incident  Critical   \n",
       "\n",
       "          status     open_datetime    close_datetime         update_at  \\\n",
       "210         Open  2023-12-27 01:13  2023-12-27 01:45  1705421095000000   \n",
       "211  In Progress  2023-12-07 03:14               NaN  1705421095000000   \n",
       "212         Open  2023-12-30 11:20  2023-12-30 12:00  1705421095000000   \n",
       "213         Open  2024-01-07 17:00               NaN  1705421095000000   \n",
       "214         Open  2023-12-30 05:08  2024-01-11 11:46  1705421095000000   \n",
       "\n",
       "    _CHANGE_TYPE  \n",
       "210       UPSERT  \n",
       "211       UPSERT  \n",
       "212       UPSERT  \n",
       "213       UPSERT  \n",
       "214       UPSERT  "
      ]
     },
     "execution_count": 27,
     "metadata": {},
     "output_type": "execute_result"
    }
   ],
   "source": [
    "df.info()\n",
    "df.tail()"
   ]
  },
  {
   "cell_type": "markdown",
   "id": "83213cc1-a123-4f52-8515-d5a079ee5775",
   "metadata": {
    "tags": []
   },
   "source": [
    "# Spit data into UPSERT and DELETE "
   ]
  },
  {
   "cell_type": "code",
   "execution_count": 28,
   "id": "2d6e81e2-7c84-4420-83b7-e9561401860b",
   "metadata": {
    "tags": []
   },
   "outputs": [
    {
     "name": "stdout",
     "output_type": "stream",
     "text": [
      "<class 'pandas.core.frame.DataFrame'>\n",
      "Index: 215 entries, 0 to 214\n",
      "Data columns (total 10 columns):\n",
      " #   Column          Non-Null Count  Dtype \n",
      "---  ------          --------------  ----- \n",
      " 0   incident_id     215 non-null    int64 \n",
      " 1   inventory_id    215 non-null    int64 \n",
      " 2   incident_type   215 non-null    object\n",
      " 3   service_type    215 non-null    object\n",
      " 4   severity        215 non-null    object\n",
      " 5   status          215 non-null    object\n",
      " 6   open_datetime   215 non-null    object\n",
      " 7   close_datetime  188 non-null    object\n",
      " 8   update_at       215 non-null    int64 \n",
      " 9   _CHANGE_TYPE    215 non-null    object\n",
      "dtypes: int64(3), object(7)\n",
      "memory usage: 18.5+ KB\n"
     ]
    },
    {
     "data": {
      "text/html": [
       "<div>\n",
       "<style scoped>\n",
       "    .dataframe tbody tr th:only-of-type {\n",
       "        vertical-align: middle;\n",
       "    }\n",
       "\n",
       "    .dataframe tbody tr th {\n",
       "        vertical-align: top;\n",
       "    }\n",
       "\n",
       "    .dataframe thead th {\n",
       "        text-align: right;\n",
       "    }\n",
       "</style>\n",
       "<table border=\"1\" class=\"dataframe\">\n",
       "  <thead>\n",
       "    <tr style=\"text-align: right;\">\n",
       "      <th></th>\n",
       "      <th>incident_id</th>\n",
       "      <th>inventory_id</th>\n",
       "      <th>incident_type</th>\n",
       "      <th>service_type</th>\n",
       "      <th>severity</th>\n",
       "      <th>status</th>\n",
       "      <th>open_datetime</th>\n",
       "      <th>close_datetime</th>\n",
       "      <th>update_at</th>\n",
       "      <th>_CHANGE_TYPE</th>\n",
       "    </tr>\n",
       "  </thead>\n",
       "  <tbody>\n",
       "    <tr>\n",
       "      <th>210</th>\n",
       "      <td>4295</td>\n",
       "      <td>12305</td>\n",
       "      <td>General Incident</td>\n",
       "      <td>Incident</td>\n",
       "      <td>Major</td>\n",
       "      <td>Open</td>\n",
       "      <td>2023-12-27 01:13</td>\n",
       "      <td>2023-12-27 01:45</td>\n",
       "      <td>1705421095000000</td>\n",
       "      <td>UPSERT</td>\n",
       "    </tr>\n",
       "    <tr>\n",
       "      <th>211</th>\n",
       "      <td>4285</td>\n",
       "      <td>16353</td>\n",
       "      <td>Software</td>\n",
       "      <td>Request</td>\n",
       "      <td>Cosmetic</td>\n",
       "      <td>In Progress</td>\n",
       "      <td>2023-12-07 03:14</td>\n",
       "      <td>NaN</td>\n",
       "      <td>1705421095000000</td>\n",
       "      <td>UPSERT</td>\n",
       "    </tr>\n",
       "    <tr>\n",
       "      <th>212</th>\n",
       "      <td>4299</td>\n",
       "      <td>12306</td>\n",
       "      <td>General Incident</td>\n",
       "      <td>Incident</td>\n",
       "      <td>Major</td>\n",
       "      <td>Open</td>\n",
       "      <td>2023-12-30 11:20</td>\n",
       "      <td>2023-12-30 12:00</td>\n",
       "      <td>1705421095000000</td>\n",
       "      <td>UPSERT</td>\n",
       "    </tr>\n",
       "    <tr>\n",
       "      <th>213</th>\n",
       "      <td>4305</td>\n",
       "      <td>19211</td>\n",
       "      <td>Software</td>\n",
       "      <td>Incident</td>\n",
       "      <td>Major</td>\n",
       "      <td>Open</td>\n",
       "      <td>2024-01-07 17:00</td>\n",
       "      <td>NaN</td>\n",
       "      <td>1705421095000000</td>\n",
       "      <td>UPSERT</td>\n",
       "    </tr>\n",
       "    <tr>\n",
       "      <th>214</th>\n",
       "      <td>4298</td>\n",
       "      <td>12306</td>\n",
       "      <td>OS / Firmware</td>\n",
       "      <td>Incident</td>\n",
       "      <td>Critical</td>\n",
       "      <td>Open</td>\n",
       "      <td>2023-12-30 05:08</td>\n",
       "      <td>2024-01-11 11:46</td>\n",
       "      <td>1705421095000000</td>\n",
       "      <td>UPSERT</td>\n",
       "    </tr>\n",
       "  </tbody>\n",
       "</table>\n",
       "</div>"
      ],
      "text/plain": [
       "     incident_id  inventory_id     incident_type service_type  severity  \\\n",
       "210         4295         12305  General Incident     Incident     Major   \n",
       "211         4285         16353          Software      Request  Cosmetic   \n",
       "212         4299         12306  General Incident     Incident     Major   \n",
       "213         4305         19211          Software     Incident     Major   \n",
       "214         4298         12306     OS / Firmware     Incident  Critical   \n",
       "\n",
       "          status     open_datetime    close_datetime         update_at  \\\n",
       "210         Open  2023-12-27 01:13  2023-12-27 01:45  1705421095000000   \n",
       "211  In Progress  2023-12-07 03:14               NaN  1705421095000000   \n",
       "212         Open  2023-12-30 11:20  2023-12-30 12:00  1705421095000000   \n",
       "213         Open  2024-01-07 17:00               NaN  1705421095000000   \n",
       "214         Open  2023-12-30 05:08  2024-01-11 11:46  1705421095000000   \n",
       "\n",
       "    _CHANGE_TYPE  \n",
       "210       UPSERT  \n",
       "211       UPSERT  \n",
       "212       UPSERT  \n",
       "213       UPSERT  \n",
       "214       UPSERT  "
      ]
     },
     "execution_count": 28,
     "metadata": {},
     "output_type": "execute_result"
    }
   ],
   "source": [
    "dfUpsert=df.query(\"_CHANGE_TYPE=='UPSERT'\")\n",
    "dfUpsert.info()\n",
    "dfUpsert.tail()\n"
   ]
  },
  {
   "cell_type": "code",
   "execution_count": 29,
   "id": "25a0777c-a193-4999-83e4-6a03f846fdfc",
   "metadata": {
    "tags": []
   },
   "outputs": [
    {
     "name": "stdout",
     "output_type": "stream",
     "text": [
      "<class 'pandas.core.frame.DataFrame'>\n",
      "Index: 0 entries\n",
      "Data columns (total 10 columns):\n",
      " #   Column          Non-Null Count  Dtype \n",
      "---  ------          --------------  ----- \n",
      " 0   incident_id     0 non-null      int64 \n",
      " 1   inventory_id    0 non-null      int64 \n",
      " 2   incident_type   0 non-null      object\n",
      " 3   service_type    0 non-null      object\n",
      " 4   severity        0 non-null      object\n",
      " 5   status          0 non-null      object\n",
      " 6   open_datetime   0 non-null      object\n",
      " 7   close_datetime  0 non-null      object\n",
      " 8   update_at       0 non-null      int64 \n",
      " 9   _CHANGE_TYPE    0 non-null      object\n",
      "dtypes: int64(3), object(7)\n",
      "memory usage: 0.0+ bytes\n"
     ]
    },
    {
     "data": {
      "text/html": [
       "<div>\n",
       "<style scoped>\n",
       "    .dataframe tbody tr th:only-of-type {\n",
       "        vertical-align: middle;\n",
       "    }\n",
       "\n",
       "    .dataframe tbody tr th {\n",
       "        vertical-align: top;\n",
       "    }\n",
       "\n",
       "    .dataframe thead th {\n",
       "        text-align: right;\n",
       "    }\n",
       "</style>\n",
       "<table border=\"1\" class=\"dataframe\">\n",
       "  <thead>\n",
       "    <tr style=\"text-align: right;\">\n",
       "      <th></th>\n",
       "      <th>incident_id</th>\n",
       "      <th>inventory_id</th>\n",
       "      <th>incident_type</th>\n",
       "      <th>service_type</th>\n",
       "      <th>severity</th>\n",
       "      <th>status</th>\n",
       "      <th>open_datetime</th>\n",
       "      <th>close_datetime</th>\n",
       "      <th>update_at</th>\n",
       "      <th>_CHANGE_TYPE</th>\n",
       "    </tr>\n",
       "  </thead>\n",
       "  <tbody>\n",
       "  </tbody>\n",
       "</table>\n",
       "</div>"
      ],
      "text/plain": [
       "Empty DataFrame\n",
       "Columns: [incident_id, inventory_id, incident_type, service_type, severity, status, open_datetime, close_datetime, update_at, _CHANGE_TYPE]\n",
       "Index: []"
      ]
     },
     "execution_count": 29,
     "metadata": {},
     "output_type": "execute_result"
    }
   ],
   "source": [
    "dfDelete=df.query(\"_CHANGE_TYPE=='DELETE'\")\n",
    "dfDelete.info()\n",
    "dfDelete"
   ]
  },
  {
   "cell_type": "markdown",
   "id": "c45512a7-df7b-491d-8c23-a79004a6af92",
   "metadata": {},
   "source": [
    "# Upsert dataframe tranformation"
   ]
  },
  {
   "cell_type": "markdown",
   "id": "9c709be9-496d-4aa2-b21a-eb77eb72829e",
   "metadata": {
    "tags": []
   },
   "source": [
    "# Timezone and UTC Convert\n",
    "## If you convert any time of any tz to timestampe for converting to Microseconds , it wll turn into UTC  so DateTime is UTC\n",
    "* to_char((abc.incident_datetime AT TIME ZONE 'Asia/Bangkok'::text),\n",
    "           'YYYY-MM-DD HH24:MI'::text)   AS open_datetime\n",
    "* to_char((abc.incident_datetime AT TIME ZONE 'UTC'::text),\n",
    "               'YYYY-MM-DD HH24:MI'::text)   AS open_datetime\n",
    "* https://www.epochconverter.com/\n",
    "\n",
    "\n"
   ]
  },
  {
   "cell_type": "markdown",
   "id": "fd658fd0-92e6-40e8-8072-a1b1c23c78fe",
   "metadata": {},
   "source": [
    "## WorkAround Sol: null dattime is replaced with 0(GMT:1-1-1970 12:00:00 AM)"
   ]
  },
  {
   "cell_type": "code",
   "execution_count": 30,
   "id": "446a7dc8-c8c7-4131-9fa5-6ab3424dc187",
   "metadata": {
    "tags": []
   },
   "outputs": [
    {
     "name": "stdout",
     "output_type": "stream",
     "text": [
      "Convert strng to datetime and microseconds accordingly\n",
      "<class 'pandas.core.frame.DataFrame'>\n",
      "Index: 215 entries, 0 to 214\n",
      "Data columns (total 10 columns):\n",
      " #   Column          Non-Null Count  Dtype \n",
      "---  ------          --------------  ----- \n",
      " 0   incident_id     215 non-null    int64 \n",
      " 1   inventory_id    215 non-null    int64 \n",
      " 2   incident_type   215 non-null    object\n",
      " 3   service_type    215 non-null    object\n",
      " 4   severity        215 non-null    object\n",
      " 5   status          215 non-null    object\n",
      " 6   open_datetime   215 non-null    Int64 \n",
      " 7   close_datetime  215 non-null    Int64 \n",
      " 8   update_at       215 non-null    int64 \n",
      " 9   _CHANGE_TYPE    215 non-null    object\n",
      "dtypes: Int64(2), int64(3), object(5)\n",
      "memory usage: 18.9+ KB\n"
     ]
    },
    {
     "data": {
      "text/html": [
       "<div>\n",
       "<style scoped>\n",
       "    .dataframe tbody tr th:only-of-type {\n",
       "        vertical-align: middle;\n",
       "    }\n",
       "\n",
       "    .dataframe tbody tr th {\n",
       "        vertical-align: top;\n",
       "    }\n",
       "\n",
       "    .dataframe thead th {\n",
       "        text-align: right;\n",
       "    }\n",
       "</style>\n",
       "<table border=\"1\" class=\"dataframe\">\n",
       "  <thead>\n",
       "    <tr style=\"text-align: right;\">\n",
       "      <th></th>\n",
       "      <th>incident_id</th>\n",
       "      <th>inventory_id</th>\n",
       "      <th>incident_type</th>\n",
       "      <th>service_type</th>\n",
       "      <th>severity</th>\n",
       "      <th>status</th>\n",
       "      <th>open_datetime</th>\n",
       "      <th>close_datetime</th>\n",
       "      <th>update_at</th>\n",
       "      <th>_CHANGE_TYPE</th>\n",
       "    </tr>\n",
       "  </thead>\n",
       "  <tbody>\n",
       "    <tr>\n",
       "      <th>0</th>\n",
       "      <td>3699</td>\n",
       "      <td>16564</td>\n",
       "      <td>General Incident</td>\n",
       "      <td>Incident</td>\n",
       "      <td>Minor</td>\n",
       "      <td>Open</td>\n",
       "      <td>1696212960000000</td>\n",
       "      <td>0</td>\n",
       "      <td>1705421095000000</td>\n",
       "      <td>UPSERT</td>\n",
       "    </tr>\n",
       "    <tr>\n",
       "      <th>1</th>\n",
       "      <td>3856</td>\n",
       "      <td>16514</td>\n",
       "      <td>Software</td>\n",
       "      <td>Incident</td>\n",
       "      <td>Minor</td>\n",
       "      <td>Open</td>\n",
       "      <td>1698199560000000</td>\n",
       "      <td>0</td>\n",
       "      <td>1705421095000000</td>\n",
       "      <td>UPSERT</td>\n",
       "    </tr>\n",
       "    <tr>\n",
       "      <th>2</th>\n",
       "      <td>3860</td>\n",
       "      <td>9591</td>\n",
       "      <td>OS / Firmware</td>\n",
       "      <td>Incident</td>\n",
       "      <td>Minor</td>\n",
       "      <td>Open</td>\n",
       "      <td>1697511600000000</td>\n",
       "      <td>0</td>\n",
       "      <td>1705421095000000</td>\n",
       "      <td>UPSERT</td>\n",
       "    </tr>\n",
       "    <tr>\n",
       "      <th>3</th>\n",
       "      <td>3930</td>\n",
       "      <td>17974</td>\n",
       "      <td>General Incident</td>\n",
       "      <td>Request</td>\n",
       "      <td>Cosmetic</td>\n",
       "      <td>In Progress</td>\n",
       "      <td>1696944840000000</td>\n",
       "      <td>1702346400000000</td>\n",
       "      <td>1705421095000000</td>\n",
       "      <td>UPSERT</td>\n",
       "    </tr>\n",
       "    <tr>\n",
       "      <th>4</th>\n",
       "      <td>3876</td>\n",
       "      <td>17974</td>\n",
       "      <td>General Incident</td>\n",
       "      <td>Request</td>\n",
       "      <td>Cosmetic</td>\n",
       "      <td>In Progress</td>\n",
       "      <td>1698647400000000</td>\n",
       "      <td>1698908400000000</td>\n",
       "      <td>1705421095000000</td>\n",
       "      <td>UPSERT</td>\n",
       "    </tr>\n",
       "    <tr>\n",
       "      <th>...</th>\n",
       "      <td>...</td>\n",
       "      <td>...</td>\n",
       "      <td>...</td>\n",
       "      <td>...</td>\n",
       "      <td>...</td>\n",
       "      <td>...</td>\n",
       "      <td>...</td>\n",
       "      <td>...</td>\n",
       "      <td>...</td>\n",
       "      <td>...</td>\n",
       "    </tr>\n",
       "    <tr>\n",
       "      <th>210</th>\n",
       "      <td>4295</td>\n",
       "      <td>12305</td>\n",
       "      <td>General Incident</td>\n",
       "      <td>Incident</td>\n",
       "      <td>Major</td>\n",
       "      <td>Open</td>\n",
       "      <td>1703639580000000</td>\n",
       "      <td>1703641500000000</td>\n",
       "      <td>1705421095000000</td>\n",
       "      <td>UPSERT</td>\n",
       "    </tr>\n",
       "    <tr>\n",
       "      <th>211</th>\n",
       "      <td>4285</td>\n",
       "      <td>16353</td>\n",
       "      <td>Software</td>\n",
       "      <td>Request</td>\n",
       "      <td>Cosmetic</td>\n",
       "      <td>In Progress</td>\n",
       "      <td>1701918840000000</td>\n",
       "      <td>0</td>\n",
       "      <td>1705421095000000</td>\n",
       "      <td>UPSERT</td>\n",
       "    </tr>\n",
       "    <tr>\n",
       "      <th>212</th>\n",
       "      <td>4299</td>\n",
       "      <td>12306</td>\n",
       "      <td>General Incident</td>\n",
       "      <td>Incident</td>\n",
       "      <td>Major</td>\n",
       "      <td>Open</td>\n",
       "      <td>1703935200000000</td>\n",
       "      <td>1703937600000000</td>\n",
       "      <td>1705421095000000</td>\n",
       "      <td>UPSERT</td>\n",
       "    </tr>\n",
       "    <tr>\n",
       "      <th>213</th>\n",
       "      <td>4305</td>\n",
       "      <td>19211</td>\n",
       "      <td>Software</td>\n",
       "      <td>Incident</td>\n",
       "      <td>Major</td>\n",
       "      <td>Open</td>\n",
       "      <td>1704646800000000</td>\n",
       "      <td>0</td>\n",
       "      <td>1705421095000000</td>\n",
       "      <td>UPSERT</td>\n",
       "    </tr>\n",
       "    <tr>\n",
       "      <th>214</th>\n",
       "      <td>4298</td>\n",
       "      <td>12306</td>\n",
       "      <td>OS / Firmware</td>\n",
       "      <td>Incident</td>\n",
       "      <td>Critical</td>\n",
       "      <td>Open</td>\n",
       "      <td>1703912880000000</td>\n",
       "      <td>1704973560000000</td>\n",
       "      <td>1705421095000000</td>\n",
       "      <td>UPSERT</td>\n",
       "    </tr>\n",
       "  </tbody>\n",
       "</table>\n",
       "<p>215 rows × 10 columns</p>\n",
       "</div>"
      ],
      "text/plain": [
       "     incident_id  inventory_id     incident_type service_type  severity  \\\n",
       "0           3699         16564  General Incident     Incident     Minor   \n",
       "1           3856         16514          Software     Incident     Minor   \n",
       "2           3860          9591     OS / Firmware     Incident     Minor   \n",
       "3           3930         17974  General Incident      Request  Cosmetic   \n",
       "4           3876         17974  General Incident      Request  Cosmetic   \n",
       "..           ...           ...               ...          ...       ...   \n",
       "210         4295         12305  General Incident     Incident     Major   \n",
       "211         4285         16353          Software      Request  Cosmetic   \n",
       "212         4299         12306  General Incident     Incident     Major   \n",
       "213         4305         19211          Software     Incident     Major   \n",
       "214         4298         12306     OS / Firmware     Incident  Critical   \n",
       "\n",
       "          status     open_datetime    close_datetime         update_at  \\\n",
       "0           Open  1696212960000000                 0  1705421095000000   \n",
       "1           Open  1698199560000000                 0  1705421095000000   \n",
       "2           Open  1697511600000000                 0  1705421095000000   \n",
       "3    In Progress  1696944840000000  1702346400000000  1705421095000000   \n",
       "4    In Progress  1698647400000000  1698908400000000  1705421095000000   \n",
       "..           ...               ...               ...               ...   \n",
       "210         Open  1703639580000000  1703641500000000  1705421095000000   \n",
       "211  In Progress  1701918840000000                 0  1705421095000000   \n",
       "212         Open  1703935200000000  1703937600000000  1705421095000000   \n",
       "213         Open  1704646800000000                 0  1705421095000000   \n",
       "214         Open  1703912880000000  1704973560000000  1705421095000000   \n",
       "\n",
       "    _CHANGE_TYPE  \n",
       "0         UPSERT  \n",
       "1         UPSERT  \n",
       "2         UPSERT  \n",
       "3         UPSERT  \n",
       "4         UPSERT  \n",
       "..           ...  \n",
       "210       UPSERT  \n",
       "211       UPSERT  \n",
       "212       UPSERT  \n",
       "213       UPSERT  \n",
       "214       UPSERT  \n",
       "\n",
       "[215 rows x 10 columns]"
      ]
     },
     "execution_count": 30,
     "metadata": {},
     "output_type": "execute_result"
    }
   ],
   "source": [
    "if dfUpsert.empty==False:\n",
    "    print(\"Convert strng to datetime and microseconds accordingly\")\n",
    "\n",
    "    def convert_string_to_datetime_timestamp_microseconds (dt_str):\n",
    "        if isinstance(dt_str, str):\n",
    "            dt=datetime.strptime(dt_str,\"%Y-%m-%d %H:%M\")\n",
    "            \n",
    "            x_timestamp = Timestamp()\n",
    "            x_timestamp.FromDatetime(dt)\n",
    "            micro_x =x_timestamp.ToMicroseconds()\n",
    "            \n",
    "            return micro_x\n",
    "        else:\n",
    "            return np.nan\n",
    "    #        \n",
    "    \n",
    "    for d in datetimeCols:\n",
    "        #Check whick column contain null value if so, convert float64 to int 32\"\n",
    "        dfUpsert[d]=dfUpsert[d].apply(convert_string_to_datetime_timestamp_microseconds)\n",
    "        dfUpsert[d]=dfUpsert[d].astype('Int64')\n",
    "        \n",
    "# #         # handle null datetime value(workaround) \n",
    "        # dfUpsert[d] = dfUpsert[d].fillna(0)\n",
    "        \n",
    "dfUpsert.info()\n",
    "dfUpsert"
   ]
  },
  {
   "cell_type": "markdown",
   "id": "9186a835-e923-48d6-8a8d-865fcdcaab13",
   "metadata": {
    "tags": []
   },
   "source": [
    "# Delete dataframe tranformation"
   ]
  },
  {
   "cell_type": "code",
   "execution_count": 31,
   "id": "862311b0-f73c-4afd-b009-ced45da2df72",
   "metadata": {
    "tags": []
   },
   "outputs": [
    {
     "name": "stdout",
     "output_type": "stream",
     "text": [
      "<class 'pandas.core.frame.DataFrame'>\n",
      "Index: 0 entries\n",
      "Data columns (total 2 columns):\n",
      " #   Column        Non-Null Count  Dtype \n",
      "---  ------        --------------  ----- \n",
      " 0   incident_id   0 non-null      int64 \n",
      " 1   _CHANGE_TYPE  0 non-null      object\n",
      "dtypes: int64(1), object(1)\n",
      "memory usage: 0.0+ bytes\n"
     ]
    },
    {
     "data": {
      "text/html": [
       "<div>\n",
       "<style scoped>\n",
       "    .dataframe tbody tr th:only-of-type {\n",
       "        vertical-align: middle;\n",
       "    }\n",
       "\n",
       "    .dataframe tbody tr th {\n",
       "        vertical-align: top;\n",
       "    }\n",
       "\n",
       "    .dataframe thead th {\n",
       "        text-align: right;\n",
       "    }\n",
       "</style>\n",
       "<table border=\"1\" class=\"dataframe\">\n",
       "  <thead>\n",
       "    <tr style=\"text-align: right;\">\n",
       "      <th></th>\n",
       "      <th>incident_id</th>\n",
       "      <th>_CHANGE_TYPE</th>\n",
       "    </tr>\n",
       "  </thead>\n",
       "  <tbody>\n",
       "  </tbody>\n",
       "</table>\n",
       "</div>"
      ],
      "text/plain": [
       "Empty DataFrame\n",
       "Columns: [incident_id, _CHANGE_TYPE]\n",
       "Index: []"
      ]
     },
     "execution_count": 31,
     "metadata": {},
     "output_type": "execute_result"
    }
   ],
   "source": [
    "dfDelete=dfDelete[[view_name_id,\"_CHANGE_TYPE\"]]\n",
    "dfDelete.info()\n",
    "dfDelete"
   ]
  },
  {
   "cell_type": "markdown",
   "id": "43d4aa14-4aea-4871-986e-d2636d44201c",
   "metadata": {},
   "source": [
    "# Write Json File to ingest to BQ by Buffer Protocol"
   ]
  },
  {
   "cell_type": "code",
   "execution_count": 32,
   "id": "072deefa-6239-4e71-85af-f2c964fec39d",
   "metadata": {
    "tags": []
   },
   "outputs": [
    {
     "name": "stdout",
     "output_type": "stream",
     "text": [
      "incident_upsert.json\n"
     ]
    }
   ],
   "source": [
    "if  dfUpsert.empty==False:\n",
    "    upsert_json_file=\"incident_upsert.json\"\n",
    "    print(upsert_json_file)\n",
    "    json_file_path=os.path.join(upsert_json_file)\n",
    "\n",
    "    json_incident_data = json.loads(dfUpsert.to_json(orient = 'records'))\n",
    "    with open(upsert_json_file, \"w\") as outfile:\n",
    "        json.dump(json_incident_data, outfile)"
   ]
  },
  {
   "cell_type": "code",
   "execution_count": 33,
   "id": "9e153bfa-2034-4d3d-aa9b-77afc7c463a5",
   "metadata": {
    "tags": []
   },
   "outputs": [],
   "source": [
    "if  dfDelete.empty==False:\n",
    "    delete_json_file=\"incident_delete.json\"\n",
    "    print(delete_json_file)\n",
    "    json_file_path=os.path.join(delete_json_file)\n",
    "    json_incident_data = json.loads(dfDelete.to_json(orient = 'records'))\n",
    "    with open(json_file_path, \"w\") as outfile:\n",
    "        json.dump(json_incident_data, outfile)\n"
   ]
  },
  {
   "cell_type": "markdown",
   "id": "a0f5772b-55e4-4400-a201-4f3a724d1c13",
   "metadata": {},
   "source": [
    "# BufferProto to BQ "
   ]
  },
  {
   "cell_type": "code",
   "execution_count": 34,
   "id": "0306a11d-c0e4-434e-a546-013381456bb5",
   "metadata": {
    "tags": []
   },
   "outputs": [],
   "source": [
    "def get_data_pb2(view_name):\n",
    "    \n",
    "    x_data_pb2=None\n",
    "    if view_name == \"xyz_incident\": \n",
    "        x_data_pb2=pb2_incident.IncidentData()\n",
    "    else:\n",
    "        raise Exception(\"No specified view name to get data pb2\")\n",
    "        \n",
    "    return x_data_pb2"
   ]
  },
  {
   "cell_type": "code",
   "execution_count": null,
   "id": "8864e77c-c711-452f-9fc7-9fd6fc9c9dbd",
   "metadata": {},
   "outputs": [],
   "source": []
  },
  {
   "cell_type": "code",
   "execution_count": 35,
   "id": "304460e7-16fb-4747-9135-2e953bba8b15",
   "metadata": {
    "tags": []
   },
   "outputs": [
    {
     "name": "stdout",
     "output_type": "stream",
     "text": [
      "['incident_id', 'inventory_id', 'incident_type', 'service_type', 'severity', 'status', 'open_datetime', 'close_datetime', 'update_at', '_CHANGE_TYPE']\n"
     ]
    }
   ],
   "source": [
    "listColumns= df.columns.tolist()\n",
    "print(listColumns)"
   ]
  },
  {
   "cell_type": "code",
   "execution_count": 36,
   "id": "6c4a9585-ecbb-4968-b34e-9fc230b717d2",
   "metadata": {
    "tags": []
   },
   "outputs": [
    {
     "name": "stdout",
     "output_type": "stream",
     "text": [
      "<google.protobuf.pyext._message.MessageDescriptor object at 0x000001427DBA7DC0>\n"
     ]
    }
   ],
   "source": [
    "pb2_data=get_data_pb2(view_name)\n",
    "print(pb2_data.DESCRIPTOR)"
   ]
  },
  {
   "cell_type": "code",
   "execution_count": 38,
   "id": "603e79a8-43ee-4e1d-bb68-7031a3b00265",
   "metadata": {
    "tags": []
   },
   "outputs": [
    {
     "name": "stdout",
     "output_type": "stream",
     "text": [
      "OK\n",
      "Rows to table: 'projects/pongthorn/datasets/SMartDataAnalytics/tables/incident' have been written.\n"
     ]
    }
   ],
   "source": [
    "if os.path.exists(upsert_json_file):\n",
    "    print(\"OK\")\n",
    "    x.write_json_to_bq(listColumns=listColumns,\n",
    "                              x_data_pb2=pb2_data,\n",
    "                              json_data_file=upsert_json_file,\n",
    "                              project_name=projectId,\n",
    "                              dataset_name=main_dataset_id,\n",
    "                              table_name=table_name)\n",
    "                              \n",
    "\n"
   ]
  },
  {
   "cell_type": "code",
   "execution_count": null,
   "id": "73580b27-23c0-45d4-b65d-3d32b9f9e395",
   "metadata": {
    "tags": []
   },
   "outputs": [],
   "source": [
    "import json\n",
    " \n",
    "\n",
    " \n",
    "# returns JSON object as \n",
    "# a dictionary\n"
   ]
  },
  {
   "cell_type": "code",
   "execution_count": null,
   "id": "f9d4ce64-679a-4be8-9f7b-78539c7978bd",
   "metadata": {
    "tags": []
   },
   "outputs": [],
   "source": [
    "\n",
    "                              "
   ]
  },
  {
   "cell_type": "code",
   "execution_count": null,
   "id": "ff55a153-17e9-466f-a821-8c163716151d",
   "metadata": {},
   "outputs": [],
   "source": []
  },
  {
   "cell_type": "code",
   "execution_count": null,
   "id": "837255c9-72d1-43f1-bd2e-b2b3e1d639e1",
   "metadata": {},
   "outputs": [],
   "source": []
  },
  {
   "cell_type": "code",
   "execution_count": null,
   "id": "af8b5528-2919-400f-9a4d-023cc5dc6ef1",
   "metadata": {},
   "outputs": [],
   "source": []
  }
 ],
 "metadata": {
  "kernelspec": {
   "display_name": "Python 3 (ipykernel)",
   "language": "python",
   "name": "python3"
  },
  "language_info": {
   "codemirror_mode": {
    "name": "ipython",
    "version": 3
   },
   "file_extension": ".py",
   "mimetype": "text/x-python",
   "name": "python",
   "nbconvert_exporter": "python",
   "pygments_lexer": "ipython3",
   "version": "3.10.12"
  }
 },
 "nbformat": 4,
 "nbformat_minor": 5
}
